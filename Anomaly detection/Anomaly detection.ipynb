{
 "cells": [
  {
   "cell_type": "markdown",
   "metadata": {},
   "source": [
    "# Project Task: \n",
    "Assessing the Impact of Tea Advertising on Television on Tea Sales"
   ]
  },
  {
   "cell_type": "code",
   "execution_count": 315,
   "metadata": {},
   "outputs": [],
   "source": [
    "import pandas as pd\n",
    "import re\n",
    "from datetime import datetime\n",
    "import seaborn as sns\n",
    "import scipy\n",
    "from sklearn.cluster import DBSCAN\n",
    "from sklearn.cluster import AgglomerativeClustering\n",
    "from sklearn import preprocessing\n",
    "from sklearn.decomposition import PCA\n",
    "from sklearn.cluster import KMeans\n",
    "from matplotlib import pyplot as plt\n",
    "import numpy as np\n",
    "from matplotlib import pyplot\n",
    "from sklearn.linear_model import LinearRegression\n",
    "from sklearn.model_selection import TimeSeriesSplit\n",
    "from sklearn.metrics import mean_absolute_error\n",
    "from sklearn.metrics import mean_squared_error\n",
    "from sklearn.cluster import DBSCAN\n",
    "from sklearn.cluster import AgglomerativeClustering"
   ]
  },
  {
   "cell_type": "code",
   "execution_count": 260,
   "metadata": {
    "scrolled": true
   },
   "outputs": [
    {
     "data": {
      "text/html": [
       "<div>\n",
       "<style scoped>\n",
       "    .dataframe tbody tr th:only-of-type {\n",
       "        vertical-align: middle;\n",
       "    }\n",
       "\n",
       "    .dataframe tbody tr th {\n",
       "        vertical-align: top;\n",
       "    }\n",
       "\n",
       "    .dataframe thead th {\n",
       "        text-align: right;\n",
       "    }\n",
       "</style>\n",
       "<table border=\"1\" class=\"dataframe\">\n",
       "  <thead>\n",
       "    <tr style=\"text-align: right;\">\n",
       "      <th></th>\n",
       "      <th>brand_id\\tdate\\treceipts_count</th>\n",
       "    </tr>\n",
       "  </thead>\n",
       "  <tbody>\n",
       "    <tr>\n",
       "      <th>0</th>\n",
       "      <td>5152\\t2016-07-01\\t98</td>\n",
       "    </tr>\n",
       "    <tr>\n",
       "      <th>1</th>\n",
       "      <td>178\\t2016-07-01\\t234</td>\n",
       "    </tr>\n",
       "    <tr>\n",
       "      <th>2</th>\n",
       "      <td>29\\t2016-07-01\\t622</td>\n",
       "    </tr>\n",
       "    <tr>\n",
       "      <th>3</th>\n",
       "      <td>5152\\t2016-07-02\\t87</td>\n",
       "    </tr>\n",
       "    <tr>\n",
       "      <th>4</th>\n",
       "      <td>178\\t2016-07-02\\t185</td>\n",
       "    </tr>\n",
       "  </tbody>\n",
       "</table>\n",
       "</div>"
      ],
      "text/plain": [
       "  brand_id\\tdate\\treceipts_count\n",
       "0           5152\\t2016-07-01\\t98\n",
       "1           178\\t2016-07-01\\t234\n",
       "2            29\\t2016-07-01\\t622\n",
       "3           5152\\t2016-07-02\\t87\n",
       "4           178\\t2016-07-02\\t185"
      ]
     },
     "execution_count": 260,
     "metadata": {},
     "output_type": "execute_result"
    }
   ],
   "source": [
    "df = pd.read_csv(\"tea_demand.csv\")\n",
    "df.head()"
   ]
  },
  {
   "cell_type": "code",
   "execution_count": 261,
   "metadata": {},
   "outputs": [
    {
     "data": {
      "text/html": [
       "<div>\n",
       "<style scoped>\n",
       "    .dataframe tbody tr th:only-of-type {\n",
       "        vertical-align: middle;\n",
       "    }\n",
       "\n",
       "    .dataframe tbody tr th {\n",
       "        vertical-align: top;\n",
       "    }\n",
       "\n",
       "    .dataframe thead th {\n",
       "        text-align: right;\n",
       "    }\n",
       "</style>\n",
       "<table border=\"1\" class=\"dataframe\">\n",
       "  <thead>\n",
       "    <tr style=\"text-align: right;\">\n",
       "      <th></th>\n",
       "      <th>date</th>\n",
       "      <th>receipts_count</th>\n",
       "      <th>brand_id</th>\n",
       "    </tr>\n",
       "  </thead>\n",
       "  <tbody>\n",
       "    <tr>\n",
       "      <th>0</th>\n",
       "      <td>2016-07-01</td>\n",
       "      <td>98</td>\n",
       "      <td>5152</td>\n",
       "    </tr>\n",
       "    <tr>\n",
       "      <th>1</th>\n",
       "      <td>2016-07-01</td>\n",
       "      <td>234</td>\n",
       "      <td>178</td>\n",
       "    </tr>\n",
       "    <tr>\n",
       "      <th>2</th>\n",
       "      <td>2016-07-01</td>\n",
       "      <td>622</td>\n",
       "      <td>29</td>\n",
       "    </tr>\n",
       "    <tr>\n",
       "      <th>3</th>\n",
       "      <td>2016-07-02</td>\n",
       "      <td>87</td>\n",
       "      <td>5152</td>\n",
       "    </tr>\n",
       "    <tr>\n",
       "      <th>4</th>\n",
       "      <td>2016-07-02</td>\n",
       "      <td>185</td>\n",
       "      <td>178</td>\n",
       "    </tr>\n",
       "  </tbody>\n",
       "</table>\n",
       "</div>"
      ],
      "text/plain": [
       "        date  receipts_count  brand_id\n",
       "0 2016-07-01              98      5152\n",
       "1 2016-07-01             234       178\n",
       "2 2016-07-01             622        29\n",
       "3 2016-07-02              87      5152\n",
       "4 2016-07-02             185       178"
      ]
     },
     "execution_count": 261,
     "metadata": {},
     "output_type": "execute_result"
    }
   ],
   "source": [
    "df[\"date\"] = df['brand_id\\tdate\\treceipts_count'].apply(lambda x: datetime.strptime(x.split(\"\\t\")[1], '%Y-%m-%d'))\n",
    "df[\"receipts_count\"] = df['brand_id\\tdate\\treceipts_count'].apply(lambda x: int(x.split(\"\\t\")[2]))\n",
    "df[\"brand_id\"] = df['brand_id\\tdate\\treceipts_count'].apply(lambda x: int(x.split(\"\\t\")[0]))\n",
    "df.drop(['brand_id\\tdate\\treceipts_count'], inplace = True, axis = 1)\n",
    "df.head()"
   ]
  },
  {
   "cell_type": "code",
   "execution_count": 262,
   "metadata": {
    "scrolled": true
   },
   "outputs": [
    {
     "data": {
      "text/html": [
       "<div>\n",
       "<style scoped>\n",
       "    .dataframe tbody tr th:only-of-type {\n",
       "        vertical-align: middle;\n",
       "    }\n",
       "\n",
       "    .dataframe tbody tr th {\n",
       "        vertical-align: top;\n",
       "    }\n",
       "\n",
       "    .dataframe thead th {\n",
       "        text-align: right;\n",
       "    }\n",
       "</style>\n",
       "<table border=\"1\" class=\"dataframe\">\n",
       "  <thead>\n",
       "    <tr style=\"text-align: right;\">\n",
       "      <th></th>\n",
       "      <th>receipts_count</th>\n",
       "    </tr>\n",
       "    <tr>\n",
       "      <th>date</th>\n",
       "      <th></th>\n",
       "    </tr>\n",
       "  </thead>\n",
       "  <tbody>\n",
       "    <tr>\n",
       "      <th>2016-07-01</th>\n",
       "      <td>954</td>\n",
       "    </tr>\n",
       "    <tr>\n",
       "      <th>2016-07-02</th>\n",
       "      <td>852</td>\n",
       "    </tr>\n",
       "    <tr>\n",
       "      <th>2016-07-03</th>\n",
       "      <td>982</td>\n",
       "    </tr>\n",
       "    <tr>\n",
       "      <th>2016-07-04</th>\n",
       "      <td>887</td>\n",
       "    </tr>\n",
       "    <tr>\n",
       "      <th>2016-07-05</th>\n",
       "      <td>1002</td>\n",
       "    </tr>\n",
       "  </tbody>\n",
       "</table>\n",
       "</div>"
      ],
      "text/plain": [
       "            receipts_count\n",
       "date                      \n",
       "2016-07-01             954\n",
       "2016-07-02             852\n",
       "2016-07-03             982\n",
       "2016-07-04             887\n",
       "2016-07-05            1002"
      ]
     },
     "execution_count": 262,
     "metadata": {},
     "output_type": "execute_result"
    }
   ],
   "source": [
    "# Group sales by date and vendor\n",
    "df = df.groupby(['date']).sum()\n",
    "df.drop(['brand_id'], inplace = True, axis = 1)\n",
    "df.head()"
   ]
  },
  {
   "cell_type": "markdown",
   "metadata": {},
   "source": [
    "Look at the time series of sales"
   ]
  },
  {
   "cell_type": "code",
   "execution_count": 263,
   "metadata": {
    "scrolled": true
   },
   "outputs": [
    {
     "data": {
      "text/plain": [
       "<AxesSubplot:xlabel='date'>"
      ]
     },
     "execution_count": 263,
     "metadata": {},
     "output_type": "execute_result"
    },
    {
     "data": {
      "image/png": "[encoded data removed]",
      "text/plain": [
       "<Figure size 432x288 with 1 Axes>"
      ]
     },
     "metadata": {
      "needs_background": "light"
     },
     "output_type": "display_data"
    }
   ],
   "source": [
    "df.receipts_count.plot()"
   ]
  },
  {
   "cell_type": "markdown",
   "metadata": {},
   "source": [
    "The graph shows spikes in sales on some days. Let's check if these jumps are caused by advertising produced in the TV program \"What? Where? When?\""
   ]
  },
  {
   "cell_type": "markdown",
   "metadata": {},
   "source": [
    "### Parsing"
   ]
  },
  {
   "cell_type": "markdown",
   "metadata": {},
   "source": [
    "Since there is not much data in tea_demand.csv, it does not make sense to parse all the release dates of the program since 1975. In my opinion, it would be enough to manually google the dates for a certain period."
   ]
  },
  {
   "cell_type": "markdown",
   "metadata": {},
   "source": [
    "Define the boundaries of the time interval"
   ]
  },
  {
   "cell_type": "code",
   "execution_count": 35,
   "metadata": {},
   "outputs": [
    {
     "data": {
      "text/plain": [
       "Timestamp('2016-07-01 00:00:00')"
      ]
     },
     "execution_count": 35,
     "metadata": {},
     "output_type": "execute_result"
    }
   ],
   "source": [
    "df.date.min()"
   ]
  },
  {
   "cell_type": "code",
   "execution_count": 36,
   "metadata": {},
   "outputs": [
    {
     "data": {
      "text/plain": [
       "Timestamp('2016-11-30 00:00:00')"
      ]
     },
     "execution_count": 36,
     "metadata": {},
     "output_type": "execute_result"
    }
   ],
   "source": [
    "df.date.max()"
   ]
  },
  {
   "cell_type": "markdown",
   "metadata": {},
   "source": [
    "So, we are interested in data from July 1, 2016 to November 30, 2016. According to google, there were only 7 such broadcasts during this period, parsing with python in this case is absolutely inadequate.\n",
    "\n",
    "Show release dates:"
   ]
  },
  {
   "cell_type": "markdown",
   "metadata": {},
   "source": [
    "25 - 09 - 2016\t\n",
    "\n",
    "2 - 10 - 2016\t\n",
    "\n",
    "9 - 10 - 2016\t\n",
    "\n",
    "16 - 10 - 2016\t\n",
    "\n",
    "23 - 10 - 2016\t\n",
    "\n",
    "21 - 11 - 2016\t\n",
    "\n",
    "28 - 11 - 2016"
   ]
  },
  {
   "cell_type": "code",
   "execution_count": 194,
   "metadata": {},
   "outputs": [],
   "source": [
    "show_these_dates = ['2016-09-25', '2016-10-02', '2016-10-09', '2016-10-16', \n",
    "                    '2016-10-23', '2016-11-21', '2016-11-28']\n",
    "#df[df['date'] in [show_these_dates]]"
   ]
  },
  {
   "cell_type": "markdown",
   "metadata": {},
   "source": [
    "### Let's build a model that predicts the value of the time series of sales."
   ]
  },
  {
   "cell_type": "markdown",
   "metadata": {},
   "source": [
    "Try a moving average model. Let's try to take 7 days (a week) window. Then we compare the result with the last 7 days, which were not used in the calculation of the moving average."
   ]
  },
  {
   "cell_type": "code",
   "execution_count": 284,
   "metadata": {},
   "outputs": [
    {
     "data": {
      "text/plain": [
       "DatetimeIndex(['2016-07-08', '2016-07-09', '2016-07-10', '2016-07-11',\n",
       "               '2016-07-12', '2016-07-13', '2016-07-14', '2016-07-15',\n",
       "               '2016-07-16', '2016-07-17',\n",
       "               ...\n",
       "               '2016-11-21', '2016-11-22', '2016-11-23', '2016-11-24',\n",
       "               '2016-11-25', '2016-11-26', '2016-11-27', '2016-11-28',\n",
       "               '2016-11-29', '2016-11-30'],\n",
       "              dtype='datetime64[ns]', name='date', length=146, freq=None)"
      ]
     },
     "execution_count": 284,
     "metadata": {},
     "output_type": "execute_result"
    }
   ],
   "source": [
    "df[moving_average_days:].index"
   ]
  },
  {
   "cell_type": "code",
   "execution_count": 288,
   "metadata": {},
   "outputs": [
    {
     "name": "stdout",
     "output_type": "stream",
     "text": [
      "(7,) (7,)\n",
      "mean_squared_error 139483.97667638486\n",
      "mean_absolute_error 257.3877551020408\n"
     ]
    },
    {
     "data": {
      "text/plain": [
       "<matplotlib.legend.Legend at 0x7fb5b3ac11c0>"
      ]
     },
     "execution_count": 288,
     "metadata": {},
     "output_type": "execute_result"
    },
    {
     "data": {
      "image/png": "[encoded data removed]",
      "text/plain": [
       "<Figure size 1080x432 with 1 Axes>"
      ]
     },
     "metadata": {
      "needs_background": "light"
     },
     "output_type": "display_data"
    }
   ],
   "source": [
    "def moving_average_forecast(series, window_size):\n",
    "    forecast = []\n",
    "    for time in range(len(series) - window_size):\n",
    "        forecast.append(series[time:time + window_size].mean())\n",
    "    return np.array(forecast)\n",
    "moving_average_days = 7\n",
    "\n",
    "shown_train_size = moving_average_days * 3\n",
    "moving_avg = moving_average_forecast(df.receipts_count, moving_average_days )\n",
    "moving_avg = pd.Series(moving_avg, index = df[moving_average_days:].index)\n",
    "\n",
    "print(moving_avg[-moving_average_days:].shape, df.receipts_count[-moving_average_days:].shape)\n",
    "\n",
    "print(\"mean_squared_error\",mean_squared_error(df.values[-moving_average_days:], moving_avg[-moving_average_days:]))\n",
    "print(\"mean_absolute_error\",mean_absolute_error(df.values[-moving_average_days:], moving_avg[-moving_average_days:]))\n",
    "\n",
    "plt.figure(figsize=(15,6))\n",
    "\n",
    "plt.plot(df[- shown_train_size:], label=\"Actual\")\n",
    "plt.plot(moving_avg[-moving_average_days:], label=\"Moving average prediction\")\n",
    "plt.ylabel(\"Total Sold\")\n",
    "plt.xlabel(\"Day\")\n",
    "plt.title(\"Moving Average Forecast\")\n",
    "plt.legend(loc=\"upper right\")"
   ]
  },
  {
   "cell_type": "markdown",
   "metadata": {},
   "source": [
    "The forecast is not perfect, however, this model predicts the trend quite ok, since the silhouettes of the charts are similar."
   ]
  },
  {
   "cell_type": "code",
   "execution_count": 305,
   "metadata": {},
   "outputs": [],
   "source": [
    "anomaly_df = pd.DataFrame()\n",
    "anomaly_df['date'] = df[moving_average_days:].index\n",
    "anomaly_df['value'] = df.receipts_count[moving_average_days:].values\n",
    "anomaly_df['predicted'] = moving_avg.values"
   ]
  },
  {
   "cell_type": "code",
   "execution_count": 306,
   "metadata": {},
   "outputs": [
    {
     "data": {
      "text/html": [
       "<div>\n",
       "<style scoped>\n",
       "    .dataframe tbody tr th:only-of-type {\n",
       "        vertical-align: middle;\n",
       "    }\n",
       "\n",
       "    .dataframe tbody tr th {\n",
       "        vertical-align: top;\n",
       "    }\n",
       "\n",
       "    .dataframe thead th {\n",
       "        text-align: right;\n",
       "    }\n",
       "</style>\n",
       "<table border=\"1\" class=\"dataframe\">\n",
       "  <thead>\n",
       "    <tr style=\"text-align: right;\">\n",
       "      <th></th>\n",
       "      <th>date</th>\n",
       "      <th>value</th>\n",
       "      <th>predicted</th>\n",
       "    </tr>\n",
       "  </thead>\n",
       "  <tbody>\n",
       "    <tr>\n",
       "      <th>0</th>\n",
       "      <td>2016-07-08</td>\n",
       "      <td>1049</td>\n",
       "      <td>970.000000</td>\n",
       "    </tr>\n",
       "    <tr>\n",
       "      <th>1</th>\n",
       "      <td>2016-07-09</td>\n",
       "      <td>951</td>\n",
       "      <td>983.571429</td>\n",
       "    </tr>\n",
       "    <tr>\n",
       "      <th>2</th>\n",
       "      <td>2016-07-10</td>\n",
       "      <td>896</td>\n",
       "      <td>997.714286</td>\n",
       "    </tr>\n",
       "    <tr>\n",
       "      <th>3</th>\n",
       "      <td>2016-07-11</td>\n",
       "      <td>1020</td>\n",
       "      <td>985.428571</td>\n",
       "    </tr>\n",
       "    <tr>\n",
       "      <th>4</th>\n",
       "      <td>2016-07-12</td>\n",
       "      <td>922</td>\n",
       "      <td>1004.428571</td>\n",
       "    </tr>\n",
       "    <tr>\n",
       "      <th>...</th>\n",
       "      <td>...</td>\n",
       "      <td>...</td>\n",
       "      <td>...</td>\n",
       "    </tr>\n",
       "    <tr>\n",
       "      <th>141</th>\n",
       "      <td>2016-11-26</td>\n",
       "      <td>1079</td>\n",
       "      <td>1046.000000</td>\n",
       "    </tr>\n",
       "    <tr>\n",
       "      <th>142</th>\n",
       "      <td>2016-11-27</td>\n",
       "      <td>1081</td>\n",
       "      <td>1040.571429</td>\n",
       "    </tr>\n",
       "    <tr>\n",
       "      <th>143</th>\n",
       "      <td>2016-11-28</td>\n",
       "      <td>1417</td>\n",
       "      <td>1043.571429</td>\n",
       "    </tr>\n",
       "    <tr>\n",
       "      <th>144</th>\n",
       "      <td>2016-11-29</td>\n",
       "      <td>1746</td>\n",
       "      <td>1101.428571</td>\n",
       "    </tr>\n",
       "    <tr>\n",
       "      <th>145</th>\n",
       "      <td>2016-11-30</td>\n",
       "      <td>1839</td>\n",
       "      <td>1194.285714</td>\n",
       "    </tr>\n",
       "  </tbody>\n",
       "</table>\n",
       "<p>146 rows × 3 columns</p>\n",
       "</div>"
      ],
      "text/plain": [
       "          date  value    predicted\n",
       "0   2016-07-08   1049   970.000000\n",
       "1   2016-07-09    951   983.571429\n",
       "2   2016-07-10    896   997.714286\n",
       "3   2016-07-11   1020   985.428571\n",
       "4   2016-07-12    922  1004.428571\n",
       "..         ...    ...          ...\n",
       "141 2016-11-26   1079  1046.000000\n",
       "142 2016-11-27   1081  1040.571429\n",
       "143 2016-11-28   1417  1043.571429\n",
       "144 2016-11-29   1746  1101.428571\n",
       "145 2016-11-30   1839  1194.285714\n",
       "\n",
       "[146 rows x 3 columns]"
      ]
     },
     "execution_count": 306,
     "metadata": {},
     "output_type": "execute_result"
    }
   ],
   "source": [
    "anomaly_df"
   ]
  },
  {
   "cell_type": "markdown",
   "metadata": {},
   "source": [
    "### Anomaly detection using BoxPlot and IQR"
   ]
  },
  {
   "cell_type": "code",
   "execution_count": 309,
   "metadata": {},
   "outputs": [
    {
     "data": {
      "text/plain": [
       "<AxesSubplot:xlabel='receipts_count'>"
      ]
     },
     "execution_count": 309,
     "metadata": {},
     "output_type": "execute_result"
    },
    {
     "data": {
      "image/png": "[encoded data removed]",
      "text/plain": [
       "<Figure size 432x288 with 1 Axes>"
      ]
     },
     "metadata": {
      "needs_background": "light"
     },
     "output_type": "display_data"
    }
   ],
   "source": [
    "# Let's build a BoxPlot and see if there are outliers\n",
    "sns.boxplot(df.receipts_count)"
   ]
  },
  {
   "cell_type": "markdown",
   "metadata": {},
   "source": [
    "We see that the number of checks > 1500 can potentially be an outlier"
   ]
  },
  {
   "cell_type": "markdown",
   "metadata": {},
   "source": [
    "Let's count the number of anomalies"
   ]
  },
  {
   "cell_type": "code",
   "execution_count": 310,
   "metadata": {
    "scrolled": true
   },
   "outputs": [
    {
     "name": "stdout",
     "output_type": "stream",
     "text": [
      "Количество аномальных точек: 5\n"
     ]
    }
   ],
   "source": [
    "Q1 = df.receipts_count.quantile(0.25)\n",
    "Q3 = df.receipts_count.quantile(0.75)\n",
    "IQR = Q3 - Q1\n",
    "outliers = df[(df['receipts_count'] > (Q3+1.5*IQR)) \n",
    "                        | (df['receipts_count'] < (Q1-1.5*IQR))].reset_index()\n",
    "\n",
    "print('Number of anomalies: {:.0f}'.format(len(outliers)))"
   ]
  },
  {
   "cell_type": "markdown",
   "metadata": {},
   "source": [
    "### Anomaly detection using DBSCAN"
   ]
  },
  {
   "cell_type": "code",
   "execution_count": 312,
   "metadata": {},
   "outputs": [],
   "source": [
    "dbscan = DBSCAN(eps=1)"
   ]
  },
  {
   "cell_type": "code",
   "execution_count": 313,
   "metadata": {},
   "outputs": [
    {
     "data": {
      "text/html": [
       "<div>\n",
       "<style scoped>\n",
       "    .dataframe tbody tr th:only-of-type {\n",
       "        vertical-align: middle;\n",
       "    }\n",
       "\n",
       "    .dataframe tbody tr th {\n",
       "        vertical-align: top;\n",
       "    }\n",
       "\n",
       "    .dataframe thead th {\n",
       "        text-align: right;\n",
       "    }\n",
       "</style>\n",
       "<table border=\"1\" class=\"dataframe\">\n",
       "  <thead>\n",
       "    <tr style=\"text-align: right;\">\n",
       "      <th></th>\n",
       "      <th>date</th>\n",
       "      <th>value</th>\n",
       "      <th>predicted</th>\n",
       "      <th>is_anomaly_dbscan</th>\n",
       "    </tr>\n",
       "  </thead>\n",
       "  <tbody>\n",
       "    <tr>\n",
       "      <th>0</th>\n",
       "      <td>2016-07-08</td>\n",
       "      <td>1049</td>\n",
       "      <td>970.000000</td>\n",
       "      <td>0</td>\n",
       "    </tr>\n",
       "    <tr>\n",
       "      <th>1</th>\n",
       "      <td>2016-07-09</td>\n",
       "      <td>951</td>\n",
       "      <td>983.571429</td>\n",
       "      <td>-1</td>\n",
       "    </tr>\n",
       "    <tr>\n",
       "      <th>2</th>\n",
       "      <td>2016-07-10</td>\n",
       "      <td>896</td>\n",
       "      <td>997.714286</td>\n",
       "      <td>-1</td>\n",
       "    </tr>\n",
       "    <tr>\n",
       "      <th>3</th>\n",
       "      <td>2016-07-11</td>\n",
       "      <td>1020</td>\n",
       "      <td>985.428571</td>\n",
       "      <td>-1</td>\n",
       "    </tr>\n",
       "    <tr>\n",
       "      <th>4</th>\n",
       "      <td>2016-07-12</td>\n",
       "      <td>922</td>\n",
       "      <td>1004.428571</td>\n",
       "      <td>-1</td>\n",
       "    </tr>\n",
       "  </tbody>\n",
       "</table>\n",
       "</div>"
      ],
      "text/plain": [
       "        date  value    predicted  is_anomaly_dbscan\n",
       "0 2016-07-08   1049   970.000000                  0\n",
       "1 2016-07-09    951   983.571429                 -1\n",
       "2 2016-07-10    896   997.714286                 -1\n",
       "3 2016-07-11   1020   985.428571                 -1\n",
       "4 2016-07-12    922  1004.428571                 -1"
      ]
     },
     "execution_count": 313,
     "metadata": {},
     "output_type": "execute_result"
    }
   ],
   "source": [
    "anomaly_df['is_anomaly_dbscan'] = dbscan.fit_predict(anomaly_df['value'].values.reshape(-1, 1))\n",
    "anomaly_df.head()"
   ]
  },
  {
   "cell_type": "code",
   "execution_count": 314,
   "metadata": {},
   "outputs": [
    {
     "data": {
      "text/html": [
       "<div>\n",
       "<style scoped>\n",
       "    .dataframe tbody tr th:only-of-type {\n",
       "        vertical-align: middle;\n",
       "    }\n",
       "\n",
       "    .dataframe tbody tr th {\n",
       "        vertical-align: top;\n",
       "    }\n",
       "\n",
       "    .dataframe thead th {\n",
       "        text-align: right;\n",
       "    }\n",
       "</style>\n",
       "<table border=\"1\" class=\"dataframe\">\n",
       "  <thead>\n",
       "    <tr style=\"text-align: right;\">\n",
       "      <th></th>\n",
       "      <th>date</th>\n",
       "      <th>value</th>\n",
       "      <th>predicted</th>\n",
       "      <th>is_anomaly_dbscan</th>\n",
       "    </tr>\n",
       "  </thead>\n",
       "  <tbody>\n",
       "    <tr>\n",
       "      <th>1</th>\n",
       "      <td>2016-07-09</td>\n",
       "      <td>951</td>\n",
       "      <td>983.571429</td>\n",
       "      <td>-1</td>\n",
       "    </tr>\n",
       "    <tr>\n",
       "      <th>2</th>\n",
       "      <td>2016-07-10</td>\n",
       "      <td>896</td>\n",
       "      <td>997.714286</td>\n",
       "      <td>-1</td>\n",
       "    </tr>\n",
       "    <tr>\n",
       "      <th>3</th>\n",
       "      <td>2016-07-11</td>\n",
       "      <td>1020</td>\n",
       "      <td>985.428571</td>\n",
       "      <td>-1</td>\n",
       "    </tr>\n",
       "    <tr>\n",
       "      <th>4</th>\n",
       "      <td>2016-07-12</td>\n",
       "      <td>922</td>\n",
       "      <td>1004.428571</td>\n",
       "      <td>-1</td>\n",
       "    </tr>\n",
       "    <tr>\n",
       "      <th>5</th>\n",
       "      <td>2016-07-13</td>\n",
       "      <td>1062</td>\n",
       "      <td>993.000000</td>\n",
       "      <td>-1</td>\n",
       "    </tr>\n",
       "    <tr>\n",
       "      <th>...</th>\n",
       "      <td>...</td>\n",
       "      <td>...</td>\n",
       "      <td>...</td>\n",
       "      <td>...</td>\n",
       "    </tr>\n",
       "    <tr>\n",
       "      <th>141</th>\n",
       "      <td>2016-11-26</td>\n",
       "      <td>1079</td>\n",
       "      <td>1046.000000</td>\n",
       "      <td>-1</td>\n",
       "    </tr>\n",
       "    <tr>\n",
       "      <th>142</th>\n",
       "      <td>2016-11-27</td>\n",
       "      <td>1081</td>\n",
       "      <td>1040.571429</td>\n",
       "      <td>-1</td>\n",
       "    </tr>\n",
       "    <tr>\n",
       "      <th>143</th>\n",
       "      <td>2016-11-28</td>\n",
       "      <td>1417</td>\n",
       "      <td>1043.571429</td>\n",
       "      <td>-1</td>\n",
       "    </tr>\n",
       "    <tr>\n",
       "      <th>144</th>\n",
       "      <td>2016-11-29</td>\n",
       "      <td>1746</td>\n",
       "      <td>1101.428571</td>\n",
       "      <td>-1</td>\n",
       "    </tr>\n",
       "    <tr>\n",
       "      <th>145</th>\n",
       "      <td>2016-11-30</td>\n",
       "      <td>1839</td>\n",
       "      <td>1194.285714</td>\n",
       "      <td>-1</td>\n",
       "    </tr>\n",
       "  </tbody>\n",
       "</table>\n",
       "<p>141 rows × 4 columns</p>\n",
       "</div>"
      ],
      "text/plain": [
       "          date  value    predicted  is_anomaly_dbscan\n",
       "1   2016-07-09    951   983.571429                 -1\n",
       "2   2016-07-10    896   997.714286                 -1\n",
       "3   2016-07-11   1020   985.428571                 -1\n",
       "4   2016-07-12    922  1004.428571                 -1\n",
       "5   2016-07-13   1062   993.000000                 -1\n",
       "..         ...    ...          ...                ...\n",
       "141 2016-11-26   1079  1046.000000                 -1\n",
       "142 2016-11-27   1081  1040.571429                 -1\n",
       "143 2016-11-28   1417  1043.571429                 -1\n",
       "144 2016-11-29   1746  1101.428571                 -1\n",
       "145 2016-11-30   1839  1194.285714                 -1\n",
       "\n",
       "[141 rows x 4 columns]"
      ]
     },
     "execution_count": 314,
     "metadata": {},
     "output_type": "execute_result"
    }
   ],
   "source": [
    "# Detected anomalies\n",
    "anomaly_df[anomaly_df.is_anomaly_dbscan < 0]"
   ]
  },
  {
   "cell_type": "markdown",
   "metadata": {},
   "source": [
    "DBscan found much more anomalies - 141"
   ]
  },
  {
   "cell_type": "markdown",
   "metadata": {},
   "source": [
    "### Anomaly detection using agglomerative clustering"
   ]
  },
  {
   "cell_type": "code",
   "execution_count": 316,
   "metadata": {},
   "outputs": [],
   "source": [
    "agglom = AgglomerativeClustering(n_clusters=None, distance_threshold=1)"
   ]
  },
  {
   "cell_type": "code",
   "execution_count": 317,
   "metadata": {},
   "outputs": [
    {
     "data": {
      "text/html": [
       "<div>\n",
       "<style scoped>\n",
       "    .dataframe tbody tr th:only-of-type {\n",
       "        vertical-align: middle;\n",
       "    }\n",
       "\n",
       "    .dataframe tbody tr th {\n",
       "        vertical-align: top;\n",
       "    }\n",
       "\n",
       "    .dataframe thead th {\n",
       "        text-align: right;\n",
       "    }\n",
       "</style>\n",
       "<table border=\"1\" class=\"dataframe\">\n",
       "  <thead>\n",
       "    <tr style=\"text-align: right;\">\n",
       "      <th></th>\n",
       "      <th>date</th>\n",
       "      <th>value</th>\n",
       "      <th>predicted</th>\n",
       "      <th>is_anomaly_dbscan</th>\n",
       "      <th>is_anomaly_prediction_agglom</th>\n",
       "    </tr>\n",
       "  </thead>\n",
       "  <tbody>\n",
       "    <tr>\n",
       "      <th>0</th>\n",
       "      <td>2016-07-08</td>\n",
       "      <td>1049</td>\n",
       "      <td>970.000000</td>\n",
       "      <td>0</td>\n",
       "      <td>129</td>\n",
       "    </tr>\n",
       "    <tr>\n",
       "      <th>1</th>\n",
       "      <td>2016-07-09</td>\n",
       "      <td>951</td>\n",
       "      <td>983.571429</td>\n",
       "      <td>-1</td>\n",
       "      <td>128</td>\n",
       "    </tr>\n",
       "    <tr>\n",
       "      <th>2</th>\n",
       "      <td>2016-07-10</td>\n",
       "      <td>896</td>\n",
       "      <td>997.714286</td>\n",
       "      <td>-1</td>\n",
       "      <td>25</td>\n",
       "    </tr>\n",
       "    <tr>\n",
       "      <th>3</th>\n",
       "      <td>2016-07-11</td>\n",
       "      <td>1020</td>\n",
       "      <td>985.428571</td>\n",
       "      <td>-1</td>\n",
       "      <td>106</td>\n",
       "    </tr>\n",
       "    <tr>\n",
       "      <th>4</th>\n",
       "      <td>2016-07-12</td>\n",
       "      <td>922</td>\n",
       "      <td>1004.428571</td>\n",
       "      <td>-1</td>\n",
       "      <td>12</td>\n",
       "    </tr>\n",
       "  </tbody>\n",
       "</table>\n",
       "</div>"
      ],
      "text/plain": [
       "        date  value    predicted  is_anomaly_dbscan  \\\n",
       "0 2016-07-08   1049   970.000000                  0   \n",
       "1 2016-07-09    951   983.571429                 -1   \n",
       "2 2016-07-10    896   997.714286                 -1   \n",
       "3 2016-07-11   1020   985.428571                 -1   \n",
       "4 2016-07-12    922  1004.428571                 -1   \n",
       "\n",
       "   is_anomaly_prediction_agglom  \n",
       "0                           129  \n",
       "1                           128  \n",
       "2                            25  \n",
       "3                           106  \n",
       "4                            12  "
      ]
     },
     "execution_count": 317,
     "metadata": {},
     "output_type": "execute_result"
    }
   ],
   "source": [
    "anomaly_df['is_anomaly_prediction_agglom'] = agglom.fit_predict(anomaly_df['value'].values.reshape(-1, 1))\n",
    "anomaly_df.head()"
   ]
  },
  {
   "cell_type": "code",
   "execution_count": 318,
   "metadata": {},
   "outputs": [
    {
     "data": {
      "text/html": [
       "<div>\n",
       "<style scoped>\n",
       "    .dataframe tbody tr th:only-of-type {\n",
       "        vertical-align: middle;\n",
       "    }\n",
       "\n",
       "    .dataframe tbody tr th {\n",
       "        vertical-align: top;\n",
       "    }\n",
       "\n",
       "    .dataframe thead th {\n",
       "        text-align: right;\n",
       "    }\n",
       "</style>\n",
       "<table border=\"1\" class=\"dataframe\">\n",
       "  <thead>\n",
       "    <tr style=\"text-align: right;\">\n",
       "      <th></th>\n",
       "      <th>date</th>\n",
       "      <th>value</th>\n",
       "      <th>predicted</th>\n",
       "      <th>is_anomaly_dbscan</th>\n",
       "      <th>is_anomaly_prediction_agglom</th>\n",
       "    </tr>\n",
       "  </thead>\n",
       "  <tbody>\n",
       "    <tr>\n",
       "      <th>0</th>\n",
       "      <td>2016-07-08</td>\n",
       "      <td>1049</td>\n",
       "      <td>970.000000</td>\n",
       "      <td>0</td>\n",
       "      <td>129</td>\n",
       "    </tr>\n",
       "    <tr>\n",
       "      <th>1</th>\n",
       "      <td>2016-07-09</td>\n",
       "      <td>951</td>\n",
       "      <td>983.571429</td>\n",
       "      <td>-1</td>\n",
       "      <td>128</td>\n",
       "    </tr>\n",
       "    <tr>\n",
       "      <th>3</th>\n",
       "      <td>2016-07-11</td>\n",
       "      <td>1020</td>\n",
       "      <td>985.428571</td>\n",
       "      <td>-1</td>\n",
       "      <td>106</td>\n",
       "    </tr>\n",
       "    <tr>\n",
       "      <th>5</th>\n",
       "      <td>2016-07-13</td>\n",
       "      <td>1062</td>\n",
       "      <td>993.000000</td>\n",
       "      <td>-1</td>\n",
       "      <td>101</td>\n",
       "    </tr>\n",
       "    <tr>\n",
       "      <th>6</th>\n",
       "      <td>2016-07-14</td>\n",
       "      <td>1053</td>\n",
       "      <td>992.571429</td>\n",
       "      <td>-1</td>\n",
       "      <td>127</td>\n",
       "    </tr>\n",
       "    <tr>\n",
       "      <th>...</th>\n",
       "      <td>...</td>\n",
       "      <td>...</td>\n",
       "      <td>...</td>\n",
       "      <td>...</td>\n",
       "      <td>...</td>\n",
       "    </tr>\n",
       "    <tr>\n",
       "      <th>141</th>\n",
       "      <td>2016-11-26</td>\n",
       "      <td>1079</td>\n",
       "      <td>1046.000000</td>\n",
       "      <td>-1</td>\n",
       "      <td>13</td>\n",
       "    </tr>\n",
       "    <tr>\n",
       "      <th>142</th>\n",
       "      <td>2016-11-27</td>\n",
       "      <td>1081</td>\n",
       "      <td>1040.571429</td>\n",
       "      <td>-1</td>\n",
       "      <td>8</td>\n",
       "    </tr>\n",
       "    <tr>\n",
       "      <th>143</th>\n",
       "      <td>2016-11-28</td>\n",
       "      <td>1417</td>\n",
       "      <td>1043.571429</td>\n",
       "      <td>-1</td>\n",
       "      <td>9</td>\n",
       "    </tr>\n",
       "    <tr>\n",
       "      <th>144</th>\n",
       "      <td>2016-11-29</td>\n",
       "      <td>1746</td>\n",
       "      <td>1101.428571</td>\n",
       "      <td>-1</td>\n",
       "      <td>3</td>\n",
       "    </tr>\n",
       "    <tr>\n",
       "      <th>145</th>\n",
       "      <td>2016-11-30</td>\n",
       "      <td>1839</td>\n",
       "      <td>1194.285714</td>\n",
       "      <td>-1</td>\n",
       "      <td>51</td>\n",
       "    </tr>\n",
       "  </tbody>\n",
       "</table>\n",
       "<p>115 rows × 5 columns</p>\n",
       "</div>"
      ],
      "text/plain": [
       "          date  value    predicted  is_anomaly_dbscan  \\\n",
       "0   2016-07-08   1049   970.000000                  0   \n",
       "1   2016-07-09    951   983.571429                 -1   \n",
       "3   2016-07-11   1020   985.428571                 -1   \n",
       "5   2016-07-13   1062   993.000000                 -1   \n",
       "6   2016-07-14   1053   992.571429                 -1   \n",
       "..         ...    ...          ...                ...   \n",
       "141 2016-11-26   1079  1046.000000                 -1   \n",
       "142 2016-11-27   1081  1040.571429                 -1   \n",
       "143 2016-11-28   1417  1043.571429                 -1   \n",
       "144 2016-11-29   1746  1101.428571                 -1   \n",
       "145 2016-11-30   1839  1194.285714                 -1   \n",
       "\n",
       "     is_anomaly_prediction_agglom  \n",
       "0                             129  \n",
       "1                             128  \n",
       "3                             106  \n",
       "5                             101  \n",
       "6                             127  \n",
       "..                            ...  \n",
       "141                            13  \n",
       "142                             8  \n",
       "143                             9  \n",
       "144                             3  \n",
       "145                            51  \n",
       "\n",
       "[115 rows x 5 columns]"
      ]
     },
     "execution_count": 318,
     "metadata": {},
     "output_type": "execute_result"
    }
   ],
   "source": [
    "valcount = anomaly_df['is_anomaly_prediction_agglom'].value_counts()\n",
    "valcount = set(valcount[valcount == 1].index)\n",
    "anomaly_df[anomaly_df.is_anomaly_prediction_agglom.isin(valcount)]"
   ]
  },
  {
   "cell_type": "markdown",
   "metadata": {},
   "source": [
    "Agglomerative clustering detected 115 anomalies"
   ]
  },
  {
   "cell_type": "markdown",
   "metadata": {},
   "source": [
    "### Anomaly detection using ML"
   ]
  },
  {
   "cell_type": "code",
   "execution_count": 319,
   "metadata": {},
   "outputs": [],
   "source": [
    "# Several Helper Methods\n",
    "\n",
    "def getDistanceByPoint(data, model):\n",
    "    # Calculation of distances from points to cluster centers\n",
    "    distance = []\n",
    "    for i in range(0,len(data)):\n",
    "        Xa = np.array(data.loc[i])\n",
    "        Xb = model.cluster_centers_[model.labels_[i]-1]\n",
    "        distance.append(np.linalg.norm(Xa-Xb))\n",
    "    distance = pd.Series(distance)    \n",
    "    return distance\n",
    "\n",
    "def getTransitionMatrix (df):\n",
    "    # Calculation of transition probabilities to the next state (stupid predictor)\n",
    "    df = np.array(df)\n",
    "    model = msm.estimate_markov_model(df, 1)\n",
    "    return model.transition_matrix\n",
    "\n",
    "def markovAnomaly(df, windows_size, threshold):\n",
    "    # Search for anomalies in the sequence of signals based on the Markov transition matrix\n",
    "    transition_matrix = getTransitionMatrix(df)\n",
    "    real_threshold = threshold**windows_size\n",
    "    df_anomaly = []\n",
    "    for j in range(0, len(df)):\n",
    "        if (j < windows_size):\n",
    "            df_anomaly.append(0)\n",
    "        else:\n",
    "            sequence = df[j-windows_size:j]\n",
    "            sequence = sequence.reset_index(drop=True)\n",
    "            df_anomaly.append(anomalyElement(sequence, real_threshold, transition_matrix))\n",
    "    return df_anomaly"
   ]
  },
  {
   "cell_type": "code",
   "execution_count": 330,
   "metadata": {},
   "outputs": [],
   "source": [
    "df_ml = pd.DataFrame()\n",
    "df_ml['date'] = df.index\n",
    "df_ml['value'] = df.receipts_count.values"
   ]
  },
  {
   "cell_type": "code",
   "execution_count": 331,
   "metadata": {},
   "outputs": [
    {
     "data": {
      "text/html": [
       "<div>\n",
       "<style scoped>\n",
       "    .dataframe tbody tr th:only-of-type {\n",
       "        vertical-align: middle;\n",
       "    }\n",
       "\n",
       "    .dataframe tbody tr th {\n",
       "        vertical-align: top;\n",
       "    }\n",
       "\n",
       "    .dataframe thead th {\n",
       "        text-align: right;\n",
       "    }\n",
       "</style>\n",
       "<table border=\"1\" class=\"dataframe\">\n",
       "  <thead>\n",
       "    <tr style=\"text-align: right;\">\n",
       "      <th></th>\n",
       "      <th>date</th>\n",
       "      <th>value</th>\n",
       "    </tr>\n",
       "  </thead>\n",
       "  <tbody>\n",
       "    <tr>\n",
       "      <th>0</th>\n",
       "      <td>2016-07-01</td>\n",
       "      <td>954</td>\n",
       "    </tr>\n",
       "    <tr>\n",
       "      <th>1</th>\n",
       "      <td>2016-07-02</td>\n",
       "      <td>852</td>\n",
       "    </tr>\n",
       "    <tr>\n",
       "      <th>2</th>\n",
       "      <td>2016-07-03</td>\n",
       "      <td>982</td>\n",
       "    </tr>\n",
       "    <tr>\n",
       "      <th>3</th>\n",
       "      <td>2016-07-04</td>\n",
       "      <td>887</td>\n",
       "    </tr>\n",
       "    <tr>\n",
       "      <th>4</th>\n",
       "      <td>2016-07-05</td>\n",
       "      <td>1002</td>\n",
       "    </tr>\n",
       "  </tbody>\n",
       "</table>\n",
       "</div>"
      ],
      "text/plain": [
       "        date  value\n",
       "0 2016-07-01    954\n",
       "1 2016-07-02    852\n",
       "2 2016-07-03    982\n",
       "3 2016-07-04    887\n",
       "4 2016-07-05   1002"
      ]
     },
     "execution_count": 331,
     "metadata": {},
     "output_type": "execute_result"
    }
   ],
   "source": [
    "# Look at the data\n",
    "df_ml.head()"
   ]
  },
  {
   "cell_type": "code",
   "execution_count": 332,
   "metadata": {},
   "outputs": [
    {
     "data": {
      "text/plain": [
       "<AxesSubplot:xlabel='date'>"
      ]
     },
     "execution_count": 332,
     "metadata": {},
     "output_type": "execute_result"
    },
    {
     "data": {
      "image/png": "[encoded data removed]",
      "text/plain": [
       "<Figure size 432x288 with 1 Axes>"
      ]
     },
     "metadata": {
      "needs_background": "light"
     },
     "output_type": "display_data"
    }
   ],
   "source": [
    "df_ml.plot(x='date', y='value')"
   ]
  },
  {
   "cell_type": "code",
   "execution_count": 333,
   "metadata": {},
   "outputs": [],
   "source": [
    "# Start generating features\n",
    "\n",
    "df_ml['DayOfTheWeek'] = df_ml['date'].dt.dayofweek\n",
    "df_ml['WeekDay'] = (df_ml['DayOfTheWeek'] < 5).astype(int)\n",
    "outliers_fraction = 0.01"
   ]
  },
  {
   "cell_type": "code",
   "execution_count": 335,
   "metadata": {},
   "outputs": [],
   "source": [
    "# Let's add a sign if the TV program was broadcast on this day\n",
    "www_dates = [pd.to_datetime(date) for date in show_these_dates]\n",
    "df_ml['WWWDay'] = df_ml['date'].apply(lambda x: 1 if x in www_dates else 0)"
   ]
  },
  {
   "cell_type": "code",
   "execution_count": 348,
   "metadata": {},
   "outputs": [],
   "source": [
    "df_ml['timestamp'] = df_ml['date'].apply(lambda x: x.timestamp())\n",
    "df_ml['time_epoch'] = (df_ml['timestamp'].astype(np.int64)/100000000000).astype(np.int64)"
   ]
  },
  {
   "cell_type": "code",
   "execution_count": 349,
   "metadata": {
    "scrolled": true
   },
   "outputs": [
    {
     "data": {
      "text/html": [
       "<div>\n",
       "<style scoped>\n",
       "    .dataframe tbody tr th:only-of-type {\n",
       "        vertical-align: middle;\n",
       "    }\n",
       "\n",
       "    .dataframe tbody tr th {\n",
       "        vertical-align: top;\n",
       "    }\n",
       "\n",
       "    .dataframe thead th {\n",
       "        text-align: right;\n",
       "    }\n",
       "</style>\n",
       "<table border=\"1\" class=\"dataframe\">\n",
       "  <thead>\n",
       "    <tr style=\"text-align: right;\">\n",
       "      <th></th>\n",
       "      <th>date</th>\n",
       "      <th>value</th>\n",
       "      <th>DayOfTheWeek</th>\n",
       "      <th>WeekDay</th>\n",
       "      <th>WWWDay</th>\n",
       "      <th>cluster</th>\n",
       "      <th>principal_feature1</th>\n",
       "      <th>principal_feature2</th>\n",
       "      <th>timestamp</th>\n",
       "      <th>time_epoch</th>\n",
       "    </tr>\n",
       "  </thead>\n",
       "  <tbody>\n",
       "    <tr>\n",
       "      <th>0</th>\n",
       "      <td>2016-07-01</td>\n",
       "      <td>954</td>\n",
       "      <td>4</td>\n",
       "      <td>1</td>\n",
       "      <td>0</td>\n",
       "      <td>0</td>\n",
       "      <td>-0.040521</td>\n",
       "      <td>-0.654871</td>\n",
       "      <td>1.467331e+09</td>\n",
       "      <td>0</td>\n",
       "    </tr>\n",
       "    <tr>\n",
       "      <th>1</th>\n",
       "      <td>2016-07-02</td>\n",
       "      <td>852</td>\n",
       "      <td>5</td>\n",
       "      <td>0</td>\n",
       "      <td>0</td>\n",
       "      <td>3</td>\n",
       "      <td>1.359431</td>\n",
       "      <td>-1.143520</td>\n",
       "      <td>1.467418e+09</td>\n",
       "      <td>0</td>\n",
       "    </tr>\n",
       "    <tr>\n",
       "      <th>2</th>\n",
       "      <td>2016-07-03</td>\n",
       "      <td>982</td>\n",
       "      <td>6</td>\n",
       "      <td>0</td>\n",
       "      <td>0</td>\n",
       "      <td>3</td>\n",
       "      <td>1.530412</td>\n",
       "      <td>-0.651078</td>\n",
       "      <td>1.467504e+09</td>\n",
       "      <td>0</td>\n",
       "    </tr>\n",
       "    <tr>\n",
       "      <th>3</th>\n",
       "      <td>2016-07-04</td>\n",
       "      <td>887</td>\n",
       "      <td>0</td>\n",
       "      <td>1</td>\n",
       "      <td>0</td>\n",
       "      <td>0</td>\n",
       "      <td>-0.975756</td>\n",
       "      <td>-0.842158</td>\n",
       "      <td>1.467590e+09</td>\n",
       "      <td>0</td>\n",
       "    </tr>\n",
       "    <tr>\n",
       "      <th>4</th>\n",
       "      <td>2016-07-05</td>\n",
       "      <td>1002</td>\n",
       "      <td>1</td>\n",
       "      <td>1</td>\n",
       "      <td>0</td>\n",
       "      <td>0</td>\n",
       "      <td>-0.796454</td>\n",
       "      <td>-0.408738</td>\n",
       "      <td>1.467677e+09</td>\n",
       "      <td>0</td>\n",
       "    </tr>\n",
       "    <tr>\n",
       "      <th>...</th>\n",
       "      <td>...</td>\n",
       "      <td>...</td>\n",
       "      <td>...</td>\n",
       "      <td>...</td>\n",
       "      <td>...</td>\n",
       "      <td>...</td>\n",
       "      <td>...</td>\n",
       "      <td>...</td>\n",
       "      <td>...</td>\n",
       "      <td>...</td>\n",
       "    </tr>\n",
       "    <tr>\n",
       "      <th>148</th>\n",
       "      <td>2016-11-26</td>\n",
       "      <td>1079</td>\n",
       "      <td>5</td>\n",
       "      <td>0</td>\n",
       "      <td>0</td>\n",
       "      <td>3</td>\n",
       "      <td>1.233498</td>\n",
       "      <td>-0.250312</td>\n",
       "      <td>1.480118e+09</td>\n",
       "      <td>0</td>\n",
       "    </tr>\n",
       "    <tr>\n",
       "      <th>149</th>\n",
       "      <td>2016-11-27</td>\n",
       "      <td>1081</td>\n",
       "      <td>6</td>\n",
       "      <td>0</td>\n",
       "      <td>0</td>\n",
       "      <td>3</td>\n",
       "      <td>1.475490</td>\n",
       "      <td>-0.261529</td>\n",
       "      <td>1.480205e+09</td>\n",
       "      <td>0</td>\n",
       "    </tr>\n",
       "    <tr>\n",
       "      <th>150</th>\n",
       "      <td>2016-11-28</td>\n",
       "      <td>1417</td>\n",
       "      <td>0</td>\n",
       "      <td>1</td>\n",
       "      <td>1</td>\n",
       "      <td>1</td>\n",
       "      <td>-0.378360</td>\n",
       "      <td>4.161940</td>\n",
       "      <td>1.480291e+09</td>\n",
       "      <td>0</td>\n",
       "    </tr>\n",
       "    <tr>\n",
       "      <th>151</th>\n",
       "      <td>2016-11-29</td>\n",
       "      <td>1746</td>\n",
       "      <td>1</td>\n",
       "      <td>1</td>\n",
       "      <td>0</td>\n",
       "      <td>2</td>\n",
       "      <td>-1.209203</td>\n",
       "      <td>2.518782</td>\n",
       "      <td>1.480378e+09</td>\n",
       "      <td>0</td>\n",
       "    </tr>\n",
       "    <tr>\n",
       "      <th>152</th>\n",
       "      <td>2016-11-30</td>\n",
       "      <td>1839</td>\n",
       "      <td>2</td>\n",
       "      <td>1</td>\n",
       "      <td>0</td>\n",
       "      <td>2</td>\n",
       "      <td>-1.017696</td>\n",
       "      <td>2.865635</td>\n",
       "      <td>1.480464e+09</td>\n",
       "      <td>0</td>\n",
       "    </tr>\n",
       "  </tbody>\n",
       "</table>\n",
       "<p>153 rows × 10 columns</p>\n",
       "</div>"
      ],
      "text/plain": [
       "          date  value  DayOfTheWeek  WeekDay  WWWDay  cluster  \\\n",
       "0   2016-07-01    954             4        1       0        0   \n",
       "1   2016-07-02    852             5        0       0        3   \n",
       "2   2016-07-03    982             6        0       0        3   \n",
       "3   2016-07-04    887             0        1       0        0   \n",
       "4   2016-07-05   1002             1        1       0        0   \n",
       "..         ...    ...           ...      ...     ...      ...   \n",
       "148 2016-11-26   1079             5        0       0        3   \n",
       "149 2016-11-27   1081             6        0       0        3   \n",
       "150 2016-11-28   1417             0        1       1        1   \n",
       "151 2016-11-29   1746             1        1       0        2   \n",
       "152 2016-11-30   1839             2        1       0        2   \n",
       "\n",
       "     principal_feature1  principal_feature2     timestamp  time_epoch  \n",
       "0             -0.040521           -0.654871  1.467331e+09           0  \n",
       "1              1.359431           -1.143520  1.467418e+09           0  \n",
       "2              1.530412           -0.651078  1.467504e+09           0  \n",
       "3             -0.975756           -0.842158  1.467590e+09           0  \n",
       "4             -0.796454           -0.408738  1.467677e+09           0  \n",
       "..                  ...                 ...           ...         ...  \n",
       "148            1.233498           -0.250312  1.480118e+09           0  \n",
       "149            1.475490           -0.261529  1.480205e+09           0  \n",
       "150           -0.378360            4.161940  1.480291e+09           0  \n",
       "151           -1.209203            2.518782  1.480378e+09           0  \n",
       "152           -1.017696            2.865635  1.480464e+09           0  \n",
       "\n",
       "[153 rows x 10 columns]"
      ]
     },
     "execution_count": 349,
     "metadata": {},
     "output_type": "execute_result"
    }
   ],
   "source": [
    "df_ml"
   ]
  },
  {
   "cell_type": "markdown",
   "metadata": {},
   "source": [
    "### Clustering models"
   ]
  },
  {
   "cell_type": "code",
   "execution_count": 337,
   "metadata": {},
   "outputs": [],
   "source": [
    "data = df_ml[['value', 'DayOfTheWeek', 'WeekDay', 'WWWDay']]\n",
    "\n",
    "# Normalize data\n",
    "starrd_scaler = preprocessing.StandardScaler().fit(data)\n",
    "np_scaled = starrd_scaler.transform(data)\n",
    "data = pd.DataFrame(np_scaled)\n",
    "\n",
    "# Reduce the number of components\n",
    "pca = PCA(n_components=2)\n",
    "data = pca.fit_transform(data)\n",
    "\n",
    "min_max_scaler = preprocessing.StandardScaler().fit(data)\n",
    "np_scaled = min_max_scaler.transform(data)\n",
    "data = pd.DataFrame(np_scaled)"
   ]
  },
  {
   "cell_type": "code",
   "execution_count": 338,
   "metadata": {},
   "outputs": [
    {
     "data": {
      "image/png": "[encoded data removed]",
      "text/plain": [
       "<Figure size 432x288 with 1 Axes>"
      ]
     },
     "metadata": {
      "needs_background": "light"
     },
     "output_type": "display_data"
    }
   ],
   "source": [
    "n_cluster = range(1, 20)\n",
    "kmeans = [KMeans(n_clusters=j).fit(data) for j in n_cluster]\n",
    "scores = [km.score(data) for km in kmeans]\n",
    "fig, ax = plt.subplots()\n",
    "ax.plot(n_cluster, scores)\n",
    "plt.show()"
   ]
  },
  {
   "cell_type": "code",
   "execution_count": 339,
   "metadata": {},
   "outputs": [
    {
     "data": {
      "text/plain": [
       "0    72\n",
       "2    35\n",
       "3    34\n",
       "1    12\n",
       "Name: cluster, dtype: int64"
      ]
     },
     "execution_count": 339,
     "metadata": {},
     "output_type": "execute_result"
    }
   ],
   "source": [
    "df_ml['cluster'] = kmeans[3].predict(data)\n",
    "df_ml['principal_feature1'] = data[0]\n",
    "df_ml['principal_feature2'] = data[1]\n",
    "df_ml['cluster'].value_counts()"
   ]
  },
  {
   "cell_type": "code",
   "execution_count": 340,
   "metadata": {},
   "outputs": [
    {
     "data": {
      "image/png": "[encoded data removed]",
      "text/plain": [
       "<Figure size 432x288 with 1 Axes>"
      ]
     },
     "metadata": {
      "needs_background": "light"
     },
     "output_type": "display_data"
    }
   ],
   "source": [
    "fig, ax = plt.subplots()\n",
    "colors = {0:'red', 1:'blue', 2:'green', 3:'pink', 4:'black', 5:'orange', 6:'cyan', 7:'yellow', 8:'brown', 9:'purple', 10:'white', 11: 'grey', 12:'lightblue', 13:'lightgreen', 14: 'darkgrey'}\n",
    "ax.scatter(df_ml['principal_feature1'], df_ml['principal_feature2'], c=df_ml[\"cluster\"].apply(lambda x: colors[x]))\n",
    "plt.show()"
   ]
  },
  {
   "cell_type": "code",
   "execution_count": 350,
   "metadata": {},
   "outputs": [
    {
     "data": {
      "image/png": "[encoded data removed]",
      "text/plain": [
       "<Figure size 432x288 with 1 Axes>"
      ]
     },
     "metadata": {
      "needs_background": "light"
     },
     "output_type": "display_data"
    },
    {
     "data": {
      "image/png": "[encoded data removed]",
      "text/plain": [
       "<Figure size 432x288 with 1 Axes>"
      ]
     },
     "metadata": {
      "needs_background": "light"
     },
     "output_type": "display_data"
    }
   ],
   "source": [
    "distance = getDistanceByPoint(data, kmeans[3])\n",
    "number_of_outliers = int(outliers_fraction*len(distance))\n",
    "threshold = distance.nlargest(number_of_outliers).min()\n",
    "\n",
    "# A point is an anomaly if the distance to the cluster center is greater than the threshold\n",
    "df_ml['anomaly21'] = (distance >= 3.0).astype(int)\n",
    "\n",
    "fig, ax = plt.subplots()\n",
    "colors = {0:'blue', 1:'red'}\n",
    "ax.scatter(df_ml['principal_feature1'], df_ml['principal_feature2'], c=df_ml[\"anomaly21\"].apply(lambda x: colors[x]))\n",
    "plt.show()\n",
    "\n",
    "fig, ax = plt.subplots()\n",
    "\n",
    "a = df_ml.loc[df_ml['anomaly21'] == 1, ['time_epoch', 'value']] #anomaly\n",
    "\n",
    "ax.plot(df_ml['time_epoch'], df_ml['value'], color='blue')\n",
    "ax.scatter(a['time_epoch'],a['value'], color='red')\n",
    "plt.show()"
   ]
  },
  {
   "cell_type": "code",
   "execution_count": 351,
   "metadata": {},
   "outputs": [
    {
     "data": {
      "image/png": "[encoded data removed]",
      "text/plain": [
       "<Figure size 432x288 with 1 Axes>"
      ]
     },
     "metadata": {
      "needs_background": "light"
     },
     "output_type": "display_data"
    }
   ],
   "source": [
    "# Look at the distribution of anomalous and real values\n",
    "a = df_ml.loc[df_ml['anomaly21'] == 0, 'value']\n",
    "b = df_ml.loc[df_ml['anomaly21'] == 1, 'value']\n",
    "fig, axs = plt.subplots()\n",
    "axs.hist([a,b], bins=32, stacked=True, color=['blue', 'red'], label=['normal', 'anomaly'])\n",
    "plt.legend()\n",
    "plt.show()"
   ]
  },
  {
   "cell_type": "markdown",
   "metadata": {},
   "source": [
    "Conclusion:\n",
    "\n",
    "In conclusion, the analysis of the sales data reveals the presence of anomalies; however, no conclusive evidence was found linking these anomalies to the television advertising. It is important to note that further investigation and additional data are necessary to establish a more comprehensive understanding of the relationship between advertising and sales. Further research is recommended and acquiring a larger dataset to enhance the accuracy and validity of the findings."
   ]
  },
  {
   "cell_type": "code",
   "execution_count": null,
   "metadata": {},
   "outputs": [],
   "source": []
  }
 ],
 "metadata": {
  "kernelspec": {
   "display_name": "Python 3",
   "language": "python",
   "name": "python3"
  },
  "language_info": {
   "codemirror_mode": {
    "name": "ipython",
    "version": 3
   },
   "file_extension": ".py",
   "mimetype": "text/x-python",
   "name": "python",
   "nbconvert_exporter": "python",
   "pygments_lexer": "ipython3",
   "version": "3.8.5"
  }
 },
 "nbformat": 4,
 "nbformat_minor": 4
}
