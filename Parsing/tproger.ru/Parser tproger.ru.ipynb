{
 "cells": [
  {
   "cell_type": "code",
   "execution_count": 4,
   "metadata": {},
   "outputs": [],
   "source": [
    "from selenium import webdriver\n",
    "from selenium.webdriver.common.by import By\n",
    "from webdriver_manager.chrome import ChromeDriverManager\n",
    "from selenium.webdriver.chrome.options import Options"
   ]
  },
  {
   "cell_type": "code",
   "execution_count": 2,
   "metadata": {},
   "outputs": [],
   "source": [
    "driver_path = '/Users/anna.zemit/.wdm/drivers/chromedriver/mac64/102.0.5005.61/chromedriver'"
   ]
  },
  {
   "cell_type": "code",
   "execution_count": 30,
   "metadata": {
    "scrolled": false
   },
   "outputs": [],
   "source": [
    "def run(driver_path):\n",
    "    \n",
    "    # Run driver\n",
    "    driver = webdriver.Chrome(executable_path=driver_path)\n",
    "    driver.get('https://tproger.ru/quiz/real-programmer/')\n",
    "\n",
    "    # Click cookie button  \n",
    "    cookie_button = driver.find_element(By.ID, 'tpButtonCookieNotify')\n",
    "    cookie_button.click()\n",
    "\n",
    "    # Start test\n",
    "    button_start = driver.find_element(by=By.CLASS_NAME, value='quiz_button')\n",
    "    button_start.click()\n",
    "\n",
    "    qi = 255 # quiz item number starts from 255\n",
    "    i = 1\n",
    "\n",
    "    while qi < 267: # a total of 12 questions gives max quiz item number 266\n",
    "\n",
    "\n",
    "        item_id = f'quiz_item_{qi}'\n",
    "        print(f'Question # {i}')\n",
    "\n",
    "        question = driver.find_element(by=By.XPATH, value='//*[@id=\"'+ item_id + '\"]/div[1]/p').text\n",
    "        print(question)\n",
    "\n",
    "        answer = driver.find_element(by=By.XPATH, value='//*[@id=\"'+ item_id + '\"]/div[2]/div[1]')\n",
    "        answer.click()\n",
    "\n",
    "        # Right answer\n",
    "        right_answer = driver.find_elements(by=By.CLASS_NAME, value='correct_answer')\n",
    "\n",
    "        for answ in right_answer:\n",
    "            if answ.text:\n",
    "                print('The correct answer is ', answ.text)\n",
    "                print()\n",
    "\n",
    "\n",
    "        # Click next\n",
    "        button_nxt = driver.find_element(by=By.XPATH, value='//*[@id=\"'+ item_id + '\"]/button')\n",
    "        button_nxt.click()\n",
    "\n",
    "        qi=qi+1\n",
    "        i = i+1\n",
    "\n",
    "    driver.close()\n",
    "    driver.quit()\n"
   ]
  },
  {
   "cell_type": "code",
   "execution_count": 31,
   "metadata": {},
   "outputs": [
    {
     "name": "stderr",
     "output_type": "stream",
     "text": [
      "<ipython-input-30-e6e50a5991e5>:4: DeprecationWarning: executable_path has been deprecated, please pass in a Service object\n",
      "  driver = webdriver.Chrome(executable_path=driver_path)\n"
     ]
    },
    {
     "name": "stdout",
     "output_type": "stream",
     "text": [
      "Question # 1\n",
      "Начнём с простого. Какую первую программу обычно пишут программисты?\n",
      "The correct answer is  Hello world\n",
      "Да, конечно. Это все знают.\n",
      "90%\n",
      "\n",
      "Question # 2\n",
      "Бывает ли так, что программа скомпилировалась с первого раза и без ошибок?\n",
      "The correct answer is  Нет, это фантастика\n",
      "75%\n",
      "\n",
      "Question # 3\n",
      "Представим гипотетическую ситуацию, в которой программа всё-таки скомпилировалась с первого раза. Как вы поступите?\n",
      "The correct answer is  Буду искать ошибку в компиляторе, где-то она должна быть\n",
      "76%\n",
      "\n",
      "Question # 4\n",
      "Движемся дальше. Вопрос на проверку логического мышления. Допустим, вы пишете проект, и заказчик утвердил документ, в котором чётко написано, что он хочет получить в результате. Назовём его ТЗ. Изменятся ли требования в процессе работы над проектом?\n",
      "The correct answer is  Изменятся, конечно\n",
      "Обычно так и бывает, да. Заказчик сам не знает, чего хочет.\n",
      "89%\n",
      "\n",
      "Question # 5\n",
      "Какой правильный ответ на вопрос про рекурсию?\n",
      "The correct answer is  Какой правильный ответ на вопрос про рекурсию?\n",
      "84%\n",
      "\n",
      "Question # 6\n",
      "Представьте, что вы пишете программу и при попытке её сборки компилятор выдал вам одну ошибку. Вы исправили её и пробуете собрать проект ещё раз. Сколько теперь будет ошибок?\n",
      "The correct answer is  Неизвестно\n",
      "94%\n",
      "\n",
      "Question # 7\n",
      "Вы пришли на проект, над которым раньше работал другой программист. Что можно сказать о его коде?\n",
      "The correct answer is  Его код просто ужасен, ну кто так пишет!\n",
      "88%\n",
      "\n",
      "Question # 8\n",
      "Перед вами три дерева. На том, что посередине, сидит кот. На дереве с каким индексом сидит кот?\n",
      "The correct answer is  1\n",
      "86%\n",
      "\n",
      "Question # 9\n",
      "Теперь чуть сложнее. Что такое Пик Балмера?\n",
      "The correct answer is  Феномен о том, что при определённой концентрации алкоголя в крови программистские способности резко возрастают\n",
      "66%\n",
      "\n",
      "Question # 10\n",
      "Что такое стринги?\n",
      "The correct answer is  Несколько переменных типа «строка»\n",
      "90%\n",
      "\n",
      "Question # 11\n",
      "Какое максимальное число из перечисленных можно показать пальцами одной руки?\n",
      "The correct answer is  31\n",
      "29%\n",
      "\n",
      "Question # 12\n",
      "Буратино дали три яблока. Два он съел. Сколько яблок осталось у Буратино?\n",
      "The correct answer is  Никто не знает наверняка\n",
      "80%\n",
      "\n"
     ]
    }
   ],
   "source": [
    "run(driver_path)"
   ]
  },
  {
   "cell_type": "code",
   "execution_count": null,
   "metadata": {},
   "outputs": [],
   "source": []
  }
 ],
 "metadata": {
  "kernelspec": {
   "display_name": "Python 3",
   "language": "python",
   "name": "python3"
  },
  "language_info": {
   "codemirror_mode": {
    "name": "ipython",
    "version": 3
   },
   "file_extension": ".py",
   "mimetype": "text/x-python",
   "name": "python",
   "nbconvert_exporter": "python",
   "pygments_lexer": "ipython3",
   "version": "3.8.5"
  }
 },
 "nbformat": 4,
 "nbformat_minor": 4
}
