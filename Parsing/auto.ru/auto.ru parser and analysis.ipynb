{
 "cells": [
  {
   "cell_type": "code",
   "execution_count": 1,
   "metadata": {},
   "outputs": [],
   "source": [
    "import re\n",
    "import pandas as pd \n",
    "import numpy as np\n",
    "from bs4 import BeautifulSoup  \n",
    "import requests  \n",
    "import json\n",
    "import time \n",
    "from datetime import datetime\n",
    "from collections import OrderedDict\n",
    "import matplotlib.pyplot as plt\n",
    "import seaborn as sns\n",
    "from itertools import combinations\n",
    "from scipy.stats import ttest_ind\n",
    "from sklearn.preprocessing import MinMaxScaler\n",
    "from sklearn.preprocessing import StandardScaler\n",
    "from sklearn.model_selection import KFold\n",
    "from sklearn.linear_model import LinearRegression\n",
    "from sklearn.base import clone\n",
    "from sklearn.metrics import accuracy_score\n",
    "from tqdm import tqdm\n",
    "from sklearn.metrics import mean_absolute_error as MAE\n",
    "from sklearn.model_selection import train_test_split\n",
    "from catboost import CatBoostRegressor\n",
    "from sklearn.tree import DecisionTreeRegressor\n",
    "from sklearn.ensemble import RandomForestRegressor\n",
    "\n",
    "\n",
    "RANDOM_SEED = 42"
   ]
  },
  {
   "cell_type": "markdown",
   "metadata": {},
   "source": [
    "# Parse data from the website"
   ]
  },
  {
   "cell_type": "code",
   "execution_count": 4,
   "metadata": {},
   "outputs": [],
   "source": [
    "url = 'https://auto.ru/-/ajax/desktop/listing/'"
   ]
  },
  {
   "cell_type": "code",
   "execution_count": 5,
   "metadata": {},
   "outputs": [],
   "source": [
    "headers = '''\n",
    "Host: auto.ru\n",
    "User-Agent: Mozilla/5.0 (Macintosh; Intel Mac OS X 10.15; rv:94.0) Gecko/20100101 Firefox/94.0\n",
    "Accept: */*\n",
    "Accept-Language: en-US,en;q=0.5\n",
    "Accept-Encoding: gzip, deflate, br\n",
    "Referer: https://auto.ru/cars/used/?catalog_filter=mark%3DSKODA&catalog_filter=mark%3DBMW&catalog_filter=mark%3DVOLVO&catalog_filter=mark%3DHONDA&catalog_filter=mark%3DAUDI&year_from=1985&year_to=2020&page=4&cookiesync=true\n",
    "x-client-app-version: 3e9f4c0d51b\n",
    "x-page-request-id: e9bd320de3fd0dc0973e5c1e115bc6a6\n",
    "x-client-date: 1636520899579\n",
    "x-csrf-token: aeaa205bc2525bb0c99c98fc0c63cb7d946b76e427a54ea0\n",
    "x-requested-with: fetch\n",
    "content-type: application/json\n",
    "Origin: https://auto.ru\n",
    "Content-Length: 198\n",
    "Connection: keep-alive\n",
    "Cookie: _csrf_token=aeaa205bc2525bb0c99c98fc0c63cb7d946b76e427a54ea0; autoru_sid=a%3Ag618b53812rhl86sjtpetauv5vkmo6nl.d8487eec517020839a8354805eaccabb%7C1636520833100.604800.f5FptlxMzPxqRxJ8zTcnCw.2jYvP_IQD5SFy4Bnd3av--Ij6i92vHnu8g_uhOaQ0tM; autoruuid=g618b53812rhl86sjtpetauv5vkmo6nl.d8487eec517020839a8354805eaccabb; autoru_gdpr=1; suid=a71be49dafaf465d9e2c83931ba11a3c.e7f7b5cfe12884cd7d97a26279120dd0; from_lifetime=1636520896159; from=direct; X-Vertis-DC=vla; yuidlt=1; yandexuid=1793328871636520840; crookie=CzeZX1mvt6Otj2ihIyTd7/1g484edT2g/5k6JjIsG+B+qvLfNz5eO/HP1/6O0eluZoVnuet1LPdFLcW30TSm4qGSZEQ=; cmtchd=MTYzNjUyMDg1MzM0Mw==; deal_million_popup_page_seen=0; gdpr=0\n",
    "Sec-Fetch-Dest: empty\n",
    "Sec-Fetch-Mode: same-origin\n",
    "Sec-Fetch-Site: same-origin\n",
    "'''.strip().split('\\n')\n",
    "\n",
    "dict_header = {}\n",
    "\n",
    "for header in headers:\n",
    "    key, value = header.split(': ')\n",
    "    dict_header[key] = value"
   ]
  },
  {
   "cell_type": "code",
   "execution_count": 6,
   "metadata": {},
   "outputs": [],
   "source": [
    "offers = []"
   ]
  },
  {
   "cell_type": "code",
   "execution_count": 7,
   "metadata": {
    "scrolled": true
   },
   "outputs": [
    {
     "name": "stdout",
     "output_type": "stream",
     "text": [
      "current page:  1\n",
      "Waiting...\n",
      "current page:  2\n",
      "Waiting...\n",
      "current page:  3\n",
      "Waiting...\n",
      "current page:  4\n",
      "Waiting...\n"
     ]
    }
   ],
   "source": [
    "#example \n",
    "for x in range(1, 5):\n",
    "    \n",
    "        parameters = {\n",
    "        \"catalog_filter\": [\n",
    "            {\n",
    "                \"mark\": \"SKODA\"\n",
    "            },\n",
    "            {\n",
    "                \"mark\": \"BMW\"\n",
    "            },\n",
    "            {\n",
    "                \"mark\": \"VOLVO\"\n",
    "            },\n",
    "            {\n",
    "                \"mark\": \"HONDA\"\n",
    "            },\n",
    "            {\n",
    "                \"mark\": \"AUDI\"\n",
    "            },\n",
    "            {\n",
    "                \"mark\": \"NISSAN\"\n",
    "            },\n",
    "            {\n",
    "                \"mark\": \"INFINITI\"\n",
    "            },\n",
    "            {\n",
    "                \"mark\": \"MERCEDES\"\n",
    "            },\n",
    "            {\n",
    "                \"mark\": \"TOYOTA\"\n",
    "            },\n",
    "            {\n",
    "                \"mark\": \"LEXUS\"\n",
    "            },\n",
    "            {\n",
    "                \"mark\": \"VOLKSWAGEN\"\n",
    "            },\n",
    "            {\n",
    "                \"mark\": \"MITSUBISHI\"\n",
    "            }\n",
    "        ],\n",
    "        \"category\": \"cars\",\n",
    "        \"section\": \"used\",\n",
    "        \"year_from\": 1985,\n",
    "        \"year_to\": 2021,\n",
    "        \"page\": x\n",
    "\n",
    "    }\n",
    "        response = requests.post(url, json=parameters, headers=dict_header)\n",
    "        data = response.json()\n",
    "        offers.extend(data['offers'])\n",
    "        print('current page: ', x)\n",
    "        print('Waiting...')  \n",
    "        time.sleep(0.5)"
   ]
  },
  {
   "cell_type": "code",
   "execution_count": 733,
   "metadata": {},
   "outputs": [],
   "source": [
    "#with open('data.json', 'w') as f:\n",
    "#    json.dump(offers, f)"
   ]
  },
  {
   "cell_type": "code",
   "execution_count": 9,
   "metadata": {},
   "outputs": [
    {
     "name": "stdout",
     "output_type": "stream",
     "text": [
      "3875\n"
     ]
    }
   ],
   "source": [
    "with open('data.json', 'r', encoding='utf8') as f:\n",
    "    data = json.load(f)\n",
    "print(len(data))"
   ]
  },
  {
   "cell_type": "markdown",
   "metadata": {},
   "source": [
    "# Create a dataframe based on a JSON file"
   ]
  },
  {
   "cell_type": "markdown",
   "metadata": {},
   "source": [
    "+   'bodyType' - `['vehicle_info']['configuration']['body_type']`\n",
    "+   'brand' - `['vehicle_info']['mark_info']['code']`\n",
    "+   'color' - `['color_hex']`\n",
    "+   'engineDisplacement' - `['vehicle_info']['tech_param']['displacement']`\n",
    "+   'enginePower' `['vehicle_info']['tech_param']['power']`\n",
    "+   'fuelType' - `['vehicle_info']['tech_param']['engine_type']`\n",
    "+   'mileage' - `['state']['mileage']`\n",
    "+   'modelDate' - `['vehicle_info']['super_gen']['year_from']`\n",
    "+   'model_name' `['vehicle_info']['model_info']['code']`\n",
    "+   'numberOfDoors' - `['vehicle_info']['configuration']['doors_count']`\n",
    "+   'priceCurrency' `['price_info']['currency']`\n",
    "+   'productionDate' - `['documents']['year']`\n",
    "+   'sell_id' - `['id']`\n",
    "+   'vehicleTransmission' - `['vehicle_info']['tech_param']['transmission']`\n",
    "+   'vendor' - `['vehicle_info']['vendor']`\n",
    "+   'Владельцы' - `['documents']['owners_number']`\n",
    "+   'ПТС' - `['documents']['pts_original']`\n",
    "+   'Привод' `['vehicle_info']['tech_param']['gear_type']`\n",
    "+   'Руль' `['vehicle_info']['steering_wheel']`\n",
    "\n",
    "To add:\n",
    "+ 'Popular_model'\n",
    "             \n"
   ]
  },
  {
   "cell_type": "code",
   "execution_count": 7,
   "metadata": {},
   "outputs": [],
   "source": [
    "train_data = pd.DataFrame({'bodyType': [], 'brand': [], 'color': [], \n",
    "                                     'engineDisplacement': [], 'enginePower': [], \n",
    "                                     'fuelType': [], 'mileage': [], 'modelDate': [],\n",
    "                                    'model_name': [], 'numberOfDoors': [], \n",
    "                                    'productionDate': [], 'sell_id': [], 'vehicleTransmission': [],\n",
    "                                    'vendor': [], 'owners_number': [], 'original_registration': [],\n",
    "                                    'gearType': [], 'steering_wheel': [], 'price': [], 'Popular_model': []})"
   ]
  },
  {
   "cell_type": "markdown",
   "metadata": {},
   "source": [
    "### `bodyType`"
   ]
  },
  {
   "cell_type": "code",
   "execution_count": 10,
   "metadata": {},
   "outputs": [],
   "source": [
    "#fill bodyType\n",
    "for counter, offer in enumerate(data):\n",
    "    if offer['vehicle_info']['configuration']['body_type']:\n",
    "        body_type = offer['vehicle_info']['configuration']['body_type']\n",
    "        train_data.loc[counter, 'bodyType'] = body_type\n",
    "    else:\n",
    "        train_data.loc[counter, 'bodyType'] = None"
   ]
  },
  {
   "cell_type": "code",
   "execution_count": 11,
   "metadata": {
    "scrolled": false
   },
   "outputs": [
    {
     "data": {
      "text/plain": [
       "False    3875\n",
       "Name: bodyType, dtype: int64"
      ]
     },
     "execution_count": 11,
     "metadata": {},
     "output_type": "execute_result"
    }
   ],
   "source": [
    "train_data.bodyType.isna().value_counts()"
   ]
  },
  {
   "cell_type": "code",
   "execution_count": 12,
   "metadata": {
    "scrolled": true
   },
   "outputs": [
    {
     "data": {
      "text/plain": [
       "array(['MINIVAN', 'SEDAN', 'ALLROAD_5_DOORS', 'LIFTBACK',\n",
       "       'HATCHBACK_5_DOORS', 'WAGON_5_DOORS', 'MICROVAN', 'COUPE',\n",
       "       'COMPACTVAN', 'COUPE_HARDTOP', 'VAN', 'ROADSTER',\n",
       "       'HATCHBACK_3_DOORS', 'PICKUP_ONE', 'PICKUP_TWO', 'CABRIO',\n",
       "       'ALLROAD_3_DOORS'], dtype=object)"
      ]
     },
     "execution_count": 12,
     "metadata": {},
     "output_type": "execute_result"
    }
   ],
   "source": [
    "train_data.bodyType.unique()"
   ]
  },
  {
   "cell_type": "code",
   "execution_count": 13,
   "metadata": {},
   "outputs": [],
   "source": [
    "def fill_bodyType(car):\n",
    "    if car == \"ALLROAD_5_DOORS\":\n",
    "        return 'ALLROAD'\n",
    "    elif car == \"HATCHBACK_5_DOORS\":\n",
    "        return 'HATCHBACK'\n",
    "    elif car == \"WAGON_5_DOORS\":\n",
    "        return 'WAGON'\n",
    "    elif car == \"HATCHBACK_3_DOORS\":\n",
    "        return 'HATCHBACK'\n",
    "    elif car == \"ALLROAD_3_DOORS\":\n",
    "        return 'ALLROAD'\n",
    "    else:\n",
    "        return car"
   ]
  },
  {
   "cell_type": "code",
   "execution_count": 14,
   "metadata": {},
   "outputs": [],
   "source": [
    "train_data['bodyType'] = train_data['bodyType'].apply(fill_bodyType)"
   ]
  },
  {
   "cell_type": "code",
   "execution_count": 15,
   "metadata": {
    "scrolled": true
   },
   "outputs": [
    {
     "data": {
      "text/plain": [
       "array(['MINIVAN', 'SEDAN', 'ALLROAD', 'LIFTBACK', 'HATCHBACK', 'WAGON',\n",
       "       'MICROVAN', 'COUPE', 'COMPACTVAN', 'COUPE_HARDTOP', 'VAN',\n",
       "       'ROADSTER', 'PICKUP_ONE', 'PICKUP_TWO', 'CABRIO'], dtype=object)"
      ]
     },
     "execution_count": 15,
     "metadata": {},
     "output_type": "execute_result"
    }
   ],
   "source": [
    "train_data.bodyType.unique()"
   ]
  },
  {
   "cell_type": "markdown",
   "metadata": {},
   "source": [
    "### `brand`"
   ]
  },
  {
   "cell_type": "code",
   "execution_count": 16,
   "metadata": {},
   "outputs": [],
   "source": [
    "#fill brand\n",
    "for counter, offer in enumerate(data):\n",
    "    if offer['vehicle_info']['mark_info']['code']:\n",
    "        brand = offer['vehicle_info']['mark_info']['code']\n",
    "        train_data.loc[counter, 'brand'] = brand\n",
    "    else:\n",
    "        train_data.loc[counter, 'brand'] = None"
   ]
  },
  {
   "cell_type": "code",
   "execution_count": 17,
   "metadata": {},
   "outputs": [
    {
     "data": {
      "text/plain": [
       "False    3875\n",
       "Name: brand, dtype: int64"
      ]
     },
     "execution_count": 17,
     "metadata": {},
     "output_type": "execute_result"
    }
   ],
   "source": [
    "train_data.brand.isna().value_counts()"
   ]
  },
  {
   "cell_type": "markdown",
   "metadata": {},
   "source": [
    "### `color`"
   ]
  },
  {
   "cell_type": "code",
   "execution_count": 18,
   "metadata": {},
   "outputs": [],
   "source": [
    "#fill color\n",
    "for counter, offer in enumerate(data):\n",
    "    if offer['color_hex']:\n",
    "        color = offer['color_hex']\n",
    "        train_data.loc[counter, 'color'] = color\n",
    "    else:\n",
    "        train_data.loc[counter, 'color'] = None"
   ]
  },
  {
   "cell_type": "code",
   "execution_count": 19,
   "metadata": {},
   "outputs": [
    {
     "data": {
      "text/plain": [
       "array(['040001', 'FAFBFB', '0000CC', '97948F', 'CACECB', '22A0F8',\n",
       "       'EE1D19', 'C49648', '200204', 'DEA522', '660099', '4A2197',\n",
       "       'FFD600', '007F00', 'FF8649'], dtype=object)"
      ]
     },
     "execution_count": 19,
     "metadata": {},
     "output_type": "execute_result"
    }
   ],
   "source": [
    "train_data.color.unique()"
   ]
  },
  {
   "cell_type": "code",
   "execution_count": 20,
   "metadata": {},
   "outputs": [],
   "source": [
    "def fill_color(car):\n",
    "    if car == '0000CC':\n",
    "        return 'BLUE'\n",
    "    elif car == \"040001\":\n",
    "        return 'BLACK'\n",
    "    elif car == \"200204\":\n",
    "        return 'BLACK'\n",
    "    elif car == \"97948F\":\n",
    "        return 'GRAY'\n",
    "    elif car == \"FAFBFB\":\n",
    "        return 'WHITE'\n",
    "    elif car == \"CACECB\":\n",
    "        return 'SILVER'\n",
    "    elif car == \"EE1D19\":\n",
    "        return 'RED'\n",
    "    elif car == \"007F00\":\n",
    "        return 'GREEN'\n",
    "    elif car == \"FFD600\":\n",
    "        return 'YELLOW'\n",
    "    elif car == \"22A0F8\":\n",
    "        return 'LIGHT_BLUE'\n",
    "    elif car == \"FF8649\":\n",
    "        return 'ORANGE'\n",
    "    elif car == \"660099\":\n",
    "        return 'PURPLE'\n",
    "    elif car == \"4A2197\":\n",
    "        return 'PURPLE'\n",
    "    elif car == \"C49648\":\n",
    "        return 'GOLDEN'\n",
    "    elif car == \"DEA522\":\n",
    "        return 'GOLDEN'"
   ]
  },
  {
   "cell_type": "code",
   "execution_count": 21,
   "metadata": {},
   "outputs": [],
   "source": [
    "train_data['color'] = train_data['color'].apply(fill_color)"
   ]
  },
  {
   "cell_type": "code",
   "execution_count": 22,
   "metadata": {
    "scrolled": true
   },
   "outputs": [
    {
     "data": {
      "text/plain": [
       "array(['BLACK', 'WHITE', 'BLUE', 'GRAY', 'SILVER', 'LIGHT_BLUE', 'RED',\n",
       "       'GOLDEN', 'PURPLE', 'YELLOW', 'GREEN', 'ORANGE'], dtype=object)"
      ]
     },
     "execution_count": 22,
     "metadata": {},
     "output_type": "execute_result"
    }
   ],
   "source": [
    "train_data.color.unique()"
   ]
  },
  {
   "cell_type": "markdown",
   "metadata": {},
   "source": [
    "### `engineDisplacement`"
   ]
  },
  {
   "cell_type": "code",
   "execution_count": 23,
   "metadata": {},
   "outputs": [],
   "source": [
    "#fill engineDisplacement\n",
    "for counter, offer in enumerate(data):\n",
    "    if offer['vehicle_info']['tech_param']['displacement']:\n",
    "        variable = offer['vehicle_info']['tech_param']['displacement']\n",
    "        train_data.loc[counter, 'engineDisplacement'] = variable\n",
    "    else:\n",
    "        train_data.loc[counter, 'engineDisplacement'] = None"
   ]
  },
  {
   "cell_type": "code",
   "execution_count": 24,
   "metadata": {},
   "outputs": [
    {
     "data": {
      "text/plain": [
       "False    3866\n",
       "True        9\n",
       "Name: engineDisplacement, dtype: int64"
      ]
     },
     "execution_count": 24,
     "metadata": {},
     "output_type": "execute_result"
    }
   ],
   "source": [
    "train_data.engineDisplacement.isna().value_counts()"
   ]
  },
  {
   "cell_type": "code",
   "execution_count": 25,
   "metadata": {},
   "outputs": [],
   "source": [
    "#fill null with avarage value\n",
    "train_data['engineDisplacement'] = train_data['engineDisplacement'].fillna(round(train_data.engineDisplacement.mean(), 0)) \n",
    "\n"
   ]
  },
  {
   "cell_type": "code",
   "execution_count": 26,
   "metadata": {},
   "outputs": [
    {
     "data": {
      "text/plain": [
       "False    3875\n",
       "Name: engineDisplacement, dtype: int64"
      ]
     },
     "execution_count": 26,
     "metadata": {},
     "output_type": "execute_result"
    }
   ],
   "source": [
    "train_data.engineDisplacement.isna().value_counts()"
   ]
  },
  {
   "cell_type": "code",
   "execution_count": 27,
   "metadata": {},
   "outputs": [],
   "source": [
    "train_data['engineDisplacement'] = train_data['engineDisplacement'].map(lambda x: round(x/1000, 1) )"
   ]
  },
  {
   "cell_type": "markdown",
   "metadata": {},
   "source": [
    "### `enginePower`"
   ]
  },
  {
   "cell_type": "code",
   "execution_count": 28,
   "metadata": {},
   "outputs": [],
   "source": [
    "#fill enginePower\n",
    "for counter, offer in enumerate(data):\n",
    "    if offer['vehicle_info']['tech_param']['power']:\n",
    "        variable = offer['vehicle_info']['tech_param']['power']\n",
    "        train_data.loc[counter, 'enginePower'] = variable\n",
    "    else:\n",
    "        train_data.loc[counter, 'enginePower'] = None"
   ]
  },
  {
   "cell_type": "markdown",
   "metadata": {},
   "source": [
    "### `fuelType`"
   ]
  },
  {
   "cell_type": "code",
   "execution_count": 29,
   "metadata": {},
   "outputs": [],
   "source": [
    "#fill fuelType\n",
    "for counter, offer in enumerate(data):\n",
    "    if offer['vehicle_info']['tech_param']['engine_type']:\n",
    "        variable = offer['vehicle_info']['tech_param']['engine_type']\n",
    "        train_data.loc[counter, 'fuelType'] = variable\n",
    "    else:\n",
    "        train_data.loc[counter, 'fuelType'] = None"
   ]
  },
  {
   "cell_type": "code",
   "execution_count": 30,
   "metadata": {},
   "outputs": [
    {
     "data": {
      "text/plain": [
       "array(['DIESEL', 'GASOLINE', 'HYBRID', 'ELECTRO', 'LPG'], dtype=object)"
      ]
     },
     "execution_count": 30,
     "metadata": {},
     "output_type": "execute_result"
    }
   ],
   "source": [
    "train_data.fuelType.unique()"
   ]
  },
  {
   "cell_type": "markdown",
   "metadata": {},
   "source": [
    "### `mileage`"
   ]
  },
  {
   "cell_type": "code",
   "execution_count": 31,
   "metadata": {},
   "outputs": [],
   "source": [
    "#fill mileage\n",
    "for counter, offer in enumerate(data):\n",
    "    if offer['state']['mileage']:\n",
    "        variable = offer['state']['mileage']\n",
    "        train_data.loc[counter, 'mileage'] = variable\n",
    "    else:\n",
    "        train_data.loc[counter, 'mileage'] = None"
   ]
  },
  {
   "cell_type": "markdown",
   "metadata": {},
   "source": [
    "### `modelDate`"
   ]
  },
  {
   "cell_type": "code",
   "execution_count": 32,
   "metadata": {},
   "outputs": [],
   "source": [
    "#fill modelDate\n",
    "for counter, offer in enumerate(data):\n",
    "    if offer['vehicle_info']['super_gen']['year_from']:\n",
    "        variable = offer['vehicle_info']['super_gen']['year_from']\n",
    "        train_data.loc[counter, 'modelDate'] = variable\n",
    "    else:\n",
    "        train_data.loc[counter, 'modelDate'] = None"
   ]
  },
  {
   "cell_type": "markdown",
   "metadata": {},
   "source": [
    "### `model_name`"
   ]
  },
  {
   "cell_type": "code",
   "execution_count": 33,
   "metadata": {},
   "outputs": [],
   "source": [
    "#fill model_name\n",
    "for counter, offer in enumerate(data):\n",
    "    if offer['vehicle_info']['model_info']['code']:\n",
    "        variable = offer['vehicle_info']['model_info']['code']\n",
    "        train_data.loc[counter, 'model_name'] = variable\n",
    "    else:\n",
    "        train_data.loc[counter, 'model_name'] = None"
   ]
  },
  {
   "cell_type": "markdown",
   "metadata": {},
   "source": [
    "### Create a new feature `'popular model'`"
   ]
  },
  {
   "cell_type": "code",
   "execution_count": 34,
   "metadata": {
    "scrolled": true
   },
   "outputs": [],
   "source": [
    "models_train = train_data.model_name.value_counts(normalize=True)"
   ]
  },
  {
   "cell_type": "code",
   "execution_count": 35,
   "metadata": {},
   "outputs": [
    {
     "data": {
      "text/plain": [
       "count    245.000000\n",
       "mean       0.004082\n",
       "std        0.007063\n",
       "min        0.000258\n",
       "25%        0.000516\n",
       "50%        0.001290\n",
       "75%        0.004387\n",
       "max        0.040000\n",
       "Name: model_name, dtype: float64"
      ]
     },
     "execution_count": 35,
     "metadata": {},
     "output_type": "execute_result"
    },
    {
     "data": {
      "image/png": "[encoded data removed]",
      "text/plain": [
       "<Figure size 432x288 with 1 Axes>"
      ]
     },
     "metadata": {
      "needs_background": "light"
     },
     "output_type": "display_data"
    }
   ],
   "source": [
    "models_train.hist()\n",
    "models_train.describe()"
   ]
  },
  {
   "cell_type": "code",
   "execution_count": 36,
   "metadata": {},
   "outputs": [],
   "source": [
    "models_train = models_train.apply(lambda x: round(x, 2))"
   ]
  },
  {
   "cell_type": "code",
   "execution_count": 37,
   "metadata": {},
   "outputs": [],
   "source": [
    "df_models_train = models_train.reset_index()\n",
    "popular_models_train = []\n",
    "for counter, model in enumerate(df_models_train['index']):\n",
    "    if df_models_train['model_name'][counter] > 0:\n",
    "        popular_models_train.append(model)"
   ]
  },
  {
   "cell_type": "code",
   "execution_count": 38,
   "metadata": {},
   "outputs": [
    {
     "data": {
      "text/plain": [
       "56"
      ]
     },
     "execution_count": 38,
     "metadata": {},
     "output_type": "execute_result"
    }
   ],
   "source": [
    "len(popular_models_train)"
   ]
  },
  {
   "cell_type": "code",
   "execution_count": 42,
   "metadata": {},
   "outputs": [],
   "source": [
    "train_data['model_name'] = train_data['model_name'].map(lambda x: 'Popular' if x in popular_models_train else 'Other' )\n",
    "\n",
    "train_data['Popular_model'] = train_data['model_name'].apply(fill_Popular_model)\n",
    "\n",
    "train_data.drop(['model_name'], inplace = True, axis = 1)"
   ]
  },
  {
   "cell_type": "markdown",
   "metadata": {},
   "source": [
    "### `numberOfDoors`"
   ]
  },
  {
   "cell_type": "code",
   "execution_count": 40,
   "metadata": {},
   "outputs": [],
   "source": [
    "#fill numberOfDoors\n",
    "for counter, offer in enumerate(data):\n",
    "    if offer['vehicle_info']['configuration']['doors_count']:\n",
    "        variable = offer['vehicle_info']['configuration']['doors_count']\n",
    "        train_data.loc[counter, 'numberOfDoors'] = variable\n",
    "    else:\n",
    "        train_data.loc[counter, 'numberOfDoors'] = None"
   ]
  },
  {
   "cell_type": "code",
   "execution_count": 43,
   "metadata": {},
   "outputs": [
    {
     "data": {
      "text/plain": [
       "array([4., 5., 2., 3.])"
      ]
     },
     "execution_count": 43,
     "metadata": {},
     "output_type": "execute_result"
    }
   ],
   "source": [
    "train_data.numberOfDoors.unique()"
   ]
  },
  {
   "cell_type": "markdown",
   "metadata": {},
   "source": [
    "### `price`"
   ]
  },
  {
   "cell_type": "code",
   "execution_count": 44,
   "metadata": {},
   "outputs": [],
   "source": [
    "#fill price\n",
    "for counter, offer in enumerate(data):\n",
    "    if offer['price_info'] != {}:\n",
    "        variable = offer['price_info']['price']\n",
    "        train_data.loc[counter, 'price'] = variable\n",
    "    else:\n",
    "        train_data.loc[counter, 'price'] = None"
   ]
  },
  {
   "cell_type": "code",
   "execution_count": 45,
   "metadata": {},
   "outputs": [
    {
     "data": {
      "text/plain": [
       "count     3774.000000\n",
       "mean      2359.883413\n",
       "std       2571.493122\n",
       "min         80.000000\n",
       "25%       1080.000000\n",
       "50%       1730.000000\n",
       "75%       2860.000000\n",
       "max      80800.000000\n",
       "Name: price, dtype: float64"
      ]
     },
     "execution_count": 45,
     "metadata": {},
     "output_type": "execute_result"
    },
    {
     "data": {
      "image/png": "[encoded data removed]",
      "text/plain": [
       "<Figure size 432x288 with 1 Axes>"
      ]
     },
     "metadata": {
      "needs_background": "light"
     },
     "output_type": "display_data"
    }
   ],
   "source": [
    "(train_data['price']/1000).hist()\n",
    "(train_data['price']/1000).describe()"
   ]
  },
  {
   "cell_type": "code",
   "execution_count": 46,
   "metadata": {},
   "outputs": [],
   "source": [
    "# Fill missing values with median price\n",
    "train_data['price'] = train_data['price'].fillna(1730000) "
   ]
  },
  {
   "cell_type": "markdown",
   "metadata": {},
   "source": [
    "### `productionDate`"
   ]
  },
  {
   "cell_type": "code",
   "execution_count": 47,
   "metadata": {},
   "outputs": [],
   "source": [
    "#fill productionDate\n",
    "for counter, offer in enumerate(data):\n",
    "    if offer['documents']['year']:\n",
    "        variable = offer['documents']['year']\n",
    "        train_data.loc[counter, 'productionDate'] = variable\n",
    "    else:\n",
    "        train_data.loc[counter, 'productionDate'] = None"
   ]
  },
  {
   "cell_type": "markdown",
   "metadata": {},
   "source": [
    "### `sell_id`"
   ]
  },
  {
   "cell_type": "code",
   "execution_count": 48,
   "metadata": {},
   "outputs": [],
   "source": [
    "#fill sell_id\n",
    "for counter, offer in enumerate(data):\n",
    "    if offer['id']:\n",
    "        variable = offer['id']\n",
    "        train_data.loc[counter, 'sell_id'] = variable\n",
    "    else:\n",
    "        train_data.loc[counter, 'sell_id'] = None"
   ]
  },
  {
   "cell_type": "markdown",
   "metadata": {},
   "source": [
    "### `vehicleTransmission`"
   ]
  },
  {
   "cell_type": "code",
   "execution_count": 49,
   "metadata": {},
   "outputs": [],
   "source": [
    "#fill vehicleTransmission\n",
    "for counter, offer in enumerate(data):\n",
    "    if offer['vehicle_info']['tech_param']['transmission']:\n",
    "        variable = offer['vehicle_info']['tech_param']['transmission']\n",
    "        train_data.loc[counter, 'vehicleTransmission'] = variable\n",
    "    else:\n",
    "        train_data.loc[counter, 'vehicleTransmission'] = None"
   ]
  },
  {
   "cell_type": "code",
   "execution_count": 50,
   "metadata": {},
   "outputs": [
    {
     "data": {
      "text/plain": [
       "array(['MECHANICAL', 'AUTOMATIC', 'VARIATOR', 'ROBOT'], dtype=object)"
      ]
     },
     "execution_count": 50,
     "metadata": {},
     "output_type": "execute_result"
    }
   ],
   "source": [
    "train_data.vehicleTransmission.unique()"
   ]
  },
  {
   "cell_type": "markdown",
   "metadata": {},
   "source": [
    "### `vendor`"
   ]
  },
  {
   "cell_type": "code",
   "execution_count": 51,
   "metadata": {},
   "outputs": [],
   "source": [
    "#fill vendor\n",
    "for counter, offer in enumerate(data):\n",
    "    if offer['vehicle_info']['vendor']:\n",
    "        variable = offer['vehicle_info']['vendor']\n",
    "        train_data.loc[counter, 'vendor'] = variable\n",
    "    else:\n",
    "        train_data.loc[counter, 'vendor'] = None"
   ]
  },
  {
   "cell_type": "code",
   "execution_count": 52,
   "metadata": {},
   "outputs": [
    {
     "data": {
      "text/plain": [
       "array(['EUROPEAN', 'JAPANESE'], dtype=object)"
      ]
     },
     "execution_count": 52,
     "metadata": {},
     "output_type": "execute_result"
    }
   ],
   "source": [
    "train_data.vendor.unique()"
   ]
  },
  {
   "cell_type": "markdown",
   "metadata": {},
   "source": [
    "### `owners_number`"
   ]
  },
  {
   "cell_type": "code",
   "execution_count": 53,
   "metadata": {},
   "outputs": [],
   "source": [
    "#fill owners_number\n",
    "for counter, offer in enumerate(data):\n",
    "    if offer['documents']['owners_number']:\n",
    "        variable = offer['documents']['owners_number']\n",
    "        train_data.loc[counter, 'owners_number'] = variable\n",
    "    else:\n",
    "        train_data.loc[counter, 'owners_number'] = None"
   ]
  },
  {
   "cell_type": "markdown",
   "metadata": {},
   "source": [
    "### `original_registration`"
   ]
  },
  {
   "cell_type": "code",
   "execution_count": 54,
   "metadata": {},
   "outputs": [],
   "source": [
    "#fill original_registration\n",
    "for counter, offer in enumerate(data):\n",
    "    if offer['documents']['pts']:\n",
    "        variable = offer['documents']['pts']\n",
    "        train_data.loc[counter, 'original_registration'] = variable\n",
    "    else:\n",
    "        train_data.loc[counter, 'original_registration'] = None"
   ]
  },
  {
   "cell_type": "code",
   "execution_count": 55,
   "metadata": {},
   "outputs": [],
   "source": [
    "def fill_pts(car):\n",
    "    if car == 'ORIGINAL':\n",
    "        return 1\n",
    "    else:\n",
    "        return 0"
   ]
  },
  {
   "cell_type": "code",
   "execution_count": 56,
   "metadata": {},
   "outputs": [],
   "source": [
    "train_data['original_registration'] = train_data['original_registration'].apply(fill_pts)"
   ]
  },
  {
   "cell_type": "markdown",
   "metadata": {},
   "source": [
    "### `gear_type`"
   ]
  },
  {
   "cell_type": "code",
   "execution_count": 57,
   "metadata": {},
   "outputs": [],
   "source": [
    "#fill gear_type\t\n",
    "for counter, offer in enumerate(data):\n",
    "    if offer['vehicle_info']['tech_param']['gear_type']:\n",
    "        variable = offer['vehicle_info']['tech_param']['gear_type']\n",
    "        train_data.loc[counter, 'gearType'] = variable\n",
    "    else:\n",
    "        train_data.loc[counter, 'gearType'] = None"
   ]
  },
  {
   "cell_type": "code",
   "execution_count": 58,
   "metadata": {},
   "outputs": [
    {
     "data": {
      "text/plain": [
       "array(['REAR_DRIVE', 'FORWARD_CONTROL', 'ALL_WHEEL_DRIVE'], dtype=object)"
      ]
     },
     "execution_count": 58,
     "metadata": {},
     "output_type": "execute_result"
    }
   ],
   "source": [
    "train_data.gearType.unique()"
   ]
  },
  {
   "cell_type": "markdown",
   "metadata": {},
   "source": [
    "### `steering_wheel`"
   ]
  },
  {
   "cell_type": "code",
   "execution_count": 59,
   "metadata": {},
   "outputs": [],
   "source": [
    "#fill steering_wheel\n",
    "for counter, offer in enumerate(data):\n",
    "    if offer['vehicle_info']['steering_wheel']:\n",
    "        variable = offer['vehicle_info']['steering_wheel']\n",
    "        train_data.loc[counter, 'steering_wheel'] = variable\n",
    "    else:\n",
    "        train_data.loc[counter, 'steering_wheel'] = None"
   ]
  },
  {
   "cell_type": "markdown",
   "metadata": {},
   "source": [
    "# Take a look at the train data"
   ]
  },
  {
   "cell_type": "code",
   "execution_count": 60,
   "metadata": {
    "scrolled": true
   },
   "outputs": [
    {
     "data": {
      "text/html": [
       "<div>\n",
       "<style scoped>\n",
       "    .dataframe tbody tr th:only-of-type {\n",
       "        vertical-align: middle;\n",
       "    }\n",
       "\n",
       "    .dataframe tbody tr th {\n",
       "        vertical-align: top;\n",
       "    }\n",
       "\n",
       "    .dataframe thead th {\n",
       "        text-align: right;\n",
       "    }\n",
       "</style>\n",
       "<table border=\"1\" class=\"dataframe\">\n",
       "  <thead>\n",
       "    <tr style=\"text-align: right;\">\n",
       "      <th></th>\n",
       "      <th>bodyType</th>\n",
       "      <th>brand</th>\n",
       "      <th>color</th>\n",
       "      <th>engineDisplacement</th>\n",
       "      <th>enginePower</th>\n",
       "      <th>fuelType</th>\n",
       "      <th>mileage</th>\n",
       "      <th>modelDate</th>\n",
       "      <th>numberOfDoors</th>\n",
       "      <th>productionDate</th>\n",
       "      <th>sell_id</th>\n",
       "      <th>vehicleTransmission</th>\n",
       "      <th>vendor</th>\n",
       "      <th>owners_number</th>\n",
       "      <th>original_registration</th>\n",
       "      <th>gearType</th>\n",
       "      <th>steering_wheel</th>\n",
       "      <th>price</th>\n",
       "      <th>Popular_model</th>\n",
       "    </tr>\n",
       "  </thead>\n",
       "  <tbody>\n",
       "    <tr>\n",
       "      <th>0</th>\n",
       "      <td>MINIVAN</td>\n",
       "      <td>MERCEDES</td>\n",
       "      <td>BLACK</td>\n",
       "      <td>2.1</td>\n",
       "      <td>163.0</td>\n",
       "      <td>DIESEL</td>\n",
       "      <td>132000.0</td>\n",
       "      <td>2010.0</td>\n",
       "      <td>4.0</td>\n",
       "      <td>2013.0</td>\n",
       "      <td>1105117069</td>\n",
       "      <td>MECHANICAL</td>\n",
       "      <td>EUROPEAN</td>\n",
       "      <td>3.0</td>\n",
       "      <td>1</td>\n",
       "      <td>REAR_DRIVE</td>\n",
       "      <td>LEFT</td>\n",
       "      <td>2310000.0</td>\n",
       "      <td>0</td>\n",
       "    </tr>\n",
       "    <tr>\n",
       "      <th>1</th>\n",
       "      <td>SEDAN</td>\n",
       "      <td>TOYOTA</td>\n",
       "      <td>WHITE</td>\n",
       "      <td>3.5</td>\n",
       "      <td>249.0</td>\n",
       "      <td>GASOLINE</td>\n",
       "      <td>1000.0</td>\n",
       "      <td>2020.0</td>\n",
       "      <td>4.0</td>\n",
       "      <td>2021.0</td>\n",
       "      <td>1105798969</td>\n",
       "      <td>AUTOMATIC</td>\n",
       "      <td>JAPANESE</td>\n",
       "      <td>1.0</td>\n",
       "      <td>1</td>\n",
       "      <td>FORWARD_CONTROL</td>\n",
       "      <td>LEFT</td>\n",
       "      <td>3730000.0</td>\n",
       "      <td>0</td>\n",
       "    </tr>\n",
       "    <tr>\n",
       "      <th>2</th>\n",
       "      <td>SEDAN</td>\n",
       "      <td>NISSAN</td>\n",
       "      <td>BLUE</td>\n",
       "      <td>1.6</td>\n",
       "      <td>102.0</td>\n",
       "      <td>GASOLINE</td>\n",
       "      <td>292000.0</td>\n",
       "      <td>2012.0</td>\n",
       "      <td>4.0</td>\n",
       "      <td>2018.0</td>\n",
       "      <td>1105194592</td>\n",
       "      <td>MECHANICAL</td>\n",
       "      <td>JAPANESE</td>\n",
       "      <td>1.0</td>\n",
       "      <td>1</td>\n",
       "      <td>FORWARD_CONTROL</td>\n",
       "      <td>LEFT</td>\n",
       "      <td>550000.0</td>\n",
       "      <td>0</td>\n",
       "    </tr>\n",
       "    <tr>\n",
       "      <th>3</th>\n",
       "      <td>ALLROAD</td>\n",
       "      <td>LEXUS</td>\n",
       "      <td>BLACK</td>\n",
       "      <td>3.5</td>\n",
       "      <td>263.0</td>\n",
       "      <td>HYBRID</td>\n",
       "      <td>1000.0</td>\n",
       "      <td>2019.0</td>\n",
       "      <td>5.0</td>\n",
       "      <td>2021.0</td>\n",
       "      <td>1104950374</td>\n",
       "      <td>VARIATOR</td>\n",
       "      <td>JAPANESE</td>\n",
       "      <td>1.0</td>\n",
       "      <td>1</td>\n",
       "      <td>ALL_WHEEL_DRIVE</td>\n",
       "      <td>LEFT</td>\n",
       "      <td>4650000.0</td>\n",
       "      <td>0</td>\n",
       "    </tr>\n",
       "    <tr>\n",
       "      <th>4</th>\n",
       "      <td>LIFTBACK</td>\n",
       "      <td>SKODA</td>\n",
       "      <td>GRAY</td>\n",
       "      <td>1.8</td>\n",
       "      <td>150.0</td>\n",
       "      <td>GASOLINE</td>\n",
       "      <td>159000.0</td>\n",
       "      <td>2000.0</td>\n",
       "      <td>5.0</td>\n",
       "      <td>2007.0</td>\n",
       "      <td>1104636339</td>\n",
       "      <td>AUTOMATIC</td>\n",
       "      <td>EUROPEAN</td>\n",
       "      <td>2.0</td>\n",
       "      <td>1</td>\n",
       "      <td>FORWARD_CONTROL</td>\n",
       "      <td>LEFT</td>\n",
       "      <td>340000.0</td>\n",
       "      <td>0</td>\n",
       "    </tr>\n",
       "    <tr>\n",
       "      <th>...</th>\n",
       "      <td>...</td>\n",
       "      <td>...</td>\n",
       "      <td>...</td>\n",
       "      <td>...</td>\n",
       "      <td>...</td>\n",
       "      <td>...</td>\n",
       "      <td>...</td>\n",
       "      <td>...</td>\n",
       "      <td>...</td>\n",
       "      <td>...</td>\n",
       "      <td>...</td>\n",
       "      <td>...</td>\n",
       "      <td>...</td>\n",
       "      <td>...</td>\n",
       "      <td>...</td>\n",
       "      <td>...</td>\n",
       "      <td>...</td>\n",
       "      <td>...</td>\n",
       "      <td>...</td>\n",
       "    </tr>\n",
       "    <tr>\n",
       "      <th>3870</th>\n",
       "      <td>ALLROAD</td>\n",
       "      <td>INFINITI</td>\n",
       "      <td>BLACK</td>\n",
       "      <td>3.7</td>\n",
       "      <td>333.0</td>\n",
       "      <td>GASOLINE</td>\n",
       "      <td>134000.0</td>\n",
       "      <td>2011.0</td>\n",
       "      <td>5.0</td>\n",
       "      <td>2012.0</td>\n",
       "      <td>1105787067</td>\n",
       "      <td>AUTOMATIC</td>\n",
       "      <td>JAPANESE</td>\n",
       "      <td>4.0</td>\n",
       "      <td>1</td>\n",
       "      <td>ALL_WHEEL_DRIVE</td>\n",
       "      <td>LEFT</td>\n",
       "      <td>1880000.0</td>\n",
       "      <td>0</td>\n",
       "    </tr>\n",
       "    <tr>\n",
       "      <th>3871</th>\n",
       "      <td>SEDAN</td>\n",
       "      <td>TOYOTA</td>\n",
       "      <td>BLACK</td>\n",
       "      <td>2.5</td>\n",
       "      <td>178.0</td>\n",
       "      <td>HYBRID</td>\n",
       "      <td>9000.0</td>\n",
       "      <td>2017.0</td>\n",
       "      <td>4.0</td>\n",
       "      <td>2021.0</td>\n",
       "      <td>1105953941</td>\n",
       "      <td>VARIATOR</td>\n",
       "      <td>JAPANESE</td>\n",
       "      <td>1.0</td>\n",
       "      <td>1</td>\n",
       "      <td>ALL_WHEEL_DRIVE</td>\n",
       "      <td>LEFT</td>\n",
       "      <td>3310000.0</td>\n",
       "      <td>0</td>\n",
       "    </tr>\n",
       "    <tr>\n",
       "      <th>3872</th>\n",
       "      <td>ALLROAD</td>\n",
       "      <td>BMW</td>\n",
       "      <td>WHITE</td>\n",
       "      <td>3.0</td>\n",
       "      <td>306.0</td>\n",
       "      <td>GASOLINE</td>\n",
       "      <td>114000.0</td>\n",
       "      <td>2010.0</td>\n",
       "      <td>5.0</td>\n",
       "      <td>2013.0</td>\n",
       "      <td>1105817274</td>\n",
       "      <td>AUTOMATIC</td>\n",
       "      <td>EUROPEAN</td>\n",
       "      <td>3.0</td>\n",
       "      <td>1</td>\n",
       "      <td>ALL_WHEEL_DRIVE</td>\n",
       "      <td>LEFT</td>\n",
       "      <td>2170000.0</td>\n",
       "      <td>0</td>\n",
       "    </tr>\n",
       "    <tr>\n",
       "      <th>3873</th>\n",
       "      <td>SEDAN</td>\n",
       "      <td>MERCEDES</td>\n",
       "      <td>BLACK</td>\n",
       "      <td>1.9</td>\n",
       "      <td>194.0</td>\n",
       "      <td>DIESEL</td>\n",
       "      <td>26000.0</td>\n",
       "      <td>2020.0</td>\n",
       "      <td>4.0</td>\n",
       "      <td>2020.0</td>\n",
       "      <td>1105920887</td>\n",
       "      <td>AUTOMATIC</td>\n",
       "      <td>EUROPEAN</td>\n",
       "      <td>1.0</td>\n",
       "      <td>1</td>\n",
       "      <td>REAR_DRIVE</td>\n",
       "      <td>LEFT</td>\n",
       "      <td>5210000.0</td>\n",
       "      <td>0</td>\n",
       "    </tr>\n",
       "    <tr>\n",
       "      <th>3874</th>\n",
       "      <td>ALLROAD</td>\n",
       "      <td>MERCEDES</td>\n",
       "      <td>BLACK</td>\n",
       "      <td>3.0</td>\n",
       "      <td>333.0</td>\n",
       "      <td>HYBRID</td>\n",
       "      <td>110000.0</td>\n",
       "      <td>2015.0</td>\n",
       "      <td>5.0</td>\n",
       "      <td>2017.0</td>\n",
       "      <td>1105807633</td>\n",
       "      <td>AUTOMATIC</td>\n",
       "      <td>EUROPEAN</td>\n",
       "      <td>2.0</td>\n",
       "      <td>1</td>\n",
       "      <td>ALL_WHEEL_DRIVE</td>\n",
       "      <td>LEFT</td>\n",
       "      <td>3630000.0</td>\n",
       "      <td>0</td>\n",
       "    </tr>\n",
       "  </tbody>\n",
       "</table>\n",
       "<p>3875 rows × 19 columns</p>\n",
       "</div>"
      ],
      "text/plain": [
       "      bodyType     brand  color  engineDisplacement  enginePower  fuelType  \\\n",
       "0      MINIVAN  MERCEDES  BLACK                 2.1        163.0    DIESEL   \n",
       "1        SEDAN    TOYOTA  WHITE                 3.5        249.0  GASOLINE   \n",
       "2        SEDAN    NISSAN   BLUE                 1.6        102.0  GASOLINE   \n",
       "3      ALLROAD     LEXUS  BLACK                 3.5        263.0    HYBRID   \n",
       "4     LIFTBACK     SKODA   GRAY                 1.8        150.0  GASOLINE   \n",
       "...        ...       ...    ...                 ...          ...       ...   \n",
       "3870   ALLROAD  INFINITI  BLACK                 3.7        333.0  GASOLINE   \n",
       "3871     SEDAN    TOYOTA  BLACK                 2.5        178.0    HYBRID   \n",
       "3872   ALLROAD       BMW  WHITE                 3.0        306.0  GASOLINE   \n",
       "3873     SEDAN  MERCEDES  BLACK                 1.9        194.0    DIESEL   \n",
       "3874   ALLROAD  MERCEDES  BLACK                 3.0        333.0    HYBRID   \n",
       "\n",
       "       mileage  modelDate  numberOfDoors  productionDate     sell_id  \\\n",
       "0     132000.0     2010.0            4.0          2013.0  1105117069   \n",
       "1       1000.0     2020.0            4.0          2021.0  1105798969   \n",
       "2     292000.0     2012.0            4.0          2018.0  1105194592   \n",
       "3       1000.0     2019.0            5.0          2021.0  1104950374   \n",
       "4     159000.0     2000.0            5.0          2007.0  1104636339   \n",
       "...        ...        ...            ...             ...         ...   \n",
       "3870  134000.0     2011.0            5.0          2012.0  1105787067   \n",
       "3871    9000.0     2017.0            4.0          2021.0  1105953941   \n",
       "3872  114000.0     2010.0            5.0          2013.0  1105817274   \n",
       "3873   26000.0     2020.0            4.0          2020.0  1105920887   \n",
       "3874  110000.0     2015.0            5.0          2017.0  1105807633   \n",
       "\n",
       "     vehicleTransmission    vendor  owners_number  original_registration  \\\n",
       "0             MECHANICAL  EUROPEAN            3.0                      1   \n",
       "1              AUTOMATIC  JAPANESE            1.0                      1   \n",
       "2             MECHANICAL  JAPANESE            1.0                      1   \n",
       "3               VARIATOR  JAPANESE            1.0                      1   \n",
       "4              AUTOMATIC  EUROPEAN            2.0                      1   \n",
       "...                  ...       ...            ...                    ...   \n",
       "3870           AUTOMATIC  JAPANESE            4.0                      1   \n",
       "3871            VARIATOR  JAPANESE            1.0                      1   \n",
       "3872           AUTOMATIC  EUROPEAN            3.0                      1   \n",
       "3873           AUTOMATIC  EUROPEAN            1.0                      1   \n",
       "3874           AUTOMATIC  EUROPEAN            2.0                      1   \n",
       "\n",
       "             gearType steering_wheel      price  Popular_model  \n",
       "0          REAR_DRIVE           LEFT  2310000.0              0  \n",
       "1     FORWARD_CONTROL           LEFT  3730000.0              0  \n",
       "2     FORWARD_CONTROL           LEFT   550000.0              0  \n",
       "3     ALL_WHEEL_DRIVE           LEFT  4650000.0              0  \n",
       "4     FORWARD_CONTROL           LEFT   340000.0              0  \n",
       "...               ...            ...        ...            ...  \n",
       "3870  ALL_WHEEL_DRIVE           LEFT  1880000.0              0  \n",
       "3871  ALL_WHEEL_DRIVE           LEFT  3310000.0              0  \n",
       "3872  ALL_WHEEL_DRIVE           LEFT  2170000.0              0  \n",
       "3873       REAR_DRIVE           LEFT  5210000.0              0  \n",
       "3874  ALL_WHEEL_DRIVE           LEFT  3630000.0              0  \n",
       "\n",
       "[3875 rows x 19 columns]"
      ]
     },
     "execution_count": 60,
     "metadata": {},
     "output_type": "execute_result"
    }
   ],
   "source": [
    "train_data"
   ]
  },
  {
   "cell_type": "code",
   "execution_count": 61,
   "metadata": {
    "scrolled": true
   },
   "outputs": [
    {
     "name": "stdout",
     "output_type": "stream",
     "text": [
      "<class 'pandas.core.frame.DataFrame'>\n",
      "Int64Index: 3875 entries, 0 to 3874\n",
      "Data columns (total 19 columns):\n",
      " #   Column                 Non-Null Count  Dtype  \n",
      "---  ------                 --------------  -----  \n",
      " 0   bodyType               3875 non-null   object \n",
      " 1   brand                  3875 non-null   object \n",
      " 2   color                  3875 non-null   object \n",
      " 3   engineDisplacement     3875 non-null   float64\n",
      " 4   enginePower            3875 non-null   float64\n",
      " 5   fuelType               3875 non-null   object \n",
      " 6   mileage                3875 non-null   float64\n",
      " 7   modelDate              3875 non-null   float64\n",
      " 8   numberOfDoors          3875 non-null   float64\n",
      " 9   productionDate         3875 non-null   float64\n",
      " 10  sell_id                3875 non-null   object \n",
      " 11  vehicleTransmission    3875 non-null   object \n",
      " 12  vendor                 3875 non-null   object \n",
      " 13  owners_number          3875 non-null   float64\n",
      " 14  original_registration  3875 non-null   int64  \n",
      " 15  gearType               3875 non-null   object \n",
      " 16  steering_wheel         3875 non-null   object \n",
      " 17  price                  3875 non-null   float64\n",
      " 18  Popular_model          3875 non-null   int64  \n",
      "dtypes: float64(8), int64(2), object(9)\n",
      "memory usage: 765.5+ KB\n"
     ]
    }
   ],
   "source": [
    "train_data.info()"
   ]
  },
  {
   "cell_type": "markdown",
   "metadata": {},
   "source": [
    "## Train Data parsed by a team mate "
   ]
  },
  {
   "cell_type": "code",
   "execution_count": 62,
   "metadata": {},
   "outputs": [],
   "source": [
    "train_data_Tatyana = pd.read_csv('car_train_Tatyana.csv')"
   ]
  },
  {
   "cell_type": "code",
   "execution_count": 63,
   "metadata": {},
   "outputs": [
    {
     "data": {
      "text/html": [
       "<div>\n",
       "<style scoped>\n",
       "    .dataframe tbody tr th:only-of-type {\n",
       "        vertical-align: middle;\n",
       "    }\n",
       "\n",
       "    .dataframe tbody tr th {\n",
       "        vertical-align: top;\n",
       "    }\n",
       "\n",
       "    .dataframe thead th {\n",
       "        text-align: right;\n",
       "    }\n",
       "</style>\n",
       "<table border=\"1\" class=\"dataframe\">\n",
       "  <thead>\n",
       "    <tr style=\"text-align: right;\">\n",
       "      <th></th>\n",
       "      <th>bodyType</th>\n",
       "      <th>brand</th>\n",
       "      <th>model_name</th>\n",
       "      <th>color</th>\n",
       "      <th>engineDisplacement</th>\n",
       "      <th>enginePower</th>\n",
       "      <th>fuelType</th>\n",
       "      <th>mileage</th>\n",
       "      <th>modelDate</th>\n",
       "      <th>numberOfDoors</th>\n",
       "      <th>...</th>\n",
       "      <th>vehicleTransmission</th>\n",
       "      <th>vendor</th>\n",
       "      <th>acceleration</th>\n",
       "      <th>clearance_min</th>\n",
       "      <th>fuel_rate</th>\n",
       "      <th>owners_number</th>\n",
       "      <th>original_registration</th>\n",
       "      <th>gearType</th>\n",
       "      <th>steering_wheel</th>\n",
       "      <th>price</th>\n",
       "    </tr>\n",
       "  </thead>\n",
       "  <tbody>\n",
       "    <tr>\n",
       "      <th>0</th>\n",
       "      <td>ALLROAD_5_DOORS</td>\n",
       "      <td>BMW</td>\n",
       "      <td>X5</td>\n",
       "      <td>040001</td>\n",
       "      <td>4619</td>\n",
       "      <td>347</td>\n",
       "      <td>GASOLINE</td>\n",
       "      <td>151151</td>\n",
       "      <td>1999</td>\n",
       "      <td>5</td>\n",
       "      <td>...</td>\n",
       "      <td>AUTOMATIC</td>\n",
       "      <td>EUROPEAN</td>\n",
       "      <td>6.5</td>\n",
       "      <td>180</td>\n",
       "      <td>14.9</td>\n",
       "      <td>3</td>\n",
       "      <td>ORIGINAL</td>\n",
       "      <td>ALL_WHEEL_DRIVE</td>\n",
       "      <td>LEFT</td>\n",
       "      <td>1188000</td>\n",
       "    </tr>\n",
       "    <tr>\n",
       "      <th>1</th>\n",
       "      <td>ALLROAD_5_DOORS</td>\n",
       "      <td>BMW</td>\n",
       "      <td>X5</td>\n",
       "      <td>040001</td>\n",
       "      <td>2993</td>\n",
       "      <td>218</td>\n",
       "      <td>DIESEL</td>\n",
       "      <td>480000</td>\n",
       "      <td>2003</td>\n",
       "      <td>5</td>\n",
       "      <td>...</td>\n",
       "      <td>AUTOMATIC</td>\n",
       "      <td>EUROPEAN</td>\n",
       "      <td>8.8</td>\n",
       "      <td>203</td>\n",
       "      <td>9.4</td>\n",
       "      <td>2</td>\n",
       "      <td>ORIGINAL</td>\n",
       "      <td>ALL_WHEEL_DRIVE</td>\n",
       "      <td>LEFT</td>\n",
       "      <td>855000</td>\n",
       "    </tr>\n",
       "    <tr>\n",
       "      <th>2</th>\n",
       "      <td>ALLROAD_5_DOORS</td>\n",
       "      <td>BMW</td>\n",
       "      <td>X5</td>\n",
       "      <td>97948F</td>\n",
       "      <td>2979</td>\n",
       "      <td>231</td>\n",
       "      <td>GASOLINE</td>\n",
       "      <td>303000</td>\n",
       "      <td>1999</td>\n",
       "      <td>5</td>\n",
       "      <td>...</td>\n",
       "      <td>AUTOMATIC</td>\n",
       "      <td>EUROPEAN</td>\n",
       "      <td>8.8</td>\n",
       "      <td>180</td>\n",
       "      <td>12.9</td>\n",
       "      <td>3</td>\n",
       "      <td>ORIGINAL</td>\n",
       "      <td>ALL_WHEEL_DRIVE</td>\n",
       "      <td>LEFT</td>\n",
       "      <td>720000</td>\n",
       "    </tr>\n",
       "    <tr>\n",
       "      <th>3</th>\n",
       "      <td>SEDAN</td>\n",
       "      <td>BMW</td>\n",
       "      <td>5ER</td>\n",
       "      <td>0000CC</td>\n",
       "      <td>2494</td>\n",
       "      <td>192</td>\n",
       "      <td>GASOLINE</td>\n",
       "      <td>315000</td>\n",
       "      <td>2000</td>\n",
       "      <td>4</td>\n",
       "      <td>...</td>\n",
       "      <td>MECHANICAL</td>\n",
       "      <td>EUROPEAN</td>\n",
       "      <td>8.1</td>\n",
       "      <td>120</td>\n",
       "      <td>9.4</td>\n",
       "      <td>4</td>\n",
       "      <td>DUPLICATE</td>\n",
       "      <td>REAR_DRIVE</td>\n",
       "      <td>LEFT</td>\n",
       "      <td>200000</td>\n",
       "    </tr>\n",
       "    <tr>\n",
       "      <th>4</th>\n",
       "      <td>SEDAN</td>\n",
       "      <td>BMW</td>\n",
       "      <td>5ER</td>\n",
       "      <td>007F00</td>\n",
       "      <td>2494</td>\n",
       "      <td>192</td>\n",
       "      <td>GASOLINE</td>\n",
       "      <td>302543</td>\n",
       "      <td>2000</td>\n",
       "      <td>4</td>\n",
       "      <td>...</td>\n",
       "      <td>AUTOMATIC</td>\n",
       "      <td>EUROPEAN</td>\n",
       "      <td>8.9</td>\n",
       "      <td>120</td>\n",
       "      <td>10.3</td>\n",
       "      <td>3</td>\n",
       "      <td>DUPLICATE</td>\n",
       "      <td>REAR_DRIVE</td>\n",
       "      <td>LEFT</td>\n",
       "      <td>395000</td>\n",
       "    </tr>\n",
       "    <tr>\n",
       "      <th>5</th>\n",
       "      <td>SEDAN</td>\n",
       "      <td>BMW</td>\n",
       "      <td>5ER</td>\n",
       "      <td>0000CC</td>\n",
       "      <td>2494</td>\n",
       "      <td>170</td>\n",
       "      <td>GASOLINE</td>\n",
       "      <td>300000</td>\n",
       "      <td>1995</td>\n",
       "      <td>4</td>\n",
       "      <td>...</td>\n",
       "      <td>MECHANICAL</td>\n",
       "      <td>EUROPEAN</td>\n",
       "      <td>8.5</td>\n",
       "      <td>120</td>\n",
       "      <td>9.7</td>\n",
       "      <td>4</td>\n",
       "      <td>DUPLICATE</td>\n",
       "      <td>REAR_DRIVE</td>\n",
       "      <td>LEFT</td>\n",
       "      <td>275000</td>\n",
       "    </tr>\n",
       "    <tr>\n",
       "      <th>6</th>\n",
       "      <td>SEDAN</td>\n",
       "      <td>BMW</td>\n",
       "      <td>5ER</td>\n",
       "      <td>4A2197</td>\n",
       "      <td>1991</td>\n",
       "      <td>150</td>\n",
       "      <td>GASOLINE</td>\n",
       "      <td>466000</td>\n",
       "      <td>1987</td>\n",
       "      <td>4</td>\n",
       "      <td>...</td>\n",
       "      <td>AUTOMATIC</td>\n",
       "      <td>EUROPEAN</td>\n",
       "      <td>11.7</td>\n",
       "      <td>120</td>\n",
       "      <td>9</td>\n",
       "      <td>4</td>\n",
       "      <td>ORIGINAL</td>\n",
       "      <td>REAR_DRIVE</td>\n",
       "      <td>LEFT</td>\n",
       "      <td>400000</td>\n",
       "    </tr>\n",
       "    <tr>\n",
       "      <th>7</th>\n",
       "      <td>SEDAN</td>\n",
       "      <td>BMW</td>\n",
       "      <td>3ER</td>\n",
       "      <td>040001</td>\n",
       "      <td>2793</td>\n",
       "      <td>193</td>\n",
       "      <td>GASOLINE</td>\n",
       "      <td>315000</td>\n",
       "      <td>1998</td>\n",
       "      <td>4</td>\n",
       "      <td>...</td>\n",
       "      <td>AUTOMATIC</td>\n",
       "      <td>EUROPEAN</td>\n",
       "      <td>8.1</td>\n",
       "      <td>130</td>\n",
       "      <td>10.1</td>\n",
       "      <td>4</td>\n",
       "      <td>DUPLICATE</td>\n",
       "      <td>REAR_DRIVE</td>\n",
       "      <td>LEFT</td>\n",
       "      <td>900000</td>\n",
       "    </tr>\n",
       "    <tr>\n",
       "      <th>8</th>\n",
       "      <td>SEDAN</td>\n",
       "      <td>BMW</td>\n",
       "      <td>5ER</td>\n",
       "      <td>0000CC</td>\n",
       "      <td>2494</td>\n",
       "      <td>170</td>\n",
       "      <td>GASOLINE</td>\n",
       "      <td>500000</td>\n",
       "      <td>1995</td>\n",
       "      <td>4</td>\n",
       "      <td>...</td>\n",
       "      <td>MECHANICAL</td>\n",
       "      <td>EUROPEAN</td>\n",
       "      <td>8.5</td>\n",
       "      <td>120</td>\n",
       "      <td>9.7</td>\n",
       "      <td>4</td>\n",
       "      <td>DUPLICATE</td>\n",
       "      <td>REAR_DRIVE</td>\n",
       "      <td>LEFT</td>\n",
       "      <td>240000</td>\n",
       "    </tr>\n",
       "    <tr>\n",
       "      <th>9</th>\n",
       "      <td>ALLROAD_5_DOORS</td>\n",
       "      <td>BMW</td>\n",
       "      <td>X5</td>\n",
       "      <td>97948F</td>\n",
       "      <td>2979</td>\n",
       "      <td>231</td>\n",
       "      <td>GASOLINE</td>\n",
       "      <td>245000</td>\n",
       "      <td>2003</td>\n",
       "      <td>5</td>\n",
       "      <td>...</td>\n",
       "      <td>AUTOMATIC</td>\n",
       "      <td>EUROPEAN</td>\n",
       "      <td>8.8</td>\n",
       "      <td>203</td>\n",
       "      <td>12.9</td>\n",
       "      <td>2</td>\n",
       "      <td>ORIGINAL</td>\n",
       "      <td>ALL_WHEEL_DRIVE</td>\n",
       "      <td>LEFT</td>\n",
       "      <td>795000</td>\n",
       "    </tr>\n",
       "    <tr>\n",
       "      <th>10</th>\n",
       "      <td>SEDAN</td>\n",
       "      <td>BMW</td>\n",
       "      <td>5ER</td>\n",
       "      <td>0000CC</td>\n",
       "      <td>1991</td>\n",
       "      <td>150</td>\n",
       "      <td>GASOLINE</td>\n",
       "      <td>350000</td>\n",
       "      <td>1987</td>\n",
       "      <td>4</td>\n",
       "      <td>...</td>\n",
       "      <td>MECHANICAL</td>\n",
       "      <td>EUROPEAN</td>\n",
       "      <td>10.6</td>\n",
       "      <td>120</td>\n",
       "      <td>8.9</td>\n",
       "      <td>4</td>\n",
       "      <td>DUPLICATE</td>\n",
       "      <td>REAR_DRIVE</td>\n",
       "      <td>LEFT</td>\n",
       "      <td>60000</td>\n",
       "    </tr>\n",
       "    <tr>\n",
       "      <th>11</th>\n",
       "      <td>SEDAN</td>\n",
       "      <td>BMW</td>\n",
       "      <td>5ER</td>\n",
       "      <td>0000CC</td>\n",
       "      <td>2494</td>\n",
       "      <td>192</td>\n",
       "      <td>GASOLINE</td>\n",
       "      <td>261000</td>\n",
       "      <td>2000</td>\n",
       "      <td>4</td>\n",
       "      <td>...</td>\n",
       "      <td>MECHANICAL</td>\n",
       "      <td>EUROPEAN</td>\n",
       "      <td>8.1</td>\n",
       "      <td>120</td>\n",
       "      <td>9.4</td>\n",
       "      <td>4</td>\n",
       "      <td>ORIGINAL</td>\n",
       "      <td>REAR_DRIVE</td>\n",
       "      <td>LEFT</td>\n",
       "      <td>380000</td>\n",
       "    </tr>\n",
       "    <tr>\n",
       "      <th>12</th>\n",
       "      <td>WAGON_5_DOORS</td>\n",
       "      <td>BMW</td>\n",
       "      <td>5ER</td>\n",
       "      <td>0000CC</td>\n",
       "      <td>2491</td>\n",
       "      <td>170</td>\n",
       "      <td>GASOLINE</td>\n",
       "      <td>250000</td>\n",
       "      <td>1995</td>\n",
       "      <td>5</td>\n",
       "      <td>...</td>\n",
       "      <td>AUTOMATIC</td>\n",
       "      <td>EUROPEAN</td>\n",
       "      <td>10.2</td>\n",
       "      <td>120</td>\n",
       "      <td>10.7</td>\n",
       "      <td>4</td>\n",
       "      <td>DUPLICATE</td>\n",
       "      <td>REAR_DRIVE</td>\n",
       "      <td>LEFT</td>\n",
       "      <td>340000</td>\n",
       "    </tr>\n",
       "    <tr>\n",
       "      <th>13</th>\n",
       "      <td>SEDAN</td>\n",
       "      <td>BMW</td>\n",
       "      <td>7ER</td>\n",
       "      <td>007F00</td>\n",
       "      <td>4398</td>\n",
       "      <td>333</td>\n",
       "      <td>GASOLINE</td>\n",
       "      <td>224000</td>\n",
       "      <td>2001</td>\n",
       "      <td>4</td>\n",
       "      <td>...</td>\n",
       "      <td>AUTOMATIC</td>\n",
       "      <td>EUROPEAN</td>\n",
       "      <td>6.3</td>\n",
       "      <td>120</td>\n",
       "      <td>10.9</td>\n",
       "      <td>4</td>\n",
       "      <td>DUPLICATE</td>\n",
       "      <td>REAR_DRIVE</td>\n",
       "      <td>LEFT</td>\n",
       "      <td>745000</td>\n",
       "    </tr>\n",
       "    <tr>\n",
       "      <th>14</th>\n",
       "      <td>ALLROAD_5_DOORS</td>\n",
       "      <td>BMW</td>\n",
       "      <td>X5</td>\n",
       "      <td>CACECB</td>\n",
       "      <td>4398</td>\n",
       "      <td>286</td>\n",
       "      <td>GASOLINE</td>\n",
       "      <td>380000</td>\n",
       "      <td>1999</td>\n",
       "      <td>5</td>\n",
       "      <td>...</td>\n",
       "      <td>AUTOMATIC</td>\n",
       "      <td>EUROPEAN</td>\n",
       "      <td>7.5</td>\n",
       "      <td>180</td>\n",
       "      <td>13.9</td>\n",
       "      <td>4</td>\n",
       "      <td>DUPLICATE</td>\n",
       "      <td>ALL_WHEEL_DRIVE</td>\n",
       "      <td>LEFT</td>\n",
       "      <td>380000</td>\n",
       "    </tr>\n",
       "  </tbody>\n",
       "</table>\n",
       "<p>15 rows × 22 columns</p>\n",
       "</div>"
      ],
      "text/plain": [
       "           bodyType brand model_name   color  engineDisplacement  enginePower  \\\n",
       "0   ALLROAD_5_DOORS   BMW         X5  040001                4619          347   \n",
       "1   ALLROAD_5_DOORS   BMW         X5  040001                2993          218   \n",
       "2   ALLROAD_5_DOORS   BMW         X5  97948F                2979          231   \n",
       "3             SEDAN   BMW        5ER  0000CC                2494          192   \n",
       "4             SEDAN   BMW        5ER  007F00                2494          192   \n",
       "5             SEDAN   BMW        5ER  0000CC                2494          170   \n",
       "6             SEDAN   BMW        5ER  4A2197                1991          150   \n",
       "7             SEDAN   BMW        3ER  040001                2793          193   \n",
       "8             SEDAN   BMW        5ER  0000CC                2494          170   \n",
       "9   ALLROAD_5_DOORS   BMW         X5  97948F                2979          231   \n",
       "10            SEDAN   BMW        5ER  0000CC                1991          150   \n",
       "11            SEDAN   BMW        5ER  0000CC                2494          192   \n",
       "12    WAGON_5_DOORS   BMW        5ER  0000CC                2491          170   \n",
       "13            SEDAN   BMW        7ER  007F00                4398          333   \n",
       "14  ALLROAD_5_DOORS   BMW         X5  CACECB                4398          286   \n",
       "\n",
       "    fuelType  mileage   modelDate  numberOfDoors  ...   vehicleTransmission  \\\n",
       "0   GASOLINE   151151        1999              5  ...             AUTOMATIC   \n",
       "1     DIESEL   480000        2003              5  ...             AUTOMATIC   \n",
       "2   GASOLINE   303000        1999              5  ...             AUTOMATIC   \n",
       "3   GASOLINE   315000        2000              4  ...            MECHANICAL   \n",
       "4   GASOLINE   302543        2000              4  ...             AUTOMATIC   \n",
       "5   GASOLINE   300000        1995              4  ...            MECHANICAL   \n",
       "6   GASOLINE   466000        1987              4  ...             AUTOMATIC   \n",
       "7   GASOLINE   315000        1998              4  ...             AUTOMATIC   \n",
       "8   GASOLINE   500000        1995              4  ...            MECHANICAL   \n",
       "9   GASOLINE   245000        2003              5  ...             AUTOMATIC   \n",
       "10  GASOLINE   350000        1987              4  ...            MECHANICAL   \n",
       "11  GASOLINE   261000        2000              4  ...            MECHANICAL   \n",
       "12  GASOLINE   250000        1995              5  ...             AUTOMATIC   \n",
       "13  GASOLINE   224000        2001              4  ...             AUTOMATIC   \n",
       "14  GASOLINE   380000        1999              5  ...             AUTOMATIC   \n",
       "\n",
       "      vendor  acceleration  clearance_min  fuel_rate owners_number  \\\n",
       "0   EUROPEAN           6.5            180       14.9             3   \n",
       "1   EUROPEAN           8.8            203        9.4             2   \n",
       "2   EUROPEAN           8.8            180       12.9             3   \n",
       "3   EUROPEAN           8.1            120        9.4             4   \n",
       "4   EUROPEAN           8.9            120       10.3             3   \n",
       "5   EUROPEAN           8.5            120        9.7             4   \n",
       "6   EUROPEAN          11.7            120          9             4   \n",
       "7   EUROPEAN           8.1            130       10.1             4   \n",
       "8   EUROPEAN           8.5            120        9.7             4   \n",
       "9   EUROPEAN           8.8            203       12.9             2   \n",
       "10  EUROPEAN          10.6            120        8.9             4   \n",
       "11  EUROPEAN           8.1            120        9.4             4   \n",
       "12  EUROPEAN          10.2            120       10.7             4   \n",
       "13  EUROPEAN           6.3            120       10.9             4   \n",
       "14  EUROPEAN           7.5            180       13.9             4   \n",
       "\n",
       "       original_registration         gearType  steering_wheel    price  \n",
       "0                   ORIGINAL  ALL_WHEEL_DRIVE            LEFT  1188000  \n",
       "1                   ORIGINAL  ALL_WHEEL_DRIVE            LEFT   855000  \n",
       "2                   ORIGINAL  ALL_WHEEL_DRIVE            LEFT   720000  \n",
       "3                  DUPLICATE       REAR_DRIVE            LEFT   200000  \n",
       "4                  DUPLICATE       REAR_DRIVE            LEFT   395000  \n",
       "5                  DUPLICATE       REAR_DRIVE            LEFT   275000  \n",
       "6                   ORIGINAL       REAR_DRIVE            LEFT   400000  \n",
       "7                  DUPLICATE       REAR_DRIVE            LEFT   900000  \n",
       "8                  DUPLICATE       REAR_DRIVE            LEFT   240000  \n",
       "9                   ORIGINAL  ALL_WHEEL_DRIVE            LEFT   795000  \n",
       "10                 DUPLICATE       REAR_DRIVE            LEFT    60000  \n",
       "11                  ORIGINAL       REAR_DRIVE            LEFT   380000  \n",
       "12                 DUPLICATE       REAR_DRIVE            LEFT   340000  \n",
       "13                 DUPLICATE       REAR_DRIVE            LEFT   745000  \n",
       "14                 DUPLICATE  ALL_WHEEL_DRIVE            LEFT   380000  \n",
       "\n",
       "[15 rows x 22 columns]"
      ]
     },
     "execution_count": 63,
     "metadata": {},
     "output_type": "execute_result"
    }
   ],
   "source": [
    "train_data_Tatyana.head(15)"
   ]
  },
  {
   "cell_type": "code",
   "execution_count": 64,
   "metadata": {
    "scrolled": false
   },
   "outputs": [
    {
     "name": "stdout",
     "output_type": "stream",
     "text": [
      "<class 'pandas.core.frame.DataFrame'>\n",
      "RangeIndex: 30187 entries, 0 to 30186\n",
      "Data columns (total 22 columns):\n",
      " #   Column                     Non-Null Count  Dtype \n",
      "---  ------                     --------------  ----- \n",
      " 0   bodyType                   30187 non-null  object\n",
      " 1   brand                      30187 non-null  object\n",
      " 2   model_name                 30187 non-null  object\n",
      " 3   color                      30187 non-null  object\n",
      " 4   engineDisplacement         30187 non-null  int64 \n",
      " 5   enginePower                30187 non-null  int64 \n",
      " 6   fuelType                   30187 non-null  object\n",
      " 7   mileage                    30187 non-null  int64 \n",
      " 8    modelDate                 30187 non-null  int64 \n",
      " 9   numberOfDoors              30187 non-null  int64 \n",
      " 10  productionDate             30187 non-null  int64 \n",
      " 11   sell_id                   30187 non-null  int64 \n",
      " 12   vehicleTransmission       30187 non-null  object\n",
      " 13   vendor                    30187 non-null  object\n",
      " 14   acceleration              30187 non-null  object\n",
      " 15   clearance_min             30187 non-null  object\n",
      " 16   fuel_rate                 30187 non-null  object\n",
      " 17  owners_number              30187 non-null  object\n",
      " 18      original_registration  30187 non-null  object\n",
      " 19   gearType                  30187 non-null  object\n",
      " 20   steering_wheel            30187 non-null  object\n",
      " 21   price                     30187 non-null  object\n",
      "dtypes: int64(7), object(15)\n",
      "memory usage: 5.1+ MB\n"
     ]
    }
   ],
   "source": [
    "train_data_Tatyana.info()"
   ]
  },
  {
   "cell_type": "code",
   "execution_count": 65,
   "metadata": {},
   "outputs": [
    {
     "data": {
      "text/plain": [
       "Index(['bodyType', 'brand', 'model_name', 'color', 'engineDisplacement',\n",
       "       'enginePower', 'fuelType', 'mileage', ' modelDate', 'numberOfDoors',\n",
       "       'productionDate', ' sell_id', ' vehicleTransmission', ' vendor',\n",
       "       ' acceleration', ' clearance_min', ' fuel_rate', 'owners_number',\n",
       "       '    original_registration', ' gearType', ' steering_wheel', ' price'],\n",
       "      dtype='object')"
      ]
     },
     "execution_count": 65,
     "metadata": {},
     "output_type": "execute_result"
    }
   ],
   "source": [
    "train_data_Tatyana.columns"
   ]
  },
  {
   "cell_type": "code",
   "execution_count": 66,
   "metadata": {},
   "outputs": [],
   "source": [
    "new_columns = ['bodyType', 'brand', 'model_name', 'color', 'engineDisplacement',\n",
    "       'enginePower', 'fuelType', 'mileage', 'modelDate', 'numberOfDoors',\n",
    "       'productionDate', 'sell_id', 'vehicleTransmission', 'vendor',\n",
    "       'acceleration', 'clearance_min', 'fuel_rate', 'owners_number',\n",
    "       'original_registration', 'gearType', 'steering_wheel', 'price']"
   ]
  },
  {
   "cell_type": "code",
   "execution_count": 67,
   "metadata": {},
   "outputs": [],
   "source": [
    "train_data_Tatyana.columns = new_columns"
   ]
  },
  {
   "cell_type": "markdown",
   "metadata": {},
   "source": [
    "### bodyType"
   ]
  },
  {
   "cell_type": "code",
   "execution_count": 68,
   "metadata": {
    "scrolled": true
   },
   "outputs": [
    {
     "data": {
      "text/plain": [
       "array(['ALLROAD_5_DOORS', 'SEDAN', 'WAGON_5_DOORS', 'HATCHBACK_3_DOORS',\n",
       "       'COUPE', 'CABRIO', 'HATCHBACK_5_DOORS', 'COUPE_HARDTOP',\n",
       "       'ROADSTER', 'LIFTBACK', 'COMPACTVAN', 'MINIVAN', 'VAN',\n",
       "       'PICKUP_TWO', 'PICKUP_ONE', 'ALLROAD_3_DOORS', 'MICROVAN',\n",
       "       'LIMOUSINE', 'ALLROAD_OPEN', 'SEDAN_HARDTOP', 'PICKUP_ONE_HALF',\n",
       "       'TARGA'], dtype=object)"
      ]
     },
     "execution_count": 68,
     "metadata": {},
     "output_type": "execute_result"
    }
   ],
   "source": [
    "train_data_Tatyana.bodyType.unique()"
   ]
  },
  {
   "cell_type": "code",
   "execution_count": 69,
   "metadata": {},
   "outputs": [],
   "source": [
    "train_data_Tatyana['bodyType'] = train_data_Tatyana['bodyType'].apply(fill_bodyType)"
   ]
  },
  {
   "cell_type": "markdown",
   "metadata": {},
   "source": [
    "### brand"
   ]
  },
  {
   "cell_type": "code",
   "execution_count": 70,
   "metadata": {},
   "outputs": [
    {
     "data": {
      "text/plain": [
       "array(['BMW', 'VOLKSWAGEN', 'NISSAN', 'MERCEDES', 'TOYOTA', 'AUDI',\n",
       "       'MITSUBISHI', 'SKODA', 'HONDA', 'INFINITI', 'LEXUS', 'VOLVO'],\n",
       "      dtype=object)"
      ]
     },
     "execution_count": 70,
     "metadata": {},
     "output_type": "execute_result"
    }
   ],
   "source": [
    "train_data_Tatyana.brand.unique()"
   ]
  },
  {
   "cell_type": "markdown",
   "metadata": {},
   "source": [
    "### model_name"
   ]
  },
  {
   "cell_type": "code",
   "execution_count": 71,
   "metadata": {},
   "outputs": [
    {
     "data": {
      "text/plain": [
       "511"
      ]
     },
     "execution_count": 71,
     "metadata": {},
     "output_type": "execute_result"
    }
   ],
   "source": [
    "len(train_data_Tatyana.model_name.unique())"
   ]
  },
  {
   "cell_type": "code",
   "execution_count": 72,
   "metadata": {},
   "outputs": [
    {
     "data": {
      "text/plain": [
       "OCTAVIA     0.033027\n",
       "E_KLASSE    0.032630\n",
       "5ER         0.031404\n",
       "POLO        0.025475\n",
       "3ER         0.024050\n",
       "              ...   \n",
       "BEAT        0.000033\n",
       "ENDEAVOR    0.000033\n",
       "IST         0.000033\n",
       "POLO_GTI    0.000033\n",
       "DION        0.000033\n",
       "Name: model_name, Length: 511, dtype: float64"
      ]
     },
     "execution_count": 72,
     "metadata": {},
     "output_type": "execute_result"
    }
   ],
   "source": [
    "models_Tatyana = train_data_Tatyana.model_name.value_counts(normalize=True)\n",
    "models_Tatyana"
   ]
  },
  {
   "cell_type": "code",
   "execution_count": 73,
   "metadata": {
    "scrolled": true
   },
   "outputs": [
    {
     "data": {
      "text/plain": [
       "count    511.000000\n",
       "mean       0.001957\n",
       "std        0.004510\n",
       "min        0.000033\n",
       "25%        0.000099\n",
       "50%        0.000265\n",
       "75%        0.001441\n",
       "max        0.033027\n",
       "Name: model_name, dtype: float64"
      ]
     },
     "execution_count": 73,
     "metadata": {},
     "output_type": "execute_result"
    },
    {
     "data": {
      "image/png": "[encoded data removed]",
      "text/plain": [
       "<Figure size 432x288 with 1 Axes>"
      ]
     },
     "metadata": {
      "needs_background": "light"
     },
     "output_type": "display_data"
    }
   ],
   "source": [
    "models_Tatyana.hist()\n",
    "models_Tatyana.describe()"
   ]
  },
  {
   "cell_type": "code",
   "execution_count": 74,
   "metadata": {},
   "outputs": [],
   "source": [
    "models_Tatyana = models_Tatyana.apply(lambda x: round(x, 2))"
   ]
  },
  {
   "cell_type": "code",
   "execution_count": 75,
   "metadata": {},
   "outputs": [],
   "source": [
    "df_models_Tatyana = models_Tatyana.reset_index()\n",
    "popular_models_Tatyana = []\n",
    "for counter, model in enumerate(df_models_Tatyana['index']):\n",
    "    if df_models_Tatyana['model_name'][counter] > 0:\n",
    "        popular_models_Tatyana.append(model)"
   ]
  },
  {
   "cell_type": "code",
   "execution_count": 76,
   "metadata": {},
   "outputs": [],
   "source": [
    "train_data_Tatyana['model_name'] = train_data_Tatyana['model_name'].map(lambda x: 'Popular' if x in popular_models_Tatyana else 'Other' )\n",
    "\n",
    "train_data_Tatyana['Popular_model'] = train_data_Tatyana['model_name'].apply(fill_Popular_model)\n",
    "\n",
    "train_data_Tatyana.drop(['model_name'], inplace = True, axis = 1)\n"
   ]
  },
  {
   "cell_type": "markdown",
   "metadata": {},
   "source": [
    "### color"
   ]
  },
  {
   "cell_type": "code",
   "execution_count": 77,
   "metadata": {},
   "outputs": [
    {
     "data": {
      "text/plain": [
       "array(['040001', '97948F', '0000CC', '007F00', '4A2197', 'CACECB',\n",
       "       'FAFBFB', 'EE1D19', '22A0F8', '660099', 'C49648', 'DEA522',\n",
       "       'FFD600', '200204', 'FF8649', 'FFC0CB'], dtype=object)"
      ]
     },
     "execution_count": 77,
     "metadata": {},
     "output_type": "execute_result"
    }
   ],
   "source": [
    "train_data_Tatyana.color.unique()"
   ]
  },
  {
   "cell_type": "code",
   "execution_count": 78,
   "metadata": {},
   "outputs": [],
   "source": [
    "def fill_color(car):\n",
    "    if car == '0000CC':\n",
    "        return 'BLUE'\n",
    "    elif car == \"040001\":\n",
    "        return 'BLACK'\n",
    "    elif car == \"200204\":\n",
    "        return 'BLACK'\n",
    "    elif car == \"97948F\":\n",
    "        return 'GRAY'\n",
    "    elif car == \"FAFBFB\":\n",
    "        return 'WHITE'\n",
    "    elif car == \"CACECB\":\n",
    "        return 'SILVER'\n",
    "    elif car == \"EE1D19\":\n",
    "        return 'RED'\n",
    "    elif car == \"007F00\":\n",
    "        return 'GREEN'\n",
    "    elif car == \"FFD600\":\n",
    "        return 'YELLOW'\n",
    "    elif car == \"22A0F8\":\n",
    "        return 'LIGHT_BLUE'\n",
    "    elif car == \"FF8649\":\n",
    "        return 'ORANGE'\n",
    "    elif car == \"660099\":\n",
    "        return 'PURPLE'\n",
    "    elif car == \"4A2197\":\n",
    "        return 'PURPLE'\n",
    "    elif car == \"C49648\":\n",
    "        return 'GOLDEN'\n",
    "    elif car == \"DEA522\":\n",
    "        return 'GOLDEN'\n",
    "    elif car == \"FFC0CB\":\n",
    "        return 'PINK'"
   ]
  },
  {
   "cell_type": "code",
   "execution_count": 79,
   "metadata": {},
   "outputs": [],
   "source": [
    "train_data_Tatyana['color'] = train_data_Tatyana['color'].apply(fill_color)"
   ]
  },
  {
   "cell_type": "markdown",
   "metadata": {},
   "source": [
    "### engineDisplacement"
   ]
  },
  {
   "cell_type": "code",
   "execution_count": 80,
   "metadata": {},
   "outputs": [],
   "source": [
    "train_data_Tatyana['engineDisplacement'] = train_data_Tatyana['engineDisplacement'].map(lambda x: round(x/1000, 1) )"
   ]
  },
  {
   "cell_type": "markdown",
   "metadata": {},
   "source": [
    "### price"
   ]
  },
  {
   "cell_type": "code",
   "execution_count": 81,
   "metadata": {},
   "outputs": [
    {
     "data": {
      "text/plain": [
       "79"
      ]
     },
     "execution_count": 81,
     "metadata": {},
     "output_type": "execute_result"
    }
   ],
   "source": [
    "len(train_data_Tatyana[train_data_Tatyana.price == 'None'])"
   ]
  },
  {
   "cell_type": "code",
   "execution_count": 82,
   "metadata": {},
   "outputs": [],
   "source": [
    "train_data_Tatyana['price'] = train_data_Tatyana['price'].map(lambda x: '0' if x == 'None' else x )\n"
   ]
  },
  {
   "cell_type": "code",
   "execution_count": 83,
   "metadata": {},
   "outputs": [],
   "source": [
    "train_data_Tatyana['price'] = train_data_Tatyana['price'].map(lambda x: int(x) )"
   ]
  },
  {
   "cell_type": "code",
   "execution_count": 84,
   "metadata": {},
   "outputs": [
    {
     "data": {
      "text/plain": [
       "count    30108.000000\n",
       "mean      1806.258665\n",
       "std       2065.868062\n",
       "min         35.000000\n",
       "25%        680.000000\n",
       "50%       1270.000000\n",
       "75%       2220.000000\n",
       "max      80000.000000\n",
       "Name: price, dtype: float64"
      ]
     },
     "execution_count": 84,
     "metadata": {},
     "output_type": "execute_result"
    }
   ],
   "source": [
    "(train_data_Tatyana[train_data_Tatyana['price'] > 0]['price']/1000).describe()"
   ]
  },
  {
   "cell_type": "code",
   "execution_count": 85,
   "metadata": {},
   "outputs": [],
   "source": [
    "train_data_Tatyana['price'] = train_data_Tatyana['price'].map(lambda x: 1270000 if x == 0 else x )"
   ]
  },
  {
   "cell_type": "markdown",
   "metadata": {},
   "source": [
    "### owners_number"
   ]
  },
  {
   "cell_type": "code",
   "execution_count": 86,
   "metadata": {},
   "outputs": [],
   "source": [
    "train_data_Tatyana['owners_number'] = train_data_Tatyana['owners_number'].map(lambda x: None if x == 'None' else x )\n"
   ]
  },
  {
   "cell_type": "code",
   "execution_count": 87,
   "metadata": {},
   "outputs": [],
   "source": [
    "train_data_Tatyana['owners_number'] = train_data_Tatyana['owners_number'].fillna(0) "
   ]
  },
  {
   "cell_type": "code",
   "execution_count": 88,
   "metadata": {},
   "outputs": [],
   "source": [
    "train_data_Tatyana['owners_number'] = train_data_Tatyana['owners_number'].map(lambda x: int(x) )"
   ]
  },
  {
   "cell_type": "code",
   "execution_count": 89,
   "metadata": {
    "scrolled": true
   },
   "outputs": [
    {
     "data": {
      "text/plain": [
       "array([3, 2, 4, 1, 0])"
      ]
     },
     "execution_count": 89,
     "metadata": {},
     "output_type": "execute_result"
    }
   ],
   "source": [
    "train_data_Tatyana.owners_number.unique()"
   ]
  },
  {
   "cell_type": "markdown",
   "metadata": {},
   "source": [
    "### original_registration"
   ]
  },
  {
   "cell_type": "code",
   "execution_count": 90,
   "metadata": {},
   "outputs": [
    {
     "data": {
      "text/plain": [
       "array(['ORIGINAL', 'DUPLICATE', 'None'], dtype=object)"
      ]
     },
     "execution_count": 90,
     "metadata": {},
     "output_type": "execute_result"
    }
   ],
   "source": [
    "train_data_Tatyana.original_registration.unique()"
   ]
  },
  {
   "cell_type": "code",
   "execution_count": 91,
   "metadata": {},
   "outputs": [
    {
     "data": {
      "text/plain": [
       "4"
      ]
     },
     "execution_count": 91,
     "metadata": {},
     "output_type": "execute_result"
    }
   ],
   "source": [
    "len(train_data_Tatyana[train_data_Tatyana.original_registration == 'None'])"
   ]
  },
  {
   "cell_type": "code",
   "execution_count": 92,
   "metadata": {},
   "outputs": [],
   "source": [
    "train_data_Tatyana['original_registration'] = train_data_Tatyana['original_registration'].map(lambda x: 'ORIGINAL' if x == 'None' else x )\n",
    "\n"
   ]
  },
  {
   "cell_type": "code",
   "execution_count": 93,
   "metadata": {},
   "outputs": [],
   "source": [
    "train_data_Tatyana['original_registration'] = train_data_Tatyana['original_registration'].apply(fill_pts)"
   ]
  },
  {
   "cell_type": "markdown",
   "metadata": {},
   "source": [
    "Take a look one more time"
   ]
  },
  {
   "cell_type": "code",
   "execution_count": 94,
   "metadata": {
    "scrolled": true
   },
   "outputs": [
    {
     "data": {
      "text/html": [
       "<div>\n",
       "<style scoped>\n",
       "    .dataframe tbody tr th:only-of-type {\n",
       "        vertical-align: middle;\n",
       "    }\n",
       "\n",
       "    .dataframe tbody tr th {\n",
       "        vertical-align: top;\n",
       "    }\n",
       "\n",
       "    .dataframe thead th {\n",
       "        text-align: right;\n",
       "    }\n",
       "</style>\n",
       "<table border=\"1\" class=\"dataframe\">\n",
       "  <thead>\n",
       "    <tr style=\"text-align: right;\">\n",
       "      <th></th>\n",
       "      <th>bodyType</th>\n",
       "      <th>brand</th>\n",
       "      <th>color</th>\n",
       "      <th>engineDisplacement</th>\n",
       "      <th>enginePower</th>\n",
       "      <th>fuelType</th>\n",
       "      <th>mileage</th>\n",
       "      <th>modelDate</th>\n",
       "      <th>numberOfDoors</th>\n",
       "      <th>productionDate</th>\n",
       "      <th>...</th>\n",
       "      <th>vendor</th>\n",
       "      <th>acceleration</th>\n",
       "      <th>clearance_min</th>\n",
       "      <th>fuel_rate</th>\n",
       "      <th>owners_number</th>\n",
       "      <th>original_registration</th>\n",
       "      <th>gearType</th>\n",
       "      <th>steering_wheel</th>\n",
       "      <th>price</th>\n",
       "      <th>Popular_model</th>\n",
       "    </tr>\n",
       "  </thead>\n",
       "  <tbody>\n",
       "    <tr>\n",
       "      <th>0</th>\n",
       "      <td>ALLROAD</td>\n",
       "      <td>BMW</td>\n",
       "      <td>BLACK</td>\n",
       "      <td>4.6</td>\n",
       "      <td>347</td>\n",
       "      <td>GASOLINE</td>\n",
       "      <td>151151</td>\n",
       "      <td>1999</td>\n",
       "      <td>5</td>\n",
       "      <td>2003</td>\n",
       "      <td>...</td>\n",
       "      <td>EUROPEAN</td>\n",
       "      <td>6.5</td>\n",
       "      <td>180</td>\n",
       "      <td>14.9</td>\n",
       "      <td>3</td>\n",
       "      <td>1</td>\n",
       "      <td>ALL_WHEEL_DRIVE</td>\n",
       "      <td>LEFT</td>\n",
       "      <td>1188000</td>\n",
       "      <td>1</td>\n",
       "    </tr>\n",
       "    <tr>\n",
       "      <th>1</th>\n",
       "      <td>ALLROAD</td>\n",
       "      <td>BMW</td>\n",
       "      <td>BLACK</td>\n",
       "      <td>3.0</td>\n",
       "      <td>218</td>\n",
       "      <td>DIESEL</td>\n",
       "      <td>480000</td>\n",
       "      <td>2003</td>\n",
       "      <td>5</td>\n",
       "      <td>2004</td>\n",
       "      <td>...</td>\n",
       "      <td>EUROPEAN</td>\n",
       "      <td>8.8</td>\n",
       "      <td>203</td>\n",
       "      <td>9.4</td>\n",
       "      <td>2</td>\n",
       "      <td>1</td>\n",
       "      <td>ALL_WHEEL_DRIVE</td>\n",
       "      <td>LEFT</td>\n",
       "      <td>855000</td>\n",
       "      <td>1</td>\n",
       "    </tr>\n",
       "    <tr>\n",
       "      <th>2</th>\n",
       "      <td>ALLROAD</td>\n",
       "      <td>BMW</td>\n",
       "      <td>GRAY</td>\n",
       "      <td>3.0</td>\n",
       "      <td>231</td>\n",
       "      <td>GASOLINE</td>\n",
       "      <td>303000</td>\n",
       "      <td>1999</td>\n",
       "      <td>5</td>\n",
       "      <td>2002</td>\n",
       "      <td>...</td>\n",
       "      <td>EUROPEAN</td>\n",
       "      <td>8.8</td>\n",
       "      <td>180</td>\n",
       "      <td>12.9</td>\n",
       "      <td>3</td>\n",
       "      <td>1</td>\n",
       "      <td>ALL_WHEEL_DRIVE</td>\n",
       "      <td>LEFT</td>\n",
       "      <td>720000</td>\n",
       "      <td>1</td>\n",
       "    </tr>\n",
       "    <tr>\n",
       "      <th>3</th>\n",
       "      <td>SEDAN</td>\n",
       "      <td>BMW</td>\n",
       "      <td>BLUE</td>\n",
       "      <td>2.5</td>\n",
       "      <td>192</td>\n",
       "      <td>GASOLINE</td>\n",
       "      <td>315000</td>\n",
       "      <td>2000</td>\n",
       "      <td>4</td>\n",
       "      <td>2003</td>\n",
       "      <td>...</td>\n",
       "      <td>EUROPEAN</td>\n",
       "      <td>8.1</td>\n",
       "      <td>120</td>\n",
       "      <td>9.4</td>\n",
       "      <td>4</td>\n",
       "      <td>0</td>\n",
       "      <td>REAR_DRIVE</td>\n",
       "      <td>LEFT</td>\n",
       "      <td>200000</td>\n",
       "      <td>1</td>\n",
       "    </tr>\n",
       "    <tr>\n",
       "      <th>4</th>\n",
       "      <td>SEDAN</td>\n",
       "      <td>BMW</td>\n",
       "      <td>GREEN</td>\n",
       "      <td>2.5</td>\n",
       "      <td>192</td>\n",
       "      <td>GASOLINE</td>\n",
       "      <td>302543</td>\n",
       "      <td>2000</td>\n",
       "      <td>4</td>\n",
       "      <td>2002</td>\n",
       "      <td>...</td>\n",
       "      <td>EUROPEAN</td>\n",
       "      <td>8.9</td>\n",
       "      <td>120</td>\n",
       "      <td>10.3</td>\n",
       "      <td>3</td>\n",
       "      <td>0</td>\n",
       "      <td>REAR_DRIVE</td>\n",
       "      <td>LEFT</td>\n",
       "      <td>395000</td>\n",
       "      <td>1</td>\n",
       "    </tr>\n",
       "    <tr>\n",
       "      <th>5</th>\n",
       "      <td>SEDAN</td>\n",
       "      <td>BMW</td>\n",
       "      <td>BLUE</td>\n",
       "      <td>2.5</td>\n",
       "      <td>170</td>\n",
       "      <td>GASOLINE</td>\n",
       "      <td>300000</td>\n",
       "      <td>1995</td>\n",
       "      <td>4</td>\n",
       "      <td>1999</td>\n",
       "      <td>...</td>\n",
       "      <td>EUROPEAN</td>\n",
       "      <td>8.5</td>\n",
       "      <td>120</td>\n",
       "      <td>9.7</td>\n",
       "      <td>4</td>\n",
       "      <td>0</td>\n",
       "      <td>REAR_DRIVE</td>\n",
       "      <td>LEFT</td>\n",
       "      <td>275000</td>\n",
       "      <td>1</td>\n",
       "    </tr>\n",
       "    <tr>\n",
       "      <th>6</th>\n",
       "      <td>SEDAN</td>\n",
       "      <td>BMW</td>\n",
       "      <td>PURPLE</td>\n",
       "      <td>2.0</td>\n",
       "      <td>150</td>\n",
       "      <td>GASOLINE</td>\n",
       "      <td>466000</td>\n",
       "      <td>1987</td>\n",
       "      <td>4</td>\n",
       "      <td>1995</td>\n",
       "      <td>...</td>\n",
       "      <td>EUROPEAN</td>\n",
       "      <td>11.7</td>\n",
       "      <td>120</td>\n",
       "      <td>9</td>\n",
       "      <td>4</td>\n",
       "      <td>1</td>\n",
       "      <td>REAR_DRIVE</td>\n",
       "      <td>LEFT</td>\n",
       "      <td>400000</td>\n",
       "      <td>1</td>\n",
       "    </tr>\n",
       "    <tr>\n",
       "      <th>7</th>\n",
       "      <td>SEDAN</td>\n",
       "      <td>BMW</td>\n",
       "      <td>BLACK</td>\n",
       "      <td>2.8</td>\n",
       "      <td>193</td>\n",
       "      <td>GASOLINE</td>\n",
       "      <td>315000</td>\n",
       "      <td>1998</td>\n",
       "      <td>4</td>\n",
       "      <td>2000</td>\n",
       "      <td>...</td>\n",
       "      <td>EUROPEAN</td>\n",
       "      <td>8.1</td>\n",
       "      <td>130</td>\n",
       "      <td>10.1</td>\n",
       "      <td>4</td>\n",
       "      <td>0</td>\n",
       "      <td>REAR_DRIVE</td>\n",
       "      <td>LEFT</td>\n",
       "      <td>900000</td>\n",
       "      <td>1</td>\n",
       "    </tr>\n",
       "    <tr>\n",
       "      <th>8</th>\n",
       "      <td>SEDAN</td>\n",
       "      <td>BMW</td>\n",
       "      <td>BLUE</td>\n",
       "      <td>2.5</td>\n",
       "      <td>170</td>\n",
       "      <td>GASOLINE</td>\n",
       "      <td>500000</td>\n",
       "      <td>1995</td>\n",
       "      <td>4</td>\n",
       "      <td>1996</td>\n",
       "      <td>...</td>\n",
       "      <td>EUROPEAN</td>\n",
       "      <td>8.5</td>\n",
       "      <td>120</td>\n",
       "      <td>9.7</td>\n",
       "      <td>4</td>\n",
       "      <td>0</td>\n",
       "      <td>REAR_DRIVE</td>\n",
       "      <td>LEFT</td>\n",
       "      <td>240000</td>\n",
       "      <td>1</td>\n",
       "    </tr>\n",
       "    <tr>\n",
       "      <th>9</th>\n",
       "      <td>ALLROAD</td>\n",
       "      <td>BMW</td>\n",
       "      <td>GRAY</td>\n",
       "      <td>3.0</td>\n",
       "      <td>231</td>\n",
       "      <td>GASOLINE</td>\n",
       "      <td>245000</td>\n",
       "      <td>2003</td>\n",
       "      <td>5</td>\n",
       "      <td>2004</td>\n",
       "      <td>...</td>\n",
       "      <td>EUROPEAN</td>\n",
       "      <td>8.8</td>\n",
       "      <td>203</td>\n",
       "      <td>12.9</td>\n",
       "      <td>2</td>\n",
       "      <td>1</td>\n",
       "      <td>ALL_WHEEL_DRIVE</td>\n",
       "      <td>LEFT</td>\n",
       "      <td>795000</td>\n",
       "      <td>1</td>\n",
       "    </tr>\n",
       "    <tr>\n",
       "      <th>10</th>\n",
       "      <td>SEDAN</td>\n",
       "      <td>BMW</td>\n",
       "      <td>BLUE</td>\n",
       "      <td>2.0</td>\n",
       "      <td>150</td>\n",
       "      <td>GASOLINE</td>\n",
       "      <td>350000</td>\n",
       "      <td>1987</td>\n",
       "      <td>4</td>\n",
       "      <td>1992</td>\n",
       "      <td>...</td>\n",
       "      <td>EUROPEAN</td>\n",
       "      <td>10.6</td>\n",
       "      <td>120</td>\n",
       "      <td>8.9</td>\n",
       "      <td>4</td>\n",
       "      <td>0</td>\n",
       "      <td>REAR_DRIVE</td>\n",
       "      <td>LEFT</td>\n",
       "      <td>60000</td>\n",
       "      <td>1</td>\n",
       "    </tr>\n",
       "    <tr>\n",
       "      <th>11</th>\n",
       "      <td>SEDAN</td>\n",
       "      <td>BMW</td>\n",
       "      <td>BLUE</td>\n",
       "      <td>2.5</td>\n",
       "      <td>192</td>\n",
       "      <td>GASOLINE</td>\n",
       "      <td>261000</td>\n",
       "      <td>2000</td>\n",
       "      <td>4</td>\n",
       "      <td>2002</td>\n",
       "      <td>...</td>\n",
       "      <td>EUROPEAN</td>\n",
       "      <td>8.1</td>\n",
       "      <td>120</td>\n",
       "      <td>9.4</td>\n",
       "      <td>4</td>\n",
       "      <td>1</td>\n",
       "      <td>REAR_DRIVE</td>\n",
       "      <td>LEFT</td>\n",
       "      <td>380000</td>\n",
       "      <td>1</td>\n",
       "    </tr>\n",
       "    <tr>\n",
       "      <th>12</th>\n",
       "      <td>WAGON</td>\n",
       "      <td>BMW</td>\n",
       "      <td>BLUE</td>\n",
       "      <td>2.5</td>\n",
       "      <td>170</td>\n",
       "      <td>GASOLINE</td>\n",
       "      <td>250000</td>\n",
       "      <td>1995</td>\n",
       "      <td>5</td>\n",
       "      <td>1999</td>\n",
       "      <td>...</td>\n",
       "      <td>EUROPEAN</td>\n",
       "      <td>10.2</td>\n",
       "      <td>120</td>\n",
       "      <td>10.7</td>\n",
       "      <td>4</td>\n",
       "      <td>0</td>\n",
       "      <td>REAR_DRIVE</td>\n",
       "      <td>LEFT</td>\n",
       "      <td>340000</td>\n",
       "      <td>1</td>\n",
       "    </tr>\n",
       "    <tr>\n",
       "      <th>13</th>\n",
       "      <td>SEDAN</td>\n",
       "      <td>BMW</td>\n",
       "      <td>GREEN</td>\n",
       "      <td>4.4</td>\n",
       "      <td>333</td>\n",
       "      <td>GASOLINE</td>\n",
       "      <td>224000</td>\n",
       "      <td>2001</td>\n",
       "      <td>4</td>\n",
       "      <td>2002</td>\n",
       "      <td>...</td>\n",
       "      <td>EUROPEAN</td>\n",
       "      <td>6.3</td>\n",
       "      <td>120</td>\n",
       "      <td>10.9</td>\n",
       "      <td>4</td>\n",
       "      <td>0</td>\n",
       "      <td>REAR_DRIVE</td>\n",
       "      <td>LEFT</td>\n",
       "      <td>745000</td>\n",
       "      <td>1</td>\n",
       "    </tr>\n",
       "    <tr>\n",
       "      <th>14</th>\n",
       "      <td>ALLROAD</td>\n",
       "      <td>BMW</td>\n",
       "      <td>SILVER</td>\n",
       "      <td>4.4</td>\n",
       "      <td>286</td>\n",
       "      <td>GASOLINE</td>\n",
       "      <td>380000</td>\n",
       "      <td>1999</td>\n",
       "      <td>5</td>\n",
       "      <td>2002</td>\n",
       "      <td>...</td>\n",
       "      <td>EUROPEAN</td>\n",
       "      <td>7.5</td>\n",
       "      <td>180</td>\n",
       "      <td>13.9</td>\n",
       "      <td>4</td>\n",
       "      <td>0</td>\n",
       "      <td>ALL_WHEEL_DRIVE</td>\n",
       "      <td>LEFT</td>\n",
       "      <td>380000</td>\n",
       "      <td>1</td>\n",
       "    </tr>\n",
       "  </tbody>\n",
       "</table>\n",
       "<p>15 rows × 22 columns</p>\n",
       "</div>"
      ],
      "text/plain": [
       "   bodyType brand   color  engineDisplacement  enginePower  fuelType  mileage  \\\n",
       "0   ALLROAD   BMW   BLACK                 4.6          347  GASOLINE   151151   \n",
       "1   ALLROAD   BMW   BLACK                 3.0          218    DIESEL   480000   \n",
       "2   ALLROAD   BMW    GRAY                 3.0          231  GASOLINE   303000   \n",
       "3     SEDAN   BMW    BLUE                 2.5          192  GASOLINE   315000   \n",
       "4     SEDAN   BMW   GREEN                 2.5          192  GASOLINE   302543   \n",
       "5     SEDAN   BMW    BLUE                 2.5          170  GASOLINE   300000   \n",
       "6     SEDAN   BMW  PURPLE                 2.0          150  GASOLINE   466000   \n",
       "7     SEDAN   BMW   BLACK                 2.8          193  GASOLINE   315000   \n",
       "8     SEDAN   BMW    BLUE                 2.5          170  GASOLINE   500000   \n",
       "9   ALLROAD   BMW    GRAY                 3.0          231  GASOLINE   245000   \n",
       "10    SEDAN   BMW    BLUE                 2.0          150  GASOLINE   350000   \n",
       "11    SEDAN   BMW    BLUE                 2.5          192  GASOLINE   261000   \n",
       "12    WAGON   BMW    BLUE                 2.5          170  GASOLINE   250000   \n",
       "13    SEDAN   BMW   GREEN                 4.4          333  GASOLINE   224000   \n",
       "14  ALLROAD   BMW  SILVER                 4.4          286  GASOLINE   380000   \n",
       "\n",
       "    modelDate  numberOfDoors  productionDate  ...    vendor acceleration  \\\n",
       "0        1999              5            2003  ...  EUROPEAN          6.5   \n",
       "1        2003              5            2004  ...  EUROPEAN          8.8   \n",
       "2        1999              5            2002  ...  EUROPEAN          8.8   \n",
       "3        2000              4            2003  ...  EUROPEAN          8.1   \n",
       "4        2000              4            2002  ...  EUROPEAN          8.9   \n",
       "5        1995              4            1999  ...  EUROPEAN          8.5   \n",
       "6        1987              4            1995  ...  EUROPEAN         11.7   \n",
       "7        1998              4            2000  ...  EUROPEAN          8.1   \n",
       "8        1995              4            1996  ...  EUROPEAN          8.5   \n",
       "9        2003              5            2004  ...  EUROPEAN          8.8   \n",
       "10       1987              4            1992  ...  EUROPEAN         10.6   \n",
       "11       2000              4            2002  ...  EUROPEAN          8.1   \n",
       "12       1995              5            1999  ...  EUROPEAN         10.2   \n",
       "13       2001              4            2002  ...  EUROPEAN          6.3   \n",
       "14       1999              5            2002  ...  EUROPEAN          7.5   \n",
       "\n",
       "   clearance_min fuel_rate owners_number original_registration  \\\n",
       "0            180      14.9             3                     1   \n",
       "1            203       9.4             2                     1   \n",
       "2            180      12.9             3                     1   \n",
       "3            120       9.4             4                     0   \n",
       "4            120      10.3             3                     0   \n",
       "5            120       9.7             4                     0   \n",
       "6            120         9             4                     1   \n",
       "7            130      10.1             4                     0   \n",
       "8            120       9.7             4                     0   \n",
       "9            203      12.9             2                     1   \n",
       "10           120       8.9             4                     0   \n",
       "11           120       9.4             4                     1   \n",
       "12           120      10.7             4                     0   \n",
       "13           120      10.9             4                     0   \n",
       "14           180      13.9             4                     0   \n",
       "\n",
       "           gearType  steering_wheel    price Popular_model  \n",
       "0   ALL_WHEEL_DRIVE            LEFT  1188000             1  \n",
       "1   ALL_WHEEL_DRIVE            LEFT   855000             1  \n",
       "2   ALL_WHEEL_DRIVE            LEFT   720000             1  \n",
       "3        REAR_DRIVE            LEFT   200000             1  \n",
       "4        REAR_DRIVE            LEFT   395000             1  \n",
       "5        REAR_DRIVE            LEFT   275000             1  \n",
       "6        REAR_DRIVE            LEFT   400000             1  \n",
       "7        REAR_DRIVE            LEFT   900000             1  \n",
       "8        REAR_DRIVE            LEFT   240000             1  \n",
       "9   ALL_WHEEL_DRIVE            LEFT   795000             1  \n",
       "10       REAR_DRIVE            LEFT    60000             1  \n",
       "11       REAR_DRIVE            LEFT   380000             1  \n",
       "12       REAR_DRIVE            LEFT   340000             1  \n",
       "13       REAR_DRIVE            LEFT   745000             1  \n",
       "14  ALL_WHEEL_DRIVE            LEFT   380000             1  \n",
       "\n",
       "[15 rows x 22 columns]"
      ]
     },
     "execution_count": 94,
     "metadata": {},
     "output_type": "execute_result"
    }
   ],
   "source": [
    "train_data_Tatyana.head(15)"
   ]
  },
  {
   "cell_type": "code",
   "execution_count": 95,
   "metadata": {},
   "outputs": [],
   "source": [
    "train_data_Tatyana.drop(['acceleration', 'clearance_min', 'fuel_rate'], inplace = True, axis = 1)"
   ]
  },
  {
   "cell_type": "code",
   "execution_count": 96,
   "metadata": {
    "scrolled": false
   },
   "outputs": [
    {
     "name": "stdout",
     "output_type": "stream",
     "text": [
      "<class 'pandas.core.frame.DataFrame'>\n",
      "RangeIndex: 30187 entries, 0 to 30186\n",
      "Data columns (total 19 columns):\n",
      " #   Column                 Non-Null Count  Dtype  \n",
      "---  ------                 --------------  -----  \n",
      " 0   bodyType               30187 non-null  object \n",
      " 1   brand                  30187 non-null  object \n",
      " 2   color                  30187 non-null  object \n",
      " 3   engineDisplacement     30187 non-null  float64\n",
      " 4   enginePower            30187 non-null  int64  \n",
      " 5   fuelType               30187 non-null  object \n",
      " 6   mileage                30187 non-null  int64  \n",
      " 7   modelDate              30187 non-null  int64  \n",
      " 8   numberOfDoors          30187 non-null  int64  \n",
      " 9   productionDate         30187 non-null  int64  \n",
      " 10  sell_id                30187 non-null  int64  \n",
      " 11  vehicleTransmission    30187 non-null  object \n",
      " 12  vendor                 30187 non-null  object \n",
      " 13  owners_number          30187 non-null  int64  \n",
      " 14  original_registration  30187 non-null  int64  \n",
      " 15  gearType               30187 non-null  object \n",
      " 16  steering_wheel         30187 non-null  object \n",
      " 17  price                  30187 non-null  int64  \n",
      " 18  Popular_model          30187 non-null  int64  \n",
      "dtypes: float64(1), int64(10), object(8)\n",
      "memory usage: 4.4+ MB\n"
     ]
    }
   ],
   "source": [
    "train_data_Tatyana.info()"
   ]
  },
  {
   "cell_type": "markdown",
   "metadata": {},
   "source": [
    "# Merge dataframes"
   ]
  },
  {
   "cell_type": "code",
   "execution_count": 97,
   "metadata": {
    "scrolled": true
   },
   "outputs": [
    {
     "name": "stdout",
     "output_type": "stream",
     "text": [
      "<class 'pandas.core.frame.DataFrame'>\n",
      "Int64Index: 3875 entries, 0 to 3874\n",
      "Data columns (total 19 columns):\n",
      " #   Column                 Non-Null Count  Dtype  \n",
      "---  ------                 --------------  -----  \n",
      " 0   bodyType               3875 non-null   object \n",
      " 1   brand                  3875 non-null   object \n",
      " 2   color                  3875 non-null   object \n",
      " 3   engineDisplacement     3875 non-null   float64\n",
      " 4   enginePower            3875 non-null   float64\n",
      " 5   fuelType               3875 non-null   object \n",
      " 6   mileage                3875 non-null   float64\n",
      " 7   modelDate              3875 non-null   float64\n",
      " 8   numberOfDoors          3875 non-null   float64\n",
      " 9   productionDate         3875 non-null   float64\n",
      " 10  sell_id                3875 non-null   object \n",
      " 11  vehicleTransmission    3875 non-null   object \n",
      " 12  vendor                 3875 non-null   object \n",
      " 13  owners_number          3875 non-null   float64\n",
      " 14  original_registration  3875 non-null   int64  \n",
      " 15  gearType               3875 non-null   object \n",
      " 16  steering_wheel         3875 non-null   object \n",
      " 17  price                  3875 non-null   float64\n",
      " 18  Popular_model          3875 non-null   int64  \n",
      "dtypes: float64(8), int64(2), object(9)\n",
      "memory usage: 765.5+ KB\n"
     ]
    }
   ],
   "source": [
    "train_data.info()"
   ]
  },
  {
   "cell_type": "code",
   "execution_count": 98,
   "metadata": {},
   "outputs": [
    {
     "name": "stdout",
     "output_type": "stream",
     "text": [
      "<class 'pandas.core.frame.DataFrame'>\n",
      "RangeIndex: 30187 entries, 0 to 30186\n",
      "Data columns (total 19 columns):\n",
      " #   Column                 Non-Null Count  Dtype  \n",
      "---  ------                 --------------  -----  \n",
      " 0   bodyType               30187 non-null  object \n",
      " 1   brand                  30187 non-null  object \n",
      " 2   color                  30187 non-null  object \n",
      " 3   engineDisplacement     30187 non-null  float64\n",
      " 4   enginePower            30187 non-null  int64  \n",
      " 5   fuelType               30187 non-null  object \n",
      " 6   mileage                30187 non-null  int64  \n",
      " 7   modelDate              30187 non-null  int64  \n",
      " 8   numberOfDoors          30187 non-null  int64  \n",
      " 9   productionDate         30187 non-null  int64  \n",
      " 10  sell_id                30187 non-null  int64  \n",
      " 11  vehicleTransmission    30187 non-null  object \n",
      " 12  vendor                 30187 non-null  object \n",
      " 13  owners_number          30187 non-null  int64  \n",
      " 14  original_registration  30187 non-null  int64  \n",
      " 15  gearType               30187 non-null  object \n",
      " 16  steering_wheel         30187 non-null  object \n",
      " 17  price                  30187 non-null  int64  \n",
      " 18  Popular_model          30187 non-null  int64  \n",
      "dtypes: float64(1), int64(10), object(8)\n",
      "memory usage: 4.4+ MB\n"
     ]
    }
   ],
   "source": [
    "train_data_Tatyana.info()"
   ]
  },
  {
   "cell_type": "code",
   "execution_count": 99,
   "metadata": {},
   "outputs": [],
   "source": [
    "total_train = pd.concat([train_data, train_data_Tatyana])"
   ]
  },
  {
   "cell_type": "code",
   "execution_count": 100,
   "metadata": {},
   "outputs": [],
   "source": [
    "total_train.drop_duplicates(subset = 'sell_id', keep = 'first', inplace = True)"
   ]
  },
  {
   "cell_type": "code",
   "execution_count": 101,
   "metadata": {},
   "outputs": [
    {
     "data": {
      "text/html": [
       "<div>\n",
       "<style scoped>\n",
       "    .dataframe tbody tr th:only-of-type {\n",
       "        vertical-align: middle;\n",
       "    }\n",
       "\n",
       "    .dataframe tbody tr th {\n",
       "        vertical-align: top;\n",
       "    }\n",
       "\n",
       "    .dataframe thead th {\n",
       "        text-align: right;\n",
       "    }\n",
       "</style>\n",
       "<table border=\"1\" class=\"dataframe\">\n",
       "  <thead>\n",
       "    <tr style=\"text-align: right;\">\n",
       "      <th></th>\n",
       "      <th>bodyType</th>\n",
       "      <th>brand</th>\n",
       "      <th>color</th>\n",
       "      <th>engineDisplacement</th>\n",
       "      <th>enginePower</th>\n",
       "      <th>fuelType</th>\n",
       "      <th>mileage</th>\n",
       "      <th>modelDate</th>\n",
       "      <th>numberOfDoors</th>\n",
       "      <th>productionDate</th>\n",
       "      <th>sell_id</th>\n",
       "      <th>vehicleTransmission</th>\n",
       "      <th>vendor</th>\n",
       "      <th>owners_number</th>\n",
       "      <th>original_registration</th>\n",
       "      <th>gearType</th>\n",
       "      <th>steering_wheel</th>\n",
       "      <th>price</th>\n",
       "      <th>Popular_model</th>\n",
       "    </tr>\n",
       "  </thead>\n",
       "  <tbody>\n",
       "    <tr>\n",
       "      <th>0</th>\n",
       "      <td>MINIVAN</td>\n",
       "      <td>MERCEDES</td>\n",
       "      <td>BLACK</td>\n",
       "      <td>2.1</td>\n",
       "      <td>163.0</td>\n",
       "      <td>DIESEL</td>\n",
       "      <td>132000.0</td>\n",
       "      <td>2010.0</td>\n",
       "      <td>4.0</td>\n",
       "      <td>2013.0</td>\n",
       "      <td>1105117069</td>\n",
       "      <td>MECHANICAL</td>\n",
       "      <td>EUROPEAN</td>\n",
       "      <td>3.0</td>\n",
       "      <td>1</td>\n",
       "      <td>REAR_DRIVE</td>\n",
       "      <td>LEFT</td>\n",
       "      <td>2310000.0</td>\n",
       "      <td>0</td>\n",
       "    </tr>\n",
       "    <tr>\n",
       "      <th>1</th>\n",
       "      <td>SEDAN</td>\n",
       "      <td>TOYOTA</td>\n",
       "      <td>WHITE</td>\n",
       "      <td>3.5</td>\n",
       "      <td>249.0</td>\n",
       "      <td>GASOLINE</td>\n",
       "      <td>1000.0</td>\n",
       "      <td>2020.0</td>\n",
       "      <td>4.0</td>\n",
       "      <td>2021.0</td>\n",
       "      <td>1105798969</td>\n",
       "      <td>AUTOMATIC</td>\n",
       "      <td>JAPANESE</td>\n",
       "      <td>1.0</td>\n",
       "      <td>1</td>\n",
       "      <td>FORWARD_CONTROL</td>\n",
       "      <td>LEFT</td>\n",
       "      <td>3730000.0</td>\n",
       "      <td>0</td>\n",
       "    </tr>\n",
       "    <tr>\n",
       "      <th>2</th>\n",
       "      <td>SEDAN</td>\n",
       "      <td>NISSAN</td>\n",
       "      <td>BLUE</td>\n",
       "      <td>1.6</td>\n",
       "      <td>102.0</td>\n",
       "      <td>GASOLINE</td>\n",
       "      <td>292000.0</td>\n",
       "      <td>2012.0</td>\n",
       "      <td>4.0</td>\n",
       "      <td>2018.0</td>\n",
       "      <td>1105194592</td>\n",
       "      <td>MECHANICAL</td>\n",
       "      <td>JAPANESE</td>\n",
       "      <td>1.0</td>\n",
       "      <td>1</td>\n",
       "      <td>FORWARD_CONTROL</td>\n",
       "      <td>LEFT</td>\n",
       "      <td>550000.0</td>\n",
       "      <td>0</td>\n",
       "    </tr>\n",
       "    <tr>\n",
       "      <th>3</th>\n",
       "      <td>ALLROAD</td>\n",
       "      <td>LEXUS</td>\n",
       "      <td>BLACK</td>\n",
       "      <td>3.5</td>\n",
       "      <td>263.0</td>\n",
       "      <td>HYBRID</td>\n",
       "      <td>1000.0</td>\n",
       "      <td>2019.0</td>\n",
       "      <td>5.0</td>\n",
       "      <td>2021.0</td>\n",
       "      <td>1104950374</td>\n",
       "      <td>VARIATOR</td>\n",
       "      <td>JAPANESE</td>\n",
       "      <td>1.0</td>\n",
       "      <td>1</td>\n",
       "      <td>ALL_WHEEL_DRIVE</td>\n",
       "      <td>LEFT</td>\n",
       "      <td>4650000.0</td>\n",
       "      <td>0</td>\n",
       "    </tr>\n",
       "    <tr>\n",
       "      <th>4</th>\n",
       "      <td>LIFTBACK</td>\n",
       "      <td>SKODA</td>\n",
       "      <td>GRAY</td>\n",
       "      <td>1.8</td>\n",
       "      <td>150.0</td>\n",
       "      <td>GASOLINE</td>\n",
       "      <td>159000.0</td>\n",
       "      <td>2000.0</td>\n",
       "      <td>5.0</td>\n",
       "      <td>2007.0</td>\n",
       "      <td>1104636339</td>\n",
       "      <td>AUTOMATIC</td>\n",
       "      <td>EUROPEAN</td>\n",
       "      <td>2.0</td>\n",
       "      <td>1</td>\n",
       "      <td>FORWARD_CONTROL</td>\n",
       "      <td>LEFT</td>\n",
       "      <td>340000.0</td>\n",
       "      <td>0</td>\n",
       "    </tr>\n",
       "    <tr>\n",
       "      <th>5</th>\n",
       "      <td>SEDAN</td>\n",
       "      <td>VOLKSWAGEN</td>\n",
       "      <td>SILVER</td>\n",
       "      <td>1.6</td>\n",
       "      <td>105.0</td>\n",
       "      <td>GASOLINE</td>\n",
       "      <td>163000.0</td>\n",
       "      <td>2009.0</td>\n",
       "      <td>4.0</td>\n",
       "      <td>2012.0</td>\n",
       "      <td>1105736212</td>\n",
       "      <td>MECHANICAL</td>\n",
       "      <td>EUROPEAN</td>\n",
       "      <td>3.0</td>\n",
       "      <td>1</td>\n",
       "      <td>FORWARD_CONTROL</td>\n",
       "      <td>LEFT</td>\n",
       "      <td>440000.0</td>\n",
       "      <td>0</td>\n",
       "    </tr>\n",
       "    <tr>\n",
       "      <th>6</th>\n",
       "      <td>ALLROAD</td>\n",
       "      <td>LEXUS</td>\n",
       "      <td>BLUE</td>\n",
       "      <td>2.7</td>\n",
       "      <td>188.0</td>\n",
       "      <td>GASOLINE</td>\n",
       "      <td>204000.0</td>\n",
       "      <td>2012.0</td>\n",
       "      <td>5.0</td>\n",
       "      <td>2012.0</td>\n",
       "      <td>1105684832</td>\n",
       "      <td>AUTOMATIC</td>\n",
       "      <td>JAPANESE</td>\n",
       "      <td>4.0</td>\n",
       "      <td>1</td>\n",
       "      <td>FORWARD_CONTROL</td>\n",
       "      <td>LEFT</td>\n",
       "      <td>1900000.0</td>\n",
       "      <td>0</td>\n",
       "    </tr>\n",
       "    <tr>\n",
       "      <th>7</th>\n",
       "      <td>ALLROAD</td>\n",
       "      <td>BMW</td>\n",
       "      <td>BLUE</td>\n",
       "      <td>4.4</td>\n",
       "      <td>555.0</td>\n",
       "      <td>GASOLINE</td>\n",
       "      <td>157000.0</td>\n",
       "      <td>2009.0</td>\n",
       "      <td>5.0</td>\n",
       "      <td>2011.0</td>\n",
       "      <td>1102877847</td>\n",
       "      <td>AUTOMATIC</td>\n",
       "      <td>EUROPEAN</td>\n",
       "      <td>4.0</td>\n",
       "      <td>1</td>\n",
       "      <td>ALL_WHEEL_DRIVE</td>\n",
       "      <td>LEFT</td>\n",
       "      <td>1820000.0</td>\n",
       "      <td>0</td>\n",
       "    </tr>\n",
       "    <tr>\n",
       "      <th>8</th>\n",
       "      <td>SEDAN</td>\n",
       "      <td>NISSAN</td>\n",
       "      <td>BLUE</td>\n",
       "      <td>1.6</td>\n",
       "      <td>107.0</td>\n",
       "      <td>GASOLINE</td>\n",
       "      <td>241000.0</td>\n",
       "      <td>2006.0</td>\n",
       "      <td>4.0</td>\n",
       "      <td>2006.0</td>\n",
       "      <td>1105445599</td>\n",
       "      <td>MECHANICAL</td>\n",
       "      <td>JAPANESE</td>\n",
       "      <td>4.0</td>\n",
       "      <td>1</td>\n",
       "      <td>FORWARD_CONTROL</td>\n",
       "      <td>LEFT</td>\n",
       "      <td>260000.0</td>\n",
       "      <td>0</td>\n",
       "    </tr>\n",
       "    <tr>\n",
       "      <th>9</th>\n",
       "      <td>ALLROAD</td>\n",
       "      <td>NISSAN</td>\n",
       "      <td>BLACK</td>\n",
       "      <td>2.0</td>\n",
       "      <td>141.0</td>\n",
       "      <td>GASOLINE</td>\n",
       "      <td>196000.0</td>\n",
       "      <td>2010.0</td>\n",
       "      <td>5.0</td>\n",
       "      <td>2011.0</td>\n",
       "      <td>1105143586</td>\n",
       "      <td>VARIATOR</td>\n",
       "      <td>JAPANESE</td>\n",
       "      <td>3.0</td>\n",
       "      <td>1</td>\n",
       "      <td>ALL_WHEEL_DRIVE</td>\n",
       "      <td>LEFT</td>\n",
       "      <td>960000.0</td>\n",
       "      <td>0</td>\n",
       "    </tr>\n",
       "  </tbody>\n",
       "</table>\n",
       "</div>"
      ],
      "text/plain": [
       "   bodyType       brand   color  engineDisplacement  enginePower  fuelType  \\\n",
       "0   MINIVAN    MERCEDES   BLACK                 2.1        163.0    DIESEL   \n",
       "1     SEDAN      TOYOTA   WHITE                 3.5        249.0  GASOLINE   \n",
       "2     SEDAN      NISSAN    BLUE                 1.6        102.0  GASOLINE   \n",
       "3   ALLROAD       LEXUS   BLACK                 3.5        263.0    HYBRID   \n",
       "4  LIFTBACK       SKODA    GRAY                 1.8        150.0  GASOLINE   \n",
       "5     SEDAN  VOLKSWAGEN  SILVER                 1.6        105.0  GASOLINE   \n",
       "6   ALLROAD       LEXUS    BLUE                 2.7        188.0  GASOLINE   \n",
       "7   ALLROAD         BMW    BLUE                 4.4        555.0  GASOLINE   \n",
       "8     SEDAN      NISSAN    BLUE                 1.6        107.0  GASOLINE   \n",
       "9   ALLROAD      NISSAN   BLACK                 2.0        141.0  GASOLINE   \n",
       "\n",
       "    mileage  modelDate  numberOfDoors  productionDate     sell_id  \\\n",
       "0  132000.0     2010.0            4.0          2013.0  1105117069   \n",
       "1    1000.0     2020.0            4.0          2021.0  1105798969   \n",
       "2  292000.0     2012.0            4.0          2018.0  1105194592   \n",
       "3    1000.0     2019.0            5.0          2021.0  1104950374   \n",
       "4  159000.0     2000.0            5.0          2007.0  1104636339   \n",
       "5  163000.0     2009.0            4.0          2012.0  1105736212   \n",
       "6  204000.0     2012.0            5.0          2012.0  1105684832   \n",
       "7  157000.0     2009.0            5.0          2011.0  1102877847   \n",
       "8  241000.0     2006.0            4.0          2006.0  1105445599   \n",
       "9  196000.0     2010.0            5.0          2011.0  1105143586   \n",
       "\n",
       "  vehicleTransmission    vendor  owners_number  original_registration  \\\n",
       "0          MECHANICAL  EUROPEAN            3.0                      1   \n",
       "1           AUTOMATIC  JAPANESE            1.0                      1   \n",
       "2          MECHANICAL  JAPANESE            1.0                      1   \n",
       "3            VARIATOR  JAPANESE            1.0                      1   \n",
       "4           AUTOMATIC  EUROPEAN            2.0                      1   \n",
       "5          MECHANICAL  EUROPEAN            3.0                      1   \n",
       "6           AUTOMATIC  JAPANESE            4.0                      1   \n",
       "7           AUTOMATIC  EUROPEAN            4.0                      1   \n",
       "8          MECHANICAL  JAPANESE            4.0                      1   \n",
       "9            VARIATOR  JAPANESE            3.0                      1   \n",
       "\n",
       "          gearType steering_wheel      price  Popular_model  \n",
       "0       REAR_DRIVE           LEFT  2310000.0              0  \n",
       "1  FORWARD_CONTROL           LEFT  3730000.0              0  \n",
       "2  FORWARD_CONTROL           LEFT   550000.0              0  \n",
       "3  ALL_WHEEL_DRIVE           LEFT  4650000.0              0  \n",
       "4  FORWARD_CONTROL           LEFT   340000.0              0  \n",
       "5  FORWARD_CONTROL           LEFT   440000.0              0  \n",
       "6  FORWARD_CONTROL           LEFT  1900000.0              0  \n",
       "7  ALL_WHEEL_DRIVE           LEFT  1820000.0              0  \n",
       "8  FORWARD_CONTROL           LEFT   260000.0              0  \n",
       "9  ALL_WHEEL_DRIVE           LEFT   960000.0              0  "
      ]
     },
     "execution_count": 101,
     "metadata": {},
     "output_type": "execute_result"
    }
   ],
   "source": [
    "total_train.head(10)"
   ]
  },
  {
   "cell_type": "code",
   "execution_count": 102,
   "metadata": {
    "scrolled": true
   },
   "outputs": [
    {
     "name": "stdout",
     "output_type": "stream",
     "text": [
      "<class 'pandas.core.frame.DataFrame'>\n",
      "Int64Index: 33841 entries, 0 to 30186\n",
      "Data columns (total 19 columns):\n",
      " #   Column                 Non-Null Count  Dtype  \n",
      "---  ------                 --------------  -----  \n",
      " 0   bodyType               33841 non-null  object \n",
      " 1   brand                  33841 non-null  object \n",
      " 2   color                  33841 non-null  object \n",
      " 3   engineDisplacement     33841 non-null  float64\n",
      " 4   enginePower            33841 non-null  float64\n",
      " 5   fuelType               33841 non-null  object \n",
      " 6   mileage                33841 non-null  float64\n",
      " 7   modelDate              33841 non-null  float64\n",
      " 8   numberOfDoors          33841 non-null  float64\n",
      " 9   productionDate         33841 non-null  float64\n",
      " 10  sell_id                33841 non-null  object \n",
      " 11  vehicleTransmission    33841 non-null  object \n",
      " 12  vendor                 33841 non-null  object \n",
      " 13  owners_number          33841 non-null  float64\n",
      " 14  original_registration  33841 non-null  int64  \n",
      " 15  gearType               33841 non-null  object \n",
      " 16  steering_wheel         33841 non-null  object \n",
      " 17  price                  33841 non-null  float64\n",
      " 18  Popular_model          33841 non-null  int64  \n",
      "dtypes: float64(8), int64(2), object(9)\n",
      "memory usage: 5.2+ MB\n"
     ]
    }
   ],
   "source": [
    "total_train.info()"
   ]
  },
  {
   "cell_type": "code",
   "execution_count": 103,
   "metadata": {},
   "outputs": [],
   "source": [
    "# export to csv\n",
    "total_train.to_csv(\"total_train.csv\")"
   ]
  },
  {
   "cell_type": "markdown",
   "metadata": {},
   "source": [
    "## Exploratory data analysis (EDA)"
   ]
  },
  {
   "cell_type": "markdown",
   "metadata": {},
   "source": [
    "### engineDisplacement"
   ]
  },
  {
   "cell_type": "code",
   "execution_count": 2287,
   "metadata": {},
   "outputs": [
    {
     "data": {
      "text/plain": [
       "count    33841.000000\n",
       "mean         2.452327\n",
       "std          0.997265\n",
       "min          0.000000\n",
       "25%          1.800000\n",
       "50%          2.000000\n",
       "75%          3.000000\n",
       "max          6.600000\n",
       "Name: engineDisplacement, dtype: float64"
      ]
     },
     "execution_count": 2287,
     "metadata": {},
     "output_type": "execute_result"
    },
    {
     "data": {
      "image/png": "[encoded data removed]",
      "text/plain": [
       "<Figure size 432x288 with 1 Axes>"
      ]
     },
     "metadata": {
      "needs_background": "light"
     },
     "output_type": "display_data"
    }
   ],
   "source": [
    "total_train.engineDisplacement.hist()\n",
    "total_train.engineDisplacement.describe()"
   ]
  },
  {
   "cell_type": "markdown",
   "metadata": {},
   "source": [
    "We see that electric cars have zero engine capacity, the distribution is similar to normal, most cars have an engine capacity between 1.5 and 2.5 liters"
   ]
  },
  {
   "cell_type": "markdown",
   "metadata": {},
   "source": [
    "### enginePower"
   ]
  },
  {
   "cell_type": "code",
   "execution_count": 2288,
   "metadata": {},
   "outputs": [
    {
     "data": {
      "text/plain": [
       "count    33841.000000\n",
       "mean       199.107650\n",
       "std         95.364087\n",
       "min         45.000000\n",
       "25%        140.000000\n",
       "50%        178.000000\n",
       "75%        245.000000\n",
       "max        800.000000\n",
       "Name: enginePower, dtype: float64"
      ]
     },
     "execution_count": 2288,
     "metadata": {},
     "output_type": "execute_result"
    },
    {
     "data": {
      "image/png": "[encoded data removed]",
      "text/plain": [
       "<Figure size 432x288 with 1 Axes>"
      ]
     },
     "metadata": {
      "needs_background": "light"
     },
     "output_type": "display_data"
    }
   ],
   "source": [
    "total_train.enginePower.hist()\n",
    "total_train.enginePower.describe()"
   ]
  },
  {
   "cell_type": "code",
   "execution_count": 2289,
   "metadata": {},
   "outputs": [
    {
     "data": {
      "text/html": [
       "<div>\n",
       "<style scoped>\n",
       "    .dataframe tbody tr th:only-of-type {\n",
       "        vertical-align: middle;\n",
       "    }\n",
       "\n",
       "    .dataframe tbody tr th {\n",
       "        vertical-align: top;\n",
       "    }\n",
       "\n",
       "    .dataframe thead th {\n",
       "        text-align: right;\n",
       "    }\n",
       "</style>\n",
       "<table border=\"1\" class=\"dataframe\">\n",
       "  <thead>\n",
       "    <tr style=\"text-align: right;\">\n",
       "      <th></th>\n",
       "      <th>bodyType</th>\n",
       "      <th>brand</th>\n",
       "      <th>color</th>\n",
       "      <th>engineDisplacement</th>\n",
       "      <th>enginePower</th>\n",
       "      <th>fuelType</th>\n",
       "      <th>mileage</th>\n",
       "      <th>modelDate</th>\n",
       "      <th>numberOfDoors</th>\n",
       "      <th>productionDate</th>\n",
       "      <th>sell_id</th>\n",
       "      <th>vehicleTransmission</th>\n",
       "      <th>vendor</th>\n",
       "      <th>owners_number</th>\n",
       "      <th>original_registration</th>\n",
       "      <th>gearType</th>\n",
       "      <th>steering_wheel</th>\n",
       "      <th>price</th>\n",
       "      <th>Popular_model</th>\n",
       "    </tr>\n",
       "  </thead>\n",
       "  <tbody>\n",
       "    <tr>\n",
       "      <th>511</th>\n",
       "      <td>ALLROAD</td>\n",
       "      <td>MERCEDES</td>\n",
       "      <td>GRAY</td>\n",
       "      <td>4.0</td>\n",
       "      <td>800.0</td>\n",
       "      <td>GASOLINE</td>\n",
       "      <td>3000.0</td>\n",
       "      <td>2018.0</td>\n",
       "      <td>5.0</td>\n",
       "      <td>2021.0</td>\n",
       "      <td>1105200476</td>\n",
       "      <td>AUTOMATIC</td>\n",
       "      <td>EUROPEAN</td>\n",
       "      <td>1.0</td>\n",
       "      <td>1</td>\n",
       "      <td>ALL_WHEEL_DRIVE</td>\n",
       "      <td>LEFT</td>\n",
       "      <td>21900000.0</td>\n",
       "      <td>0</td>\n",
       "    </tr>\n",
       "  </tbody>\n",
       "</table>\n",
       "</div>"
      ],
      "text/plain": [
       "    bodyType     brand color  engineDisplacement  enginePower  fuelType  \\\n",
       "511  ALLROAD  MERCEDES  GRAY                 4.0        800.0  GASOLINE   \n",
       "\n",
       "     mileage  modelDate  numberOfDoors  productionDate     sell_id  \\\n",
       "511   3000.0     2018.0            5.0          2021.0  1105200476   \n",
       "\n",
       "    vehicleTransmission    vendor  owners_number  original_registration  \\\n",
       "511           AUTOMATIC  EUROPEAN            1.0                      1   \n",
       "\n",
       "            gearType steering_wheel       price  Popular_model  \n",
       "511  ALL_WHEEL_DRIVE           LEFT  21900000.0              0  "
      ]
     },
     "execution_count": 2289,
     "metadata": {},
     "output_type": "execute_result"
    }
   ],
   "source": [
    "total_train[total_train.enginePower == total_train.enginePower.max()]"
   ]
  },
  {
   "cell_type": "code",
   "execution_count": 2290,
   "metadata": {
    "scrolled": true
   },
   "outputs": [
    {
     "data": {
      "text/html": [
       "<div>\n",
       "<style scoped>\n",
       "    .dataframe tbody tr th:only-of-type {\n",
       "        vertical-align: middle;\n",
       "    }\n",
       "\n",
       "    .dataframe tbody tr th {\n",
       "        vertical-align: top;\n",
       "    }\n",
       "\n",
       "    .dataframe thead th {\n",
       "        text-align: right;\n",
       "    }\n",
       "</style>\n",
       "<table border=\"1\" class=\"dataframe\">\n",
       "  <thead>\n",
       "    <tr style=\"text-align: right;\">\n",
       "      <th></th>\n",
       "      <th>bodyType</th>\n",
       "      <th>brand</th>\n",
       "      <th>color</th>\n",
       "      <th>engineDisplacement</th>\n",
       "      <th>enginePower</th>\n",
       "      <th>fuelType</th>\n",
       "      <th>mileage</th>\n",
       "      <th>modelDate</th>\n",
       "      <th>numberOfDoors</th>\n",
       "      <th>productionDate</th>\n",
       "      <th>sell_id</th>\n",
       "      <th>vehicleTransmission</th>\n",
       "      <th>vendor</th>\n",
       "      <th>owners_number</th>\n",
       "      <th>original_registration</th>\n",
       "      <th>gearType</th>\n",
       "      <th>steering_wheel</th>\n",
       "      <th>price</th>\n",
       "      <th>Popular_model</th>\n",
       "    </tr>\n",
       "  </thead>\n",
       "  <tbody>\n",
       "    <tr>\n",
       "      <th>27378</th>\n",
       "      <td>MICROVAN</td>\n",
       "      <td>HONDA</td>\n",
       "      <td>GRAY</td>\n",
       "      <td>0.7</td>\n",
       "      <td>45.0</td>\n",
       "      <td>GASOLINE</td>\n",
       "      <td>240000.0</td>\n",
       "      <td>1999.0</td>\n",
       "      <td>4.0</td>\n",
       "      <td>2010.0</td>\n",
       "      <td>1105473047</td>\n",
       "      <td>MECHANICAL</td>\n",
       "      <td>JAPANESE</td>\n",
       "      <td>1.0</td>\n",
       "      <td>1</td>\n",
       "      <td>ALL_WHEEL_DRIVE</td>\n",
       "      <td>RIGHT</td>\n",
       "      <td>500000.0</td>\n",
       "      <td>0</td>\n",
       "    </tr>\n",
       "  </tbody>\n",
       "</table>\n",
       "</div>"
      ],
      "text/plain": [
       "       bodyType  brand color  engineDisplacement  enginePower  fuelType  \\\n",
       "27378  MICROVAN  HONDA  GRAY                 0.7         45.0  GASOLINE   \n",
       "\n",
       "        mileage  modelDate  numberOfDoors  productionDate     sell_id  \\\n",
       "27378  240000.0     1999.0            4.0          2010.0  1105473047   \n",
       "\n",
       "      vehicleTransmission    vendor  owners_number  original_registration  \\\n",
       "27378          MECHANICAL  JAPANESE            1.0                      1   \n",
       "\n",
       "              gearType steering_wheel     price  Popular_model  \n",
       "27378  ALL_WHEEL_DRIVE          RIGHT  500000.0              0  "
      ]
     },
     "execution_count": 2290,
     "metadata": {},
     "output_type": "execute_result"
    }
   ],
   "source": [
    "total_train[total_train.enginePower == total_train.enginePower.min()]"
   ]
  },
  {
   "cell_type": "markdown",
   "metadata": {},
   "source": [
    "The distribution is similar to normal, cars which have minimal and maximal engine capacities have corresponding technical characteristics "
   ]
  },
  {
   "cell_type": "markdown",
   "metadata": {},
   "source": [
    "### mileage"
   ]
  },
  {
   "cell_type": "code",
   "execution_count": 2291,
   "metadata": {},
   "outputs": [
    {
     "data": {
      "text/plain": [
       "count      33841.000000\n",
       "mean      152693.331462\n",
       "std       100553.067488\n",
       "min            0.000000\n",
       "25%        79000.000000\n",
       "50%       138303.000000\n",
       "75%       205000.000000\n",
       "max      1000000.000000\n",
       "Name: mileage, dtype: float64"
      ]
     },
     "execution_count": 2291,
     "metadata": {},
     "output_type": "execute_result"
    },
    {
     "data": {
      "image/png": "[encoded data removed]",
      "text/plain": [
       "<Figure size 432x288 with 1 Axes>"
      ]
     },
     "metadata": {
      "needs_background": "light"
     },
     "output_type": "display_data"
    }
   ],
   "source": [
    "total_train.mileage.hist()\n",
    "total_train.mileage.describe()"
   ]
  },
  {
   "cell_type": "code",
   "execution_count": 2292,
   "metadata": {},
   "outputs": [
    {
     "data": {
      "text/plain": [
       "95"
      ]
     },
     "execution_count": 2292,
     "metadata": {},
     "output_type": "execute_result"
    }
   ],
   "source": [
    "len(total_train[total_train.mileage == 0])"
   ]
  },
  {
   "cell_type": "markdown",
   "metadata": {},
   "source": [
    "We see that there is a small number of new cars in the data"
   ]
  },
  {
   "cell_type": "markdown",
   "metadata": {},
   "source": [
    "### modelDate"
   ]
  },
  {
   "cell_type": "code",
   "execution_count": 2293,
   "metadata": {
    "scrolled": true
   },
   "outputs": [
    {
     "data": {
      "text/plain": [
       "[1974.0,\n",
       " 1979.0,\n",
       " 1981.0,\n",
       " 1982.0,\n",
       " 1983.0,\n",
       " 1984.0,\n",
       " 1985.0,\n",
       " 1986.0,\n",
       " 1987.0,\n",
       " 1988.0,\n",
       " 1989.0,\n",
       " 1990.0,\n",
       " 1991.0,\n",
       " 1992.0,\n",
       " 1993.0,\n",
       " 1994.0,\n",
       " 1995.0,\n",
       " 1996.0,\n",
       " 1997.0,\n",
       " 1998.0,\n",
       " 1999.0,\n",
       " 2000.0,\n",
       " 2001.0,\n",
       " 2002.0,\n",
       " 2003.0,\n",
       " 2004.0,\n",
       " 2005.0,\n",
       " 2006.0,\n",
       " 2007.0,\n",
       " 2008.0,\n",
       " 2009.0,\n",
       " 2010.0,\n",
       " 2011.0,\n",
       " 2012.0,\n",
       " 2013.0,\n",
       " 2014.0,\n",
       " 2015.0,\n",
       " 2016.0,\n",
       " 2017.0,\n",
       " 2018.0,\n",
       " 2019.0,\n",
       " 2020.0,\n",
       " 2021.0]"
      ]
     },
     "execution_count": 2293,
     "metadata": {},
     "output_type": "execute_result"
    }
   ],
   "source": [
    "sorted(total_train.modelDate.unique())"
   ]
  },
  {
   "cell_type": "code",
   "execution_count": 2294,
   "metadata": {
    "scrolled": true
   },
   "outputs": [
    {
     "data": {
      "text/plain": [
       "2013.0    0.078426\n",
       "2014.0    0.076593\n",
       "2015.0    0.071895\n",
       "2010.0    0.068674\n",
       "2011.0    0.068054\n",
       "2012.0    0.063178\n",
       "2017.0    0.062823\n",
       "2009.0    0.056470\n",
       "2008.0    0.052215\n",
       "2006.0    0.048078\n",
       "2005.0    0.040661\n",
       "2007.0    0.039006\n",
       "2016.0    0.035815\n",
       "2018.0    0.023285\n",
       "2002.0    0.021306\n",
       "2000.0    0.019503\n",
       "2003.0    0.019444\n",
       "2004.0    0.018616\n",
       "2019.0    0.015130\n",
       "1999.0    0.013770\n",
       "1995.0    0.012618\n",
       "2020.0    0.012559\n",
       "1998.0    0.011790\n",
       "1997.0    0.010490\n",
       "2001.0    0.009751\n",
       "1996.0    0.008304\n",
       "1991.0    0.008008\n",
       "1994.0    0.007594\n",
       "1990.0    0.005940\n",
       "1992.0    0.004758\n",
       "1988.0    0.003576\n",
       "1987.0    0.003132\n",
       "1993.0    0.003103\n",
       "1989.0    0.001448\n",
       "1984.0    0.001300\n",
       "1986.0    0.000975\n",
       "1982.0    0.000502\n",
       "1983.0    0.000414\n",
       "1985.0    0.000384\n",
       "2021.0    0.000177\n",
       "1974.0    0.000118\n",
       "1979.0    0.000089\n",
       "1981.0    0.000030\n",
       "Name: modelDate, dtype: float64"
      ]
     },
     "execution_count": 2294,
     "metadata": {},
     "output_type": "execute_result"
    }
   ],
   "source": [
    "total_train.modelDate.value_counts(normalize=True)"
   ]
  },
  {
   "cell_type": "markdown",
   "metadata": {},
   "source": [
    "The data contains car models from 1974 to 2021, car models are distributed approximately evenly by year"
   ]
  },
  {
   "cell_type": "markdown",
   "metadata": {},
   "source": [
    "### numberOfDoors"
   ]
  },
  {
   "cell_type": "code",
   "execution_count": 2295,
   "metadata": {},
   "outputs": [
    {
     "data": {
      "text/plain": [
       "array([4., 5., 2., 3.])"
      ]
     },
     "execution_count": 2295,
     "metadata": {},
     "output_type": "execute_result"
    }
   ],
   "source": [
    "total_train.numberOfDoors.unique()"
   ]
  },
  {
   "cell_type": "markdown",
   "metadata": {},
   "source": [
    "### productionDate"
   ]
  },
  {
   "cell_type": "code",
   "execution_count": 2296,
   "metadata": {},
   "outputs": [
    {
     "data": {
      "text/plain": [
       "[1987.0,\n",
       " 1989.0,\n",
       " 1990.0,\n",
       " 1991.0,\n",
       " 1992.0,\n",
       " 1993.0,\n",
       " 1994.0,\n",
       " 1995.0,\n",
       " 1996.0,\n",
       " 1997.0,\n",
       " 1998.0,\n",
       " 1999.0,\n",
       " 2000.0,\n",
       " 2001.0,\n",
       " 2002.0,\n",
       " 2003.0,\n",
       " 2004.0,\n",
       " 2005.0,\n",
       " 2006.0,\n",
       " 2007.0,\n",
       " 2008.0,\n",
       " 2009.0,\n",
       " 2010.0,\n",
       " 2011.0,\n",
       " 2012.0,\n",
       " 2013.0,\n",
       " 2014.0,\n",
       " 2015.0,\n",
       " 2016.0,\n",
       " 2017.0,\n",
       " 2018.0,\n",
       " 2019.0,\n",
       " 2020.0,\n",
       " 2021.0]"
      ]
     },
     "execution_count": 2296,
     "metadata": {},
     "output_type": "execute_result"
    }
   ],
   "source": [
    "sorted(total_train.productionDate.unique())"
   ]
  },
  {
   "cell_type": "code",
   "execution_count": 2297,
   "metadata": {},
   "outputs": [
    {
     "data": {
      "text/plain": [
       "2012.0    0.079164\n",
       "2013.0    0.074052\n",
       "2018.0    0.071068\n",
       "2014.0    0.070358\n",
       "2011.0    0.065955\n",
       "2017.0    0.062853\n",
       "2016.0    0.061405\n",
       "2015.0    0.060282\n",
       "2008.0    0.056913\n",
       "2019.0    0.052067\n",
       "2020.0    0.046246\n",
       "2010.0    0.045271\n",
       "2007.0    0.040661\n",
       "2006.0    0.025679\n",
       "2009.0    0.022960\n",
       "2005.0    0.019089\n",
       "2004.0    0.017494\n",
       "2003.0    0.014568\n",
       "2001.0    0.014391\n",
       "2002.0    0.013652\n",
       "1998.0    0.013061\n",
       "1999.0    0.011554\n",
       "2000.0    0.011022\n",
       "1997.0    0.010047\n",
       "1996.0    0.007003\n",
       "1992.0    0.005821\n",
       "1993.0    0.005792\n",
       "1991.0    0.004639\n",
       "1994.0    0.004639\n",
       "1995.0    0.004610\n",
       "2021.0    0.004492\n",
       "1990.0    0.003073\n",
       "1987.0    0.000089\n",
       "1989.0    0.000030\n",
       "Name: productionDate, dtype: float64"
      ]
     },
     "execution_count": 2297,
     "metadata": {},
     "output_type": "execute_result"
    }
   ],
   "source": [
    "total_train.productionDate.value_counts(normalize=True)"
   ]
  },
  {
   "cell_type": "markdown",
   "metadata": {},
   "source": [
    "The data contains cars produced from 1987 to 2021, the cars are distributed approximately evenly by year"
   ]
  },
  {
   "cell_type": "markdown",
   "metadata": {},
   "source": [
    "### owners_number"
   ]
  },
  {
   "cell_type": "code",
   "execution_count": 2298,
   "metadata": {},
   "outputs": [
    {
     "data": {
      "text/plain": [
       "array([3., 1., 2., 4., 0.])"
      ]
     },
     "execution_count": 2298,
     "metadata": {},
     "output_type": "execute_result"
    }
   ],
   "source": [
    "total_train.owners_number.unique()"
   ]
  },
  {
   "cell_type": "markdown",
   "metadata": {},
   "source": [
    "### price"
   ]
  },
  {
   "cell_type": "code",
   "execution_count": 2299,
   "metadata": {
    "scrolled": false
   },
   "outputs": [
    {
     "data": {
      "text/plain": [
       "count    33841.000000\n",
       "mean      1864.469546\n",
       "std       2130.793707\n",
       "min         35.000000\n",
       "25%        719.000000\n",
       "50%       1319.000000\n",
       "75%       2299.000000\n",
       "max      80800.000000\n",
       "Name: price, dtype: float64"
      ]
     },
     "execution_count": 2299,
     "metadata": {},
     "output_type": "execute_result"
    },
    {
     "data": {
      "image/png": "[encoded data removed]",
      "text/plain": [
       "<Figure size 432x288 with 1 Axes>"
      ]
     },
     "metadata": {
      "needs_background": "light"
     },
     "output_type": "display_data"
    }
   ],
   "source": [
    "(total_train['price']/1000).hist()\n",
    "(total_train['price']/1000).describe()"
   ]
  },
  {
   "cell_type": "markdown",
   "metadata": {},
   "source": [
    "Let's bring the prices of November 2021 to the prices for October 2020. To do this, multiply the prices by the inflation rate from the beginning of 2021 (The inflation rate from the beginning of 2021: 6.49%)"
   ]
  },
  {
   "cell_type": "code",
   "execution_count": 2300,
   "metadata": {},
   "outputs": [],
   "source": [
    "total_train['price'] = total_train['price'].map(lambda x: x*0.9351 )"
   ]
  },
  {
   "cell_type": "code",
   "execution_count": 2301,
   "metadata": {
    "scrolled": true
   },
   "outputs": [
    {
     "data": {
      "text/plain": [
       "<AxesSubplot:>"
      ]
     },
     "execution_count": 2301,
     "metadata": {},
     "output_type": "execute_result"
    },
    {
     "data": {
      "image/png": "[encoded data removed]",
      "text/plain": [
       "<Figure size 432x288 with 1 Axes>"
      ]
     },
     "metadata": {
      "needs_background": "light"
     },
     "output_type": "display_data"
    }
   ],
   "source": [
    "(total_train['price']/1000).hist()"
   ]
  },
  {
   "cell_type": "markdown",
   "metadata": {},
   "source": [
    "Our distribution has a problem — the difference between prices is too strong. There are many cars in the middle segment, but very few expensive cars. Let's logarithm the variable to reduce the differences and smooth out the tail."
   ]
  },
  {
   "cell_type": "code",
   "execution_count": 2302,
   "metadata": {},
   "outputs": [
    {
     "data": {
      "text/plain": [
       "<AxesSubplot:>"
      ]
     },
     "execution_count": 2302,
     "metadata": {},
     "output_type": "execute_result"
    },
    {
     "data": {
      "image/png": "[encoded data removed]",
      "text/plain": [
       "<Figure size 432x288 with 1 Axes>"
      ]
     },
     "metadata": {
      "needs_background": "light"
     },
     "output_type": "display_data"
    }
   ],
   "source": [
    "total_train['price'] = total_train['price'].apply(lambda w: np.log(w + 1))\n",
    "(total_train['price']/1000).hist()"
   ]
  },
  {
   "cell_type": "markdown",
   "metadata": {},
   "source": [
    "## Analysis of nominative variables"
   ]
  },
  {
   "cell_type": "markdown",
   "metadata": {},
   "source": [
    "### bodyType"
   ]
  },
  {
   "cell_type": "code",
   "execution_count": 2303,
   "metadata": {},
   "outputs": [],
   "source": [
    "def get_boxplot(column):\n",
    "    fig, ax = plt.subplots(figsize = (14, 4))\n",
    "    sns.boxplot(x=column, y='price', \n",
    "                data=total_train.loc[total_train.loc[:, column].isin(total_train.loc[:, column].value_counts().index[:10])],\n",
    "               ax=ax)\n",
    "    plt.xticks(rotation=45)\n",
    "    ax.set_title('Boxplot for ' + column)\n",
    "    plt.show()"
   ]
  },
  {
   "cell_type": "code",
   "execution_count": 2304,
   "metadata": {
    "scrolled": false
   },
   "outputs": [
    {
     "data": {
      "image/png": "[encoded data removed]",
      "text/plain": [
       "<Figure size 1008x288 with 1 Axes>"
      ]
     },
     "metadata": {
      "needs_background": "light"
     },
     "output_type": "display_data"
    },
    {
     "data": {
      "image/png": "[encoded data removed]",
      "text/plain": [
       "<Figure size 1008x288 with 1 Axes>"
      ]
     },
     "metadata": {
      "needs_background": "light"
     },
     "output_type": "display_data"
    },
    {
     "data": {
      "image/png": "[encoded data removed]",
      "text/plain": [
       "<Figure size 1008x288 with 1 Axes>"
      ]
     },
     "metadata": {
      "needs_background": "light"
     },
     "output_type": "display_data"
    },
    {
     "data": {
      "image/png": "[encoded data removed]",
      "text/plain": [
       "<Figure size 1008x288 with 1 Axes>"
      ]
     },
     "metadata": {
      "needs_background": "light"
     },
     "output_type": "display_data"
    },
    {
     "data": {
      "image/png": "[encoded data removed]",
      "text/plain": [
       "<Figure size 1008x288 with 1 Axes>"
      ]
     },
     "metadata": {
      "needs_background": "light"
     },
     "output_type": "display_data"
    },
    {
     "data": {
      "image/png": "[encoded data removed]",
      "text/plain": [
       "<Figure size 1008x288 with 1 Axes>"
      ]
     },
     "metadata": {
      "needs_background": "light"
     },
     "output_type": "display_data"
    },
    {
     "data": {
      "image/png": "[encoded data removed]",
      "text/plain": [
       "<Figure size 1008x288 with 1 Axes>"
      ]
     },
     "metadata": {
      "needs_background": "light"
     },
     "output_type": "display_data"
    },
    {
     "data": {
      "image/png": "[encoded data removed]",
      "text/plain": [
       "<Figure size 1008x288 with 1 Axes>"
      ]
     },
     "metadata": {
      "needs_background": "light"
     },
     "output_type": "display_data"
    }
   ],
   "source": [
    "for col in ['bodyType', 'brand', 'color', 'fuelType', 'vehicleTransmission', 'vendor', 'gearType', 'steering_wheel']:\n",
    "    get_boxplot(col)"
   ]
  },
  {
   "cell_type": "markdown",
   "metadata": {},
   "source": [
    "According to the charts, it looks like all the parameters can affect the price of the car. However, graphs are only an auxiliary tool, statistics can help to recognize the real significance of differences. Let's check whether there is a statistical difference in the distribution of prices by nominative feature using the Student's test. Let's test the null hypothesis that the price distributions of cars by various parameters are indistinguishable:"
   ]
  },
  {
   "cell_type": "code",
   "execution_count": 2305,
   "metadata": {},
   "outputs": [],
   "source": [
    "def get_stat_dif(column):\n",
    "    cols = total_train.loc[:, column].value_counts().index[:10]\n",
    "    combinations_all = list(combinations(cols, 2))\n",
    "    for comb in combinations_all:\n",
    "        if ttest_ind(total_train.loc[total_train.loc[:, column] == comb[0], 'price'], \n",
    "                        total_train.loc[total_train.loc[:, column] == comb[1], 'price']).pvalue \\\n",
    "            <= 0.05/len(combinations_all): # Учли поправку Бонферони\n",
    "            print('Statistically significant differences were found for the column: ', column)\n",
    "            break"
   ]
  },
  {
   "cell_type": "code",
   "execution_count": 2306,
   "metadata": {
    "scrolled": true
   },
   "outputs": [
    {
     "name": "stdout",
     "output_type": "stream",
     "text": [
      "Найдены статистически значимые различия для колонки bodyType\n",
      "Найдены статистически значимые различия для колонки brand\n",
      "Найдены статистически значимые различия для колонки color\n",
      "Найдены статистически значимые различия для колонки fuelType\n",
      "Найдены статистически значимые различия для колонки vehicleTransmission\n",
      "Найдены статистически значимые различия для колонки vendor\n",
      "Найдены статистически значимые различия для колонки gearType\n",
      "Найдены статистически значимые различия для колонки steering_wheel\n"
     ]
    }
   ],
   "source": [
    "for col in ['bodyType', 'brand', 'color', 'fuelType', 'vehicleTransmission', 'vendor', 'gearType', 'steering_wheel']:\n",
    "    get_stat_dif(col)"
   ]
  },
  {
   "cell_type": "markdown",
   "metadata": {},
   "source": [
    "As we can see, significant statistical differences were found in all columns. We will leave all variables in the dataset for the model"
   ]
  },
  {
   "cell_type": "markdown",
   "metadata": {},
   "source": [
    "## Correlation analysis"
   ]
  },
  {
   "cell_type": "code",
   "execution_count": 2307,
   "metadata": {},
   "outputs": [],
   "source": [
    "correlation = total_train.corr()"
   ]
  },
  {
   "cell_type": "code",
   "execution_count": 2308,
   "metadata": {
    "scrolled": false
   },
   "outputs": [
    {
     "data": {
      "text/plain": [
       "<AxesSubplot:>"
      ]
     },
     "execution_count": 2308,
     "metadata": {},
     "output_type": "execute_result"
    },
    {
     "data": {
      "image/png": "[encoded data removed]",
      "text/plain": [
       "<Figure size 432x288 with 2 Axes>"
      ]
     },
     "metadata": {
      "needs_background": "light"
     },
     "output_type": "display_data"
    }
   ],
   "source": [
    "sns.heatmap(correlation, annot = True, cmap = 'coolwarm')"
   ]
  },
  {
   "cell_type": "markdown",
   "metadata": {},
   "source": [
    "Let's remove strongly correlated columns"
   ]
  },
  {
   "cell_type": "code",
   "execution_count": 2309,
   "metadata": {},
   "outputs": [],
   "source": [
    "total_train.drop(['engineDisplacement', 'modelDate', 'owners_number'], inplace = True, axis = 1)"
   ]
  },
  {
   "cell_type": "code",
   "execution_count": 2310,
   "metadata": {
    "scrolled": true
   },
   "outputs": [
    {
     "data": {
      "text/html": [
       "<div>\n",
       "<style scoped>\n",
       "    .dataframe tbody tr th:only-of-type {\n",
       "        vertical-align: middle;\n",
       "    }\n",
       "\n",
       "    .dataframe tbody tr th {\n",
       "        vertical-align: top;\n",
       "    }\n",
       "\n",
       "    .dataframe thead th {\n",
       "        text-align: right;\n",
       "    }\n",
       "</style>\n",
       "<table border=\"1\" class=\"dataframe\">\n",
       "  <thead>\n",
       "    <tr style=\"text-align: right;\">\n",
       "      <th></th>\n",
       "      <th>bodyType</th>\n",
       "      <th>brand</th>\n",
       "      <th>color</th>\n",
       "      <th>enginePower</th>\n",
       "      <th>fuelType</th>\n",
       "      <th>mileage</th>\n",
       "      <th>numberOfDoors</th>\n",
       "      <th>productionDate</th>\n",
       "      <th>sell_id</th>\n",
       "      <th>vehicleTransmission</th>\n",
       "      <th>vendor</th>\n",
       "      <th>original_registration</th>\n",
       "      <th>gearType</th>\n",
       "      <th>steering_wheel</th>\n",
       "      <th>price</th>\n",
       "      <th>Popular_model</th>\n",
       "    </tr>\n",
       "  </thead>\n",
       "  <tbody>\n",
       "    <tr>\n",
       "      <th>0</th>\n",
       "      <td>MINIVAN</td>\n",
       "      <td>MERCEDES</td>\n",
       "      <td>BLACK</td>\n",
       "      <td>163.0</td>\n",
       "      <td>DIESEL</td>\n",
       "      <td>132000.0</td>\n",
       "      <td>4.0</td>\n",
       "      <td>2013.0</td>\n",
       "      <td>1105117069</td>\n",
       "      <td>MECHANICAL</td>\n",
       "      <td>EUROPEAN</td>\n",
       "      <td>1</td>\n",
       "      <td>REAR_DRIVE</td>\n",
       "      <td>LEFT</td>\n",
       "      <td>14.585657</td>\n",
       "      <td>0</td>\n",
       "    </tr>\n",
       "    <tr>\n",
       "      <th>1</th>\n",
       "      <td>SEDAN</td>\n",
       "      <td>TOYOTA</td>\n",
       "      <td>WHITE</td>\n",
       "      <td>249.0</td>\n",
       "      <td>GASOLINE</td>\n",
       "      <td>1000.0</td>\n",
       "      <td>4.0</td>\n",
       "      <td>2021.0</td>\n",
       "      <td>1105798969</td>\n",
       "      <td>AUTOMATIC</td>\n",
       "      <td>JAPANESE</td>\n",
       "      <td>1</td>\n",
       "      <td>FORWARD_CONTROL</td>\n",
       "      <td>LEFT</td>\n",
       "      <td>15.064817</td>\n",
       "      <td>1</td>\n",
       "    </tr>\n",
       "    <tr>\n",
       "      <th>2</th>\n",
       "      <td>SEDAN</td>\n",
       "      <td>NISSAN</td>\n",
       "      <td>BLUE</td>\n",
       "      <td>102.0</td>\n",
       "      <td>GASOLINE</td>\n",
       "      <td>292000.0</td>\n",
       "      <td>4.0</td>\n",
       "      <td>2018.0</td>\n",
       "      <td>1105194592</td>\n",
       "      <td>MECHANICAL</td>\n",
       "      <td>JAPANESE</td>\n",
       "      <td>1</td>\n",
       "      <td>FORWARD_CONTROL</td>\n",
       "      <td>LEFT</td>\n",
       "      <td>13.150574</td>\n",
       "      <td>1</td>\n",
       "    </tr>\n",
       "    <tr>\n",
       "      <th>3</th>\n",
       "      <td>ALLROAD</td>\n",
       "      <td>LEXUS</td>\n",
       "      <td>BLACK</td>\n",
       "      <td>263.0</td>\n",
       "      <td>HYBRID</td>\n",
       "      <td>1000.0</td>\n",
       "      <td>5.0</td>\n",
       "      <td>2021.0</td>\n",
       "      <td>1104950374</td>\n",
       "      <td>VARIATOR</td>\n",
       "      <td>JAPANESE</td>\n",
       "      <td>1</td>\n",
       "      <td>ALL_WHEEL_DRIVE</td>\n",
       "      <td>LEFT</td>\n",
       "      <td>15.285276</td>\n",
       "      <td>1</td>\n",
       "    </tr>\n",
       "    <tr>\n",
       "      <th>4</th>\n",
       "      <td>LIFTBACK</td>\n",
       "      <td>SKODA</td>\n",
       "      <td>GRAY</td>\n",
       "      <td>150.0</td>\n",
       "      <td>GASOLINE</td>\n",
       "      <td>159000.0</td>\n",
       "      <td>5.0</td>\n",
       "      <td>2007.0</td>\n",
       "      <td>1104636339</td>\n",
       "      <td>AUTOMATIC</td>\n",
       "      <td>EUROPEAN</td>\n",
       "      <td>1</td>\n",
       "      <td>FORWARD_CONTROL</td>\n",
       "      <td>LEFT</td>\n",
       "      <td>12.669602</td>\n",
       "      <td>1</td>\n",
       "    </tr>\n",
       "    <tr>\n",
       "      <th>...</th>\n",
       "      <td>...</td>\n",
       "      <td>...</td>\n",
       "      <td>...</td>\n",
       "      <td>...</td>\n",
       "      <td>...</td>\n",
       "      <td>...</td>\n",
       "      <td>...</td>\n",
       "      <td>...</td>\n",
       "      <td>...</td>\n",
       "      <td>...</td>\n",
       "      <td>...</td>\n",
       "      <td>...</td>\n",
       "      <td>...</td>\n",
       "      <td>...</td>\n",
       "      <td>...</td>\n",
       "      <td>...</td>\n",
       "    </tr>\n",
       "    <tr>\n",
       "      <th>30182</th>\n",
       "      <td>ALLROAD</td>\n",
       "      <td>VOLVO</td>\n",
       "      <td>BLACK</td>\n",
       "      <td>203.0</td>\n",
       "      <td>GASOLINE</td>\n",
       "      <td>138000.0</td>\n",
       "      <td>5.0</td>\n",
       "      <td>2011.0</td>\n",
       "      <td>1105195558</td>\n",
       "      <td>ROBOT</td>\n",
       "      <td>EUROPEAN</td>\n",
       "      <td>1</td>\n",
       "      <td>FORWARD_CONTROL</td>\n",
       "      <td>LEFT</td>\n",
       "      <td>13.888172</td>\n",
       "      <td>0</td>\n",
       "    </tr>\n",
       "    <tr>\n",
       "      <th>30183</th>\n",
       "      <td>SEDAN</td>\n",
       "      <td>VOLVO</td>\n",
       "      <td>BLACK</td>\n",
       "      <td>200.0</td>\n",
       "      <td>GASOLINE</td>\n",
       "      <td>218000.0</td>\n",
       "      <td>4.0</td>\n",
       "      <td>2000.0</td>\n",
       "      <td>1105894343</td>\n",
       "      <td>AUTOMATIC</td>\n",
       "      <td>EUROPEAN</td>\n",
       "      <td>1</td>\n",
       "      <td>FORWARD_CONTROL</td>\n",
       "      <td>LEFT</td>\n",
       "      <td>12.844543</td>\n",
       "      <td>0</td>\n",
       "    </tr>\n",
       "    <tr>\n",
       "      <th>30184</th>\n",
       "      <td>SEDAN</td>\n",
       "      <td>VOLVO</td>\n",
       "      <td>BLACK</td>\n",
       "      <td>140.0</td>\n",
       "      <td>GASOLINE</td>\n",
       "      <td>350000.0</td>\n",
       "      <td>4.0</td>\n",
       "      <td>2008.0</td>\n",
       "      <td>1105975953</td>\n",
       "      <td>AUTOMATIC</td>\n",
       "      <td>EUROPEAN</td>\n",
       "      <td>1</td>\n",
       "      <td>FORWARD_CONTROL</td>\n",
       "      <td>LEFT</td>\n",
       "      <td>13.347933</td>\n",
       "      <td>0</td>\n",
       "    </tr>\n",
       "    <tr>\n",
       "      <th>30185</th>\n",
       "      <td>SEDAN</td>\n",
       "      <td>VOLVO</td>\n",
       "      <td>BLUE</td>\n",
       "      <td>170.0</td>\n",
       "      <td>GASOLINE</td>\n",
       "      <td>351000.0</td>\n",
       "      <td>4.0</td>\n",
       "      <td>2004.0</td>\n",
       "      <td>1105448320</td>\n",
       "      <td>AUTOMATIC</td>\n",
       "      <td>EUROPEAN</td>\n",
       "      <td>1</td>\n",
       "      <td>FORWARD_CONTROL</td>\n",
       "      <td>LEFT</td>\n",
       "      <td>12.832121</td>\n",
       "      <td>0</td>\n",
       "    </tr>\n",
       "    <tr>\n",
       "      <th>30186</th>\n",
       "      <td>ALLROAD</td>\n",
       "      <td>VOLVO</td>\n",
       "      <td>GRAY</td>\n",
       "      <td>272.0</td>\n",
       "      <td>GASOLINE</td>\n",
       "      <td>264000.0</td>\n",
       "      <td>5.0</td>\n",
       "      <td>2003.0</td>\n",
       "      <td>1105848561</td>\n",
       "      <td>AUTOMATIC</td>\n",
       "      <td>EUROPEAN</td>\n",
       "      <td>0</td>\n",
       "      <td>ALL_WHEEL_DRIVE</td>\n",
       "      <td>LEFT</td>\n",
       "      <td>13.094484</td>\n",
       "      <td>1</td>\n",
       "    </tr>\n",
       "  </tbody>\n",
       "</table>\n",
       "<p>33841 rows × 16 columns</p>\n",
       "</div>"
      ],
      "text/plain": [
       "       bodyType     brand  color  enginePower  fuelType   mileage  \\\n",
       "0       MINIVAN  MERCEDES  BLACK        163.0    DIESEL  132000.0   \n",
       "1         SEDAN    TOYOTA  WHITE        249.0  GASOLINE    1000.0   \n",
       "2         SEDAN    NISSAN   BLUE        102.0  GASOLINE  292000.0   \n",
       "3       ALLROAD     LEXUS  BLACK        263.0    HYBRID    1000.0   \n",
       "4      LIFTBACK     SKODA   GRAY        150.0  GASOLINE  159000.0   \n",
       "...         ...       ...    ...          ...       ...       ...   \n",
       "30182   ALLROAD     VOLVO  BLACK        203.0  GASOLINE  138000.0   \n",
       "30183     SEDAN     VOLVO  BLACK        200.0  GASOLINE  218000.0   \n",
       "30184     SEDAN     VOLVO  BLACK        140.0  GASOLINE  350000.0   \n",
       "30185     SEDAN     VOLVO   BLUE        170.0  GASOLINE  351000.0   \n",
       "30186   ALLROAD     VOLVO   GRAY        272.0  GASOLINE  264000.0   \n",
       "\n",
       "       numberOfDoors  productionDate     sell_id vehicleTransmission  \\\n",
       "0                4.0          2013.0  1105117069          MECHANICAL   \n",
       "1                4.0          2021.0  1105798969           AUTOMATIC   \n",
       "2                4.0          2018.0  1105194592          MECHANICAL   \n",
       "3                5.0          2021.0  1104950374            VARIATOR   \n",
       "4                5.0          2007.0  1104636339           AUTOMATIC   \n",
       "...              ...             ...         ...                 ...   \n",
       "30182            5.0          2011.0  1105195558               ROBOT   \n",
       "30183            4.0          2000.0  1105894343           AUTOMATIC   \n",
       "30184            4.0          2008.0  1105975953           AUTOMATIC   \n",
       "30185            4.0          2004.0  1105448320           AUTOMATIC   \n",
       "30186            5.0          2003.0  1105848561           AUTOMATIC   \n",
       "\n",
       "         vendor  original_registration         gearType steering_wheel  \\\n",
       "0      EUROPEAN                      1       REAR_DRIVE           LEFT   \n",
       "1      JAPANESE                      1  FORWARD_CONTROL           LEFT   \n",
       "2      JAPANESE                      1  FORWARD_CONTROL           LEFT   \n",
       "3      JAPANESE                      1  ALL_WHEEL_DRIVE           LEFT   \n",
       "4      EUROPEAN                      1  FORWARD_CONTROL           LEFT   \n",
       "...         ...                    ...              ...            ...   \n",
       "30182  EUROPEAN                      1  FORWARD_CONTROL           LEFT   \n",
       "30183  EUROPEAN                      1  FORWARD_CONTROL           LEFT   \n",
       "30184  EUROPEAN                      1  FORWARD_CONTROL           LEFT   \n",
       "30185  EUROPEAN                      1  FORWARD_CONTROL           LEFT   \n",
       "30186  EUROPEAN                      0  ALL_WHEEL_DRIVE           LEFT   \n",
       "\n",
       "           price  Popular_model  \n",
       "0      14.585657              0  \n",
       "1      15.064817              1  \n",
       "2      13.150574              1  \n",
       "3      15.285276              1  \n",
       "4      12.669602              1  \n",
       "...          ...            ...  \n",
       "30182  13.888172              0  \n",
       "30183  12.844543              0  \n",
       "30184  13.347933              0  \n",
       "30185  12.832121              0  \n",
       "30186  13.094484              1  \n",
       "\n",
       "[33841 rows x 16 columns]"
      ]
     },
     "execution_count": 2310,
     "metadata": {},
     "output_type": "execute_result"
    }
   ],
   "source": [
    "total_train"
   ]
  },
  {
   "cell_type": "code",
   "execution_count": 2311,
   "metadata": {
    "scrolled": true
   },
   "outputs": [
    {
     "data": {
      "text/html": [
       "<div>\n",
       "<style scoped>\n",
       "    .dataframe tbody tr th:only-of-type {\n",
       "        vertical-align: middle;\n",
       "    }\n",
       "\n",
       "    .dataframe tbody tr th {\n",
       "        vertical-align: top;\n",
       "    }\n",
       "\n",
       "    .dataframe thead th {\n",
       "        text-align: right;\n",
       "    }\n",
       "</style>\n",
       "<table border=\"1\" class=\"dataframe\">\n",
       "  <thead>\n",
       "    <tr style=\"text-align: right;\">\n",
       "      <th></th>\n",
       "      <th>enginePower</th>\n",
       "      <th>mileage</th>\n",
       "      <th>numberOfDoors</th>\n",
       "      <th>productionDate</th>\n",
       "      <th>sell_id</th>\n",
       "      <th>original_registration</th>\n",
       "      <th>price</th>\n",
       "      <th>Popular_model</th>\n",
       "      <th>bodyType_ALLROAD</th>\n",
       "      <th>bodyType_ALLROAD_OPEN</th>\n",
       "      <th>...</th>\n",
       "      <th>vehicleTransmission_ROBOT</th>\n",
       "      <th>vehicleTransmission_VARIATOR</th>\n",
       "      <th>vendor_AMERICAN</th>\n",
       "      <th>vendor_EUROPEAN</th>\n",
       "      <th>vendor_JAPANESE</th>\n",
       "      <th>gearType_ALL_WHEEL_DRIVE</th>\n",
       "      <th>gearType_FORWARD_CONTROL</th>\n",
       "      <th>gearType_REAR_DRIVE</th>\n",
       "      <th>steering_wheel_LEFT</th>\n",
       "      <th>steering_wheel_RIGHT</th>\n",
       "    </tr>\n",
       "  </thead>\n",
       "  <tbody>\n",
       "    <tr>\n",
       "      <th>0</th>\n",
       "      <td>163.0</td>\n",
       "      <td>132000.0</td>\n",
       "      <td>4.0</td>\n",
       "      <td>2013.0</td>\n",
       "      <td>1105117069</td>\n",
       "      <td>1</td>\n",
       "      <td>14.585657</td>\n",
       "      <td>0</td>\n",
       "      <td>0</td>\n",
       "      <td>0</td>\n",
       "      <td>...</td>\n",
       "      <td>0</td>\n",
       "      <td>0</td>\n",
       "      <td>0</td>\n",
       "      <td>1</td>\n",
       "      <td>0</td>\n",
       "      <td>0</td>\n",
       "      <td>0</td>\n",
       "      <td>1</td>\n",
       "      <td>1</td>\n",
       "      <td>0</td>\n",
       "    </tr>\n",
       "    <tr>\n",
       "      <th>1</th>\n",
       "      <td>249.0</td>\n",
       "      <td>1000.0</td>\n",
       "      <td>4.0</td>\n",
       "      <td>2021.0</td>\n",
       "      <td>1105798969</td>\n",
       "      <td>1</td>\n",
       "      <td>15.064817</td>\n",
       "      <td>1</td>\n",
       "      <td>0</td>\n",
       "      <td>0</td>\n",
       "      <td>...</td>\n",
       "      <td>0</td>\n",
       "      <td>0</td>\n",
       "      <td>0</td>\n",
       "      <td>0</td>\n",
       "      <td>1</td>\n",
       "      <td>0</td>\n",
       "      <td>1</td>\n",
       "      <td>0</td>\n",
       "      <td>1</td>\n",
       "      <td>0</td>\n",
       "    </tr>\n",
       "    <tr>\n",
       "      <th>2</th>\n",
       "      <td>102.0</td>\n",
       "      <td>292000.0</td>\n",
       "      <td>4.0</td>\n",
       "      <td>2018.0</td>\n",
       "      <td>1105194592</td>\n",
       "      <td>1</td>\n",
       "      <td>13.150574</td>\n",
       "      <td>1</td>\n",
       "      <td>0</td>\n",
       "      <td>0</td>\n",
       "      <td>...</td>\n",
       "      <td>0</td>\n",
       "      <td>0</td>\n",
       "      <td>0</td>\n",
       "      <td>0</td>\n",
       "      <td>1</td>\n",
       "      <td>0</td>\n",
       "      <td>1</td>\n",
       "      <td>0</td>\n",
       "      <td>1</td>\n",
       "      <td>0</td>\n",
       "    </tr>\n",
       "    <tr>\n",
       "      <th>3</th>\n",
       "      <td>263.0</td>\n",
       "      <td>1000.0</td>\n",
       "      <td>5.0</td>\n",
       "      <td>2021.0</td>\n",
       "      <td>1104950374</td>\n",
       "      <td>1</td>\n",
       "      <td>15.285276</td>\n",
       "      <td>1</td>\n",
       "      <td>1</td>\n",
       "      <td>0</td>\n",
       "      <td>...</td>\n",
       "      <td>0</td>\n",
       "      <td>1</td>\n",
       "      <td>0</td>\n",
       "      <td>0</td>\n",
       "      <td>1</td>\n",
       "      <td>1</td>\n",
       "      <td>0</td>\n",
       "      <td>0</td>\n",
       "      <td>1</td>\n",
       "      <td>0</td>\n",
       "    </tr>\n",
       "    <tr>\n",
       "      <th>4</th>\n",
       "      <td>150.0</td>\n",
       "      <td>159000.0</td>\n",
       "      <td>5.0</td>\n",
       "      <td>2007.0</td>\n",
       "      <td>1104636339</td>\n",
       "      <td>1</td>\n",
       "      <td>12.669602</td>\n",
       "      <td>1</td>\n",
       "      <td>0</td>\n",
       "      <td>0</td>\n",
       "      <td>...</td>\n",
       "      <td>0</td>\n",
       "      <td>0</td>\n",
       "      <td>0</td>\n",
       "      <td>1</td>\n",
       "      <td>0</td>\n",
       "      <td>0</td>\n",
       "      <td>1</td>\n",
       "      <td>0</td>\n",
       "      <td>1</td>\n",
       "      <td>0</td>\n",
       "    </tr>\n",
       "    <tr>\n",
       "      <th>...</th>\n",
       "      <td>...</td>\n",
       "      <td>...</td>\n",
       "      <td>...</td>\n",
       "      <td>...</td>\n",
       "      <td>...</td>\n",
       "      <td>...</td>\n",
       "      <td>...</td>\n",
       "      <td>...</td>\n",
       "      <td>...</td>\n",
       "      <td>...</td>\n",
       "      <td>...</td>\n",
       "      <td>...</td>\n",
       "      <td>...</td>\n",
       "      <td>...</td>\n",
       "      <td>...</td>\n",
       "      <td>...</td>\n",
       "      <td>...</td>\n",
       "      <td>...</td>\n",
       "      <td>...</td>\n",
       "      <td>...</td>\n",
       "      <td>...</td>\n",
       "    </tr>\n",
       "    <tr>\n",
       "      <th>30182</th>\n",
       "      <td>203.0</td>\n",
       "      <td>138000.0</td>\n",
       "      <td>5.0</td>\n",
       "      <td>2011.0</td>\n",
       "      <td>1105195558</td>\n",
       "      <td>1</td>\n",
       "      <td>13.888172</td>\n",
       "      <td>0</td>\n",
       "      <td>1</td>\n",
       "      <td>0</td>\n",
       "      <td>...</td>\n",
       "      <td>1</td>\n",
       "      <td>0</td>\n",
       "      <td>0</td>\n",
       "      <td>1</td>\n",
       "      <td>0</td>\n",
       "      <td>0</td>\n",
       "      <td>1</td>\n",
       "      <td>0</td>\n",
       "      <td>1</td>\n",
       "      <td>0</td>\n",
       "    </tr>\n",
       "    <tr>\n",
       "      <th>30183</th>\n",
       "      <td>200.0</td>\n",
       "      <td>218000.0</td>\n",
       "      <td>4.0</td>\n",
       "      <td>2000.0</td>\n",
       "      <td>1105894343</td>\n",
       "      <td>1</td>\n",
       "      <td>12.844543</td>\n",
       "      <td>0</td>\n",
       "      <td>0</td>\n",
       "      <td>0</td>\n",
       "      <td>...</td>\n",
       "      <td>0</td>\n",
       "      <td>0</td>\n",
       "      <td>0</td>\n",
       "      <td>1</td>\n",
       "      <td>0</td>\n",
       "      <td>0</td>\n",
       "      <td>1</td>\n",
       "      <td>0</td>\n",
       "      <td>1</td>\n",
       "      <td>0</td>\n",
       "    </tr>\n",
       "    <tr>\n",
       "      <th>30184</th>\n",
       "      <td>140.0</td>\n",
       "      <td>350000.0</td>\n",
       "      <td>4.0</td>\n",
       "      <td>2008.0</td>\n",
       "      <td>1105975953</td>\n",
       "      <td>1</td>\n",
       "      <td>13.347933</td>\n",
       "      <td>0</td>\n",
       "      <td>0</td>\n",
       "      <td>0</td>\n",
       "      <td>...</td>\n",
       "      <td>0</td>\n",
       "      <td>0</td>\n",
       "      <td>0</td>\n",
       "      <td>1</td>\n",
       "      <td>0</td>\n",
       "      <td>0</td>\n",
       "      <td>1</td>\n",
       "      <td>0</td>\n",
       "      <td>1</td>\n",
       "      <td>0</td>\n",
       "    </tr>\n",
       "    <tr>\n",
       "      <th>30185</th>\n",
       "      <td>170.0</td>\n",
       "      <td>351000.0</td>\n",
       "      <td>4.0</td>\n",
       "      <td>2004.0</td>\n",
       "      <td>1105448320</td>\n",
       "      <td>1</td>\n",
       "      <td>12.832121</td>\n",
       "      <td>0</td>\n",
       "      <td>0</td>\n",
       "      <td>0</td>\n",
       "      <td>...</td>\n",
       "      <td>0</td>\n",
       "      <td>0</td>\n",
       "      <td>0</td>\n",
       "      <td>1</td>\n",
       "      <td>0</td>\n",
       "      <td>0</td>\n",
       "      <td>1</td>\n",
       "      <td>0</td>\n",
       "      <td>1</td>\n",
       "      <td>0</td>\n",
       "    </tr>\n",
       "    <tr>\n",
       "      <th>30186</th>\n",
       "      <td>272.0</td>\n",
       "      <td>264000.0</td>\n",
       "      <td>5.0</td>\n",
       "      <td>2003.0</td>\n",
       "      <td>1105848561</td>\n",
       "      <td>0</td>\n",
       "      <td>13.094484</td>\n",
       "      <td>1</td>\n",
       "      <td>1</td>\n",
       "      <td>0</td>\n",
       "      <td>...</td>\n",
       "      <td>0</td>\n",
       "      <td>0</td>\n",
       "      <td>0</td>\n",
       "      <td>1</td>\n",
       "      <td>0</td>\n",
       "      <td>1</td>\n",
       "      <td>0</td>\n",
       "      <td>0</td>\n",
       "      <td>1</td>\n",
       "      <td>0</td>\n",
       "    </tr>\n",
       "  </tbody>\n",
       "</table>\n",
       "<p>33841 rows × 70 columns</p>\n",
       "</div>"
      ],
      "text/plain": [
       "       enginePower   mileage  numberOfDoors  productionDate     sell_id  \\\n",
       "0            163.0  132000.0            4.0          2013.0  1105117069   \n",
       "1            249.0    1000.0            4.0          2021.0  1105798969   \n",
       "2            102.0  292000.0            4.0          2018.0  1105194592   \n",
       "3            263.0    1000.0            5.0          2021.0  1104950374   \n",
       "4            150.0  159000.0            5.0          2007.0  1104636339   \n",
       "...            ...       ...            ...             ...         ...   \n",
       "30182        203.0  138000.0            5.0          2011.0  1105195558   \n",
       "30183        200.0  218000.0            4.0          2000.0  1105894343   \n",
       "30184        140.0  350000.0            4.0          2008.0  1105975953   \n",
       "30185        170.0  351000.0            4.0          2004.0  1105448320   \n",
       "30186        272.0  264000.0            5.0          2003.0  1105848561   \n",
       "\n",
       "       original_registration      price  Popular_model  bodyType_ALLROAD  \\\n",
       "0                          1  14.585657              0                 0   \n",
       "1                          1  15.064817              1                 0   \n",
       "2                          1  13.150574              1                 0   \n",
       "3                          1  15.285276              1                 1   \n",
       "4                          1  12.669602              1                 0   \n",
       "...                      ...        ...            ...               ...   \n",
       "30182                      1  13.888172              0                 1   \n",
       "30183                      1  12.844543              0                 0   \n",
       "30184                      1  13.347933              0                 0   \n",
       "30185                      1  12.832121              0                 0   \n",
       "30186                      0  13.094484              1                 1   \n",
       "\n",
       "       bodyType_ALLROAD_OPEN  ...  vehicleTransmission_ROBOT  \\\n",
       "0                          0  ...                          0   \n",
       "1                          0  ...                          0   \n",
       "2                          0  ...                          0   \n",
       "3                          0  ...                          0   \n",
       "4                          0  ...                          0   \n",
       "...                      ...  ...                        ...   \n",
       "30182                      0  ...                          1   \n",
       "30183                      0  ...                          0   \n",
       "30184                      0  ...                          0   \n",
       "30185                      0  ...                          0   \n",
       "30186                      0  ...                          0   \n",
       "\n",
       "       vehicleTransmission_VARIATOR  vendor_AMERICAN  vendor_EUROPEAN  \\\n",
       "0                                 0                0                1   \n",
       "1                                 0                0                0   \n",
       "2                                 0                0                0   \n",
       "3                                 1                0                0   \n",
       "4                                 0                0                1   \n",
       "...                             ...              ...              ...   \n",
       "30182                             0                0                1   \n",
       "30183                             0                0                1   \n",
       "30184                             0                0                1   \n",
       "30185                             0                0                1   \n",
       "30186                             0                0                1   \n",
       "\n",
       "       vendor_JAPANESE  gearType_ALL_WHEEL_DRIVE  gearType_FORWARD_CONTROL  \\\n",
       "0                    0                         0                         0   \n",
       "1                    1                         0                         1   \n",
       "2                    1                         0                         1   \n",
       "3                    1                         1                         0   \n",
       "4                    0                         0                         1   \n",
       "...                ...                       ...                       ...   \n",
       "30182                0                         0                         1   \n",
       "30183                0                         0                         1   \n",
       "30184                0                         0                         1   \n",
       "30185                0                         0                         1   \n",
       "30186                0                         1                         0   \n",
       "\n",
       "       gearType_REAR_DRIVE  steering_wheel_LEFT  steering_wheel_RIGHT  \n",
       "0                        1                    1                     0  \n",
       "1                        0                    1                     0  \n",
       "2                        0                    1                     0  \n",
       "3                        0                    1                     0  \n",
       "4                        0                    1                     0  \n",
       "...                    ...                  ...                   ...  \n",
       "30182                    0                    1                     0  \n",
       "30183                    0                    1                     0  \n",
       "30184                    0                    1                     0  \n",
       "30185                    0                    1                     0  \n",
       "30186                    0                    1                     0  \n",
       "\n",
       "[33841 rows x 70 columns]"
      ]
     },
     "execution_count": 2311,
     "metadata": {},
     "output_type": "execute_result"
    }
   ],
   "source": [
    "# Let's do one-hot encoding for some columns\n",
    "\n",
    "total_train = pd.get_dummies(total_train, columns=['bodyType', 'brand', 'color', 'fuelType', 'vehicleTransmission', 'vendor', 'gearType', 'steering_wheel'])\n",
    "\n",
    "total_train"
   ]
  },
  {
   "cell_type": "code",
   "execution_count": null,
   "metadata": {},
   "outputs": [],
   "source": []
  }
 ],
 "metadata": {
  "kernelspec": {
   "display_name": "Python 3",
   "language": "python",
   "name": "python3"
  },
  "language_info": {
   "codemirror_mode": {
    "name": "ipython",
    "version": 3
   },
   "file_extension": ".py",
   "mimetype": "text/x-python",
   "name": "python",
   "nbconvert_exporter": "python",
   "pygments_lexer": "ipython3",
   "version": "3.8.5"
  }
 },
 "nbformat": 4,
 "nbformat_minor": 4
}
